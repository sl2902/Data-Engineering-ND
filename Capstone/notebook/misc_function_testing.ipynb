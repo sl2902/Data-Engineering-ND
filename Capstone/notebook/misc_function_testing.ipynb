{
 "cells": [
  {
   "cell_type": "code",
   "execution_count": 200,
   "id": "0b2c155c",
   "metadata": {},
   "outputs": [],
   "source": [
    "import os\n",
    "import sys\n",
    "import glob\n",
    "import boto3\n",
    "import re"
   ]
  },
  {
   "cell_type": "code",
   "execution_count": 2,
   "id": "fcf892df",
   "metadata": {},
   "outputs": [
    {
     "name": "stdout",
     "output_type": "stream",
     "text": [
      "/Users/home/Documents/dend/Data-Engineering-ND/Capstone/notebook\r\n"
     ]
    }
   ],
   "source": [
    "!pwd"
   ]
  },
  {
   "cell_type": "code",
   "execution_count": 18,
   "id": "bb77d481",
   "metadata": {},
   "outputs": [
    {
     "name": "stdout",
     "output_type": "stream",
     "text": [
      ".DS_Store\n",
      "18-83510-I94-Data-2016\n",
      "airport-codes.csv\n",
      "us-cities-demographics.csv\n"
     ]
    }
   ],
   "source": [
    "path = r'/Users/home/Documents/dend/Data-Engineering-ND/Capstone/data'\n",
    "for files in os.listdir(path):\n",
    "    print(files)"
   ]
  },
  {
   "cell_type": "code",
   "execution_count": 9,
   "id": "dc2b75d5",
   "metadata": {},
   "outputs": [
    {
     "name": "stdout",
     "output_type": "stream",
     "text": [
      "/Users/home/Documents/dend/Data-Engineering-ND/Capstone/data/18-83510-I94-Data-2016\n",
      "/Users/home/Documents/dend/Data-Engineering-ND/Capstone/data/airport-codes.csv\n",
      "/Users/home/Documents/dend/Data-Engineering-ND/Capstone/data/us-cities-demographics.csv\n"
     ]
    }
   ],
   "source": [
    "for f in glob.glob(path+\"/*\"):\n",
    "    print(f)"
   ]
  },
  {
   "cell_type": "code",
   "execution_count": 19,
   "id": "39728a13",
   "metadata": {},
   "outputs": [
    {
     "name": "stdout",
     "output_type": "stream",
     "text": [
      "['.DS_Store', 'airport-codes.csv', 'us-cities-demographics.csv']\n",
      "['i94_nov16_sub.sas7bdat', 'i94_dec16_sub.sas7bdat', 'i94_sep16_sub.sas7bdat', 'i94_aug16_sub.sas7bdat', 'i94_may16_sub.sas7bdat', 'i94_jun16_sub.sas7bdat', 'i94_oct16_sub.sas7bdat', 'i94_apr16_sub.sas7bdat', 'i94_jan16_sub.sas7bdat', 'i94_jul16_sub.sas7bdat', 'i94_mar16_sub.sas7bdat', 'i94_feb16_sub.sas7bdat']\n"
     ]
    }
   ],
   "source": [
    "for _, _, f in os.walk(path):\n",
    "    print(f)"
   ]
  },
  {
   "cell_type": "code",
   "execution_count": 17,
   "id": "299543ac",
   "metadata": {},
   "outputs": [
    {
     "data": {
      "text/plain": [
       "'/Users/home/Documents/dend/Data-Engineering-ND/Capstone/data/18-83510-I94-Data-2016'"
      ]
     },
     "execution_count": 17,
     "metadata": {},
     "output_type": "execute_result"
    }
   ],
   "source": [
    "path"
   ]
  },
  {
   "cell_type": "code",
   "execution_count": 80,
   "id": "8e1ad08e",
   "metadata": {},
   "outputs": [],
   "source": [
    "def copy_files(\n",
    "            source_path,\n",
    "            file_ext,\n",
    "            s3_bucket,\n",
    "            s3_sas_key,\n",
    "            src_files=None):\n",
    "    for path,_,files in os.walk(source_path):\n",
    "        try:\n",
    "            for file in files:\n",
    "                if src_files is not None:\n",
    "                    if file.endswith(file_ext) and file in src_files:\n",
    "                        print(file)\n",
    "                    else:\n",
    "                        print(f'File {file} doesnt end with extension {file_ext}')\n",
    "                else:\n",
    "                    if file.endswith(file_ext):\n",
    "                        print(f'Copied file {file} into S3 bucket...')\n",
    "                    else:\n",
    "                        print(f'File {file} doesnt end with extension {file_ext}')\n",
    "\n",
    "        except Exception as e:\n",
    "            print(f'Failed to copy {file} into S3 bucket...')"
   ]
  },
  {
   "cell_type": "code",
   "execution_count": 82,
   "id": "acaaa924",
   "metadata": {},
   "outputs": [
    {
     "name": "stdout",
     "output_type": "stream",
     "text": [
      "File .DS_Store doesnt end with extension sas7bdat\n",
      "File airport-codes.csv doesnt end with extension sas7bdat\n",
      "File us-cities-demographics.csv doesnt end with extension sas7bdat\n",
      "File i94_nov16_sub.sas7bdat doesnt end with extension sas7bdat\n",
      "File i94_dec16_sub.sas7bdat doesnt end with extension sas7bdat\n",
      "File i94_sep16_sub.sas7bdat doesnt end with extension sas7bdat\n",
      "i94_aug16_sub.sas7bdat\n",
      "File i94_may16_sub.sas7bdat doesnt end with extension sas7bdat\n",
      "File i94_jun16_sub.sas7bdat doesnt end with extension sas7bdat\n",
      "File i94_oct16_sub.sas7bdat doesnt end with extension sas7bdat\n",
      "i94_apr16_sub.sas7bdat\n",
      "File i94_jan16_sub.sas7bdat doesnt end with extension sas7bdat\n",
      "File i94_jul16_sub.sas7bdat doesnt end with extension sas7bdat\n",
      "File i94_mar16_sub.sas7bdat doesnt end with extension sas7bdat\n",
      "File i94_feb16_sub.sas7bdat doesnt end with extension sas7bdat\n"
     ]
    }
   ],
   "source": [
    "path = r'/Users/home/Documents/dend/Data-Engineering-ND/Capstone/data'\n",
    "src_files = [\"i94_apr16_sub.sas7bdat\", \"i94_aug16_sub.sas7bdat\"]\n",
    "copy_files(path, 'sas7bdat', 'something', 'anotherthing', src_files)"
   ]
  },
  {
   "cell_type": "code",
   "execution_count": 49,
   "id": "803e35bb",
   "metadata": {},
   "outputs": [
    {
     "data": {
      "text/plain": [
       "True"
      ]
     },
     "execution_count": 49,
     "metadata": {},
     "output_type": "execute_result"
    }
   ],
   "source": [
    "'i94_nov16_sub.sas7bdat'.endswith('sas7bdat')"
   ]
  },
  {
   "cell_type": "code",
   "execution_count": 1,
   "id": "f1f93669",
   "metadata": {},
   "outputs": [],
   "source": [
    "import boto3\n",
    "import configparser\n",
    "import os\n",
    "import time\n",
    "import json"
   ]
  },
  {
   "cell_type": "code",
   "execution_count": 2,
   "id": "88a777ad",
   "metadata": {},
   "outputs": [],
   "source": [
    "def create_client(service, region, access_key_id, secret_access_key):\n",
    "    return boto3.client(service, region_name=region, \n",
    "                aws_access_key_id=access_key_id,\n",
    "                aws_secret_access_key=secret_access_key)"
   ]
  },
  {
   "cell_type": "code",
   "execution_count": 182,
   "id": "9c4afb17",
   "metadata": {},
   "outputs": [],
   "source": [
    "s3_client = create_client('s3',\n",
    "                         region='us-west-2',\n",
    "                         access_key_id='your access key',\n",
    "                         secret_access_key='your secret access key')"
   ]
  },
  {
   "cell_type": "code",
   "execution_count": 87,
   "id": "45b1b84c",
   "metadata": {},
   "outputs": [],
   "source": [
    "def create_s3bucket(bucket_name, s3_client):\n",
    "    s3_client.create_bucket(Bucket=bucket, CreateBucketConfiguration='us-west-2')"
   ]
  },
  {
   "cell_type": "code",
   "execution_count": 215,
   "id": "696a6c8f",
   "metadata": {},
   "outputs": [],
   "source": [
    "def upload_files(s3_client, source_path, bucket_name, key, file_ext='', src_files=None):\n",
    "    pattern = source_path.split('/')[-1]\n",
    "    for path, _, files in os.walk(source_path):\n",
    "        print(path, files)\n",
    "        match=re.search(pattern, path)\n",
    "        try:\n",
    "            for _file in files:\n",
    "                # Added this condition to limit\n",
    "                # the SAS files to only 2 files\n",
    "                if src_files is not None:\n",
    "                    if _file in src_files:\n",
    "                        s3_client.upload_file(Filename=os.path.join(path, _file), Bucket=bucket_name,  Key=os.path.join(key, _file))\n",
    "                        print(f'Copied file {_file} into S3 bucket...')\n",
    "                    else:\n",
    "                        print(f'File {_file} is not in the list specified...')\n",
    "                else:\n",
    "                    if _file.endswith(file_ext):\n",
    "                        s3_client.upload_file(Filename=os.path.join(path, _file), Bucket=bucket_name, \n",
    "                                              Key=os.path.join(key, _file))\n",
    "                        print(f'Copied file {_file} into S3 bucket...')\n",
    "                    else:\n",
    "                        # print(f'File {_file} doesnt end with extension {file_ext}')\n",
    "                        if _file == '.DS_Store': continue\n",
    "                        s3_client.upload_file(os.path.join(path, _file), Bucket=bucket_name,\n",
    "                                              Key=os.path.join(key, path[match.end() + 1:], _file))\n",
    "                        print(f'Copied file {_file} into S3 bucket...')\n",
    "\n",
    "        except Exception as e:\n",
    "            print(f'Failed to copy {_file} into S3 bucket...')\n",
    "            print(e)\n",
    "            "
   ]
  },
  {
   "cell_type": "code",
   "execution_count": 164,
   "id": "c5631114",
   "metadata": {},
   "outputs": [],
   "source": [
    "parser = configparser.ConfigParser()\n",
    "# cfg_rel_path = os.path.dirname(os.path.realpath(__file__))\n",
    "# print(cfg_rel_path)\n",
    "# f = os.path.relpath('/Users/home/Documents/dend/Data-Engineering-ND/Capstone/config/etl_config.cfg', cfg_rel_path)\n",
    "# print(f)\n",
    "cfg = r'/Users/home/Documents/dend/Data-Engineering-ND/Capstone/config/etl_config.cfg'\n",
    "try:\n",
    "    parser.read(cfg)\n",
    "except Exception as e:\n",
    "    print('Cannot find etl_config.cfg file...')\n",
    "    self.log.error('Cannot find etl_config.cfg file...')\n",
    "    raise\n",
    "\n",
    "aws_region = parser['AWS']['aws_region']\n",
    "base_dir = parser['LOCAL']['base_dir']\n",
    "data_dir = parser['LOCAL']['data_dir']\n",
    "dict_dir = parser['LOCAL']['dict_dir']\n",
    "output_dir = parser['LOCAL']['output_dir']\n",
    "log_dir = parser['LOCAL']['log_dir']\n",
    "\n",
    "# base_dir = parser['DOCKER']['base_dir']\n",
    "# data_dir = parser['DOCKER']['data_dir']\n",
    "# dict_dir = parser['DOCKER']['dict_dir']\n",
    "\n",
    "data_dir = os.path.join(base_dir, data_dir)\n",
    "dict_dir = os.path.join(base_dir, dict_dir)\n",
    "log_dir = os.path.join(base_dir, log_dir)\n",
    "output_dir = os.path.join(base_dir, output_dir)\n",
    "# files = json.loads(parser['LOCAL']['input_files'])\n",
    "files = json.loads(parser['DOCKER']['input_files'])\n",
    "\n",
    "s3_bucket = parser['S3']['s3_bucket']\n",
    "s3_sas_key = parser['S3']['s3_sas_key']\n",
    "s3_csv_key = parser['S3']['s3_csv_key']\n",
    "s3_dict_key = parser['S3']['s3_dict_key']\n",
    "s3_output_key = parser['S3']['s3_output_key']\n",
    "s3_log_key = parser['S3']['S3_log_key']"
   ]
  },
  {
   "cell_type": "code",
   "execution_count": 108,
   "id": "3f3035f1",
   "metadata": {},
   "outputs": [],
   "source": [
    "# path = r'/Users/home/Documents/dend/Data-Engineering-ND/Capstone/data'\n",
    "# src_files = [\"i94_apr16_sub.sas7bdat\", \"i94_aug16_sub.sas7bdat\"]\n",
    "# upload_files(\n",
    "#     s3_client,\n",
    "#     dict_dir,\n",
    "#     'SAS',\n",
    "#     s3_bucket,\n",
    "#     s3_dict_key\n",
    "# )"
   ]
  },
  {
   "cell_type": "code",
   "execution_count": 109,
   "id": "fff4b7e3",
   "metadata": {},
   "outputs": [],
   "source": [
    "# upload_files(\n",
    "#     s3_client,\n",
    "#     log_dir,\n",
    "#     s3_bucket,\n",
    "#     s3_log_key,\n",
    "#     file_ext='log'\n",
    "# )"
   ]
  },
  {
   "cell_type": "code",
   "execution_count": 110,
   "id": "2c9bfb07",
   "metadata": {},
   "outputs": [
    {
     "name": "stdout",
     "output_type": "stream",
     "text": [
      "/Users/home/Documents/dend/Data-Engineering-ND/Capstone/output/i94_visa ['.part-00005-aa20cb3d-5020-4a74-971c-96504130b654-c000.csv.crc', 'part-00000-aa20cb3d-5020-4a74-971c-96504130b654-c000.csv', '._SUCCESS.crc', '.part-00010-aa20cb3d-5020-4a74-971c-96504130b654-c000.csv.crc', 'part-00015-aa20cb3d-5020-4a74-971c-96504130b654-c000.csv', 'part-00005-aa20cb3d-5020-4a74-971c-96504130b654-c000.csv', '.part-00015-aa20cb3d-5020-4a74-971c-96504130b654-c000.csv.crc', '_SUCCESS', 'part-00010-aa20cb3d-5020-4a74-971c-96504130b654-c000.csv', '.part-00000-aa20cb3d-5020-4a74-971c-96504130b654-c000.csv.crc']\n",
      "Copied file .part-00005-aa20cb3d-5020-4a74-971c-96504130b654-c000.csv.crc into S3 bucket...\n",
      "Copied file part-00000-aa20cb3d-5020-4a74-971c-96504130b654-c000.csv into S3 bucket...\n",
      "Copied file ._SUCCESS.crc into S3 bucket...\n",
      "Copied file .part-00010-aa20cb3d-5020-4a74-971c-96504130b654-c000.csv.crc into S3 bucket...\n",
      "Copied file part-00015-aa20cb3d-5020-4a74-971c-96504130b654-c000.csv into S3 bucket...\n",
      "Copied file part-00005-aa20cb3d-5020-4a74-971c-96504130b654-c000.csv into S3 bucket...\n",
      "Copied file .part-00015-aa20cb3d-5020-4a74-971c-96504130b654-c000.csv.crc into S3 bucket...\n",
      "Copied file _SUCCESS into S3 bucket...\n",
      "Copied file part-00010-aa20cb3d-5020-4a74-971c-96504130b654-c000.csv into S3 bucket...\n",
      "Copied file .part-00000-aa20cb3d-5020-4a74-971c-96504130b654-c000.csv.crc into S3 bucket...\n"
     ]
    }
   ],
   "source": [
    "upload_files(\n",
    "    s3_client=s3_client,\n",
    "    source_path=os.path.join(output_dir, 'i94_visa'),\n",
    "    file_ext='ignore',\n",
    "    bucket_name=s3_bucket,\n",
    "    key=s3_output_key,\n",
    ")"
   ]
  },
  {
   "cell_type": "code",
   "execution_count": 90,
   "id": "fcb9e751",
   "metadata": {},
   "outputs": [
    {
     "data": {
      "text/plain": [
       "'/Users/home/Documents/dend/Data-Engineering-ND/Capstone/output/i94_visa'"
      ]
     },
     "execution_count": 90,
     "metadata": {},
     "output_type": "execute_result"
    }
   ],
   "source": [
    "os.path.join(output_dir, 'i94_visa')"
   ]
  },
  {
   "cell_type": "code",
   "execution_count": 170,
   "id": "bb2ccfac",
   "metadata": {},
   "outputs": [
    {
     "name": "stdout",
     "output_type": "stream",
     "text": [
      "Bucket immigrations-analytics doesn't exist...\n"
     ]
    }
   ],
   "source": [
    "s3 = boto3.resource('s3', aws_access_key_id='your access key',\n",
    "         aws_secret_access_key= 'your secret access key',\n",
    "                   region_name=aws_region)\n",
    "\n",
    "try:\n",
    "    s3.meta.client.head_bucket(Bucket=s3_bucket)\n",
    "    print(f\"S3 bucket {s3_bucket_name} exists...\")\n",
    "except Exception as e:\n",
    "    print(f\"Bucket {s3_bucket} doesn't exist...\")"
   ]
  },
  {
   "cell_type": "code",
   "execution_count": 168,
   "id": "2a9349d7",
   "metadata": {},
   "outputs": [],
   "source": [
    "bucket = s3.Bucket(s3_bucket)"
   ]
  },
  {
   "cell_type": "code",
   "execution_count": 169,
   "id": "d3632b35",
   "metadata": {},
   "outputs": [
    {
     "data": {
      "text/plain": [
       "s3.Bucket(name='immigrations-analytics')"
      ]
     },
     "execution_count": 169,
     "metadata": {},
     "output_type": "execute_result"
    }
   ],
   "source": [
    "bucket"
   ]
  },
  {
   "cell_type": "code",
   "execution_count": 171,
   "id": "b500cccf",
   "metadata": {},
   "outputs": [],
   "source": [
    "try:\n",
    "    r = s3_client.get_object(Bucket=s3_bucket, Key='config/etl_config.cfg')\n",
    "except Exception as e:\n",
    "    print(e)"
   ]
  },
  {
   "cell_type": "code",
   "execution_count": 172,
   "id": "3e75e10b",
   "metadata": {},
   "outputs": [
    {
     "data": {
      "text/plain": [
       "{'ResponseMetadata': {'RequestId': 'CZWRNZM4R920HABG',\n",
       "  'HostId': 'srYrvgdmC2ERucchURaM6TDOFCHEt9wJYtSU3tc0+mr0x360VrCN/k3LyrYR5MW9l4swQT1bZ8Q=',\n",
       "  'HTTPStatusCode': 200,\n",
       "  'HTTPHeaders': {'x-amz-id-2': 'srYrvgdmC2ERucchURaM6TDOFCHEt9wJYtSU3tc0+mr0x360VrCN/k3LyrYR5MW9l4swQT1bZ8Q=',\n",
       "   'x-amz-request-id': 'CZWRNZM4R920HABG',\n",
       "   'date': 'Sun, 09 May 2021 08:15:22 GMT',\n",
       "   'last-modified': 'Sun, 09 May 2021 08:00:28 GMT',\n",
       "   'etag': '\"c18253d8fee209e0f14c55caff2f014f\"',\n",
       "   'accept-ranges': 'bytes',\n",
       "   'content-type': 'binary/octet-stream',\n",
       "   'content-length': '1624',\n",
       "   'server': 'AmazonS3'},\n",
       "  'RetryAttempts': 0},\n",
       " 'AcceptRanges': 'bytes',\n",
       " 'LastModified': datetime.datetime(2021, 5, 9, 8, 0, 28, tzinfo=tzutc()),\n",
       " 'ContentLength': 1624,\n",
       " 'ETag': '\"c18253d8fee209e0f14c55caff2f014f\"',\n",
       " 'ContentType': 'binary/octet-stream',\n",
       " 'Metadata': {},\n",
       " 'Body': <botocore.response.StreamingBody at 0x7face3607f60>}"
      ]
     },
     "execution_count": 172,
     "metadata": {},
     "output_type": "execute_result"
    }
   ],
   "source": [
    "r"
   ]
  },
  {
   "cell_type": "code",
   "execution_count": 186,
   "id": "344c6c28",
   "metadata": {},
   "outputs": [],
   "source": [
    "# as s3.meta.client.head_bucket API is working incorrectly\n",
    "def create_s3_bucket(s3_client, bucket_name, region='us-west-2'):\n",
    "    \"\"\"\n",
    "    Create an s3 bucket\n",
    "    :params s3_client: An S3 client object\n",
    "    :params bucket_name: A unique bucket\n",
    "    :params region: A valid AWS region\n",
    "    Returns - None\n",
    "    \"\"\"\n",
    "    try:\n",
    "        s3_client.create_bucket(Bucket=bucket_name,\n",
    "                                CreateBucketConfiguration={'LocationConstraint': region})\n",
    "    except Exception as e:\n",
    "        print('Bucket creation has failed...')\n",
    "        print(e)\n",
    "        raise"
   ]
  },
  {
   "cell_type": "code",
   "execution_count": 187,
   "id": "7fc8dfa3",
   "metadata": {},
   "outputs": [
    {
     "name": "stdout",
     "output_type": "stream",
     "text": [
      "Bucket creation has failed...\n",
      "An error occurred (BucketAlreadyOwnedByYou) when calling the CreateBucket operation: Your previous request to create the named bucket succeeded and you already own it.\n"
     ]
    },
    {
     "ename": "BucketAlreadyOwnedByYou",
     "evalue": "An error occurred (BucketAlreadyOwnedByYou) when calling the CreateBucket operation: Your previous request to create the named bucket succeeded and you already own it.",
     "output_type": "error",
     "traceback": [
      "\u001b[0;31m---------------------------------------------------------------------------\u001b[0m",
      "\u001b[0;31mBucketAlreadyOwnedByYou\u001b[0m                   Traceback (most recent call last)",
      "\u001b[0;32m<ipython-input-187-b3eade745383>\u001b[0m in \u001b[0;36m<module>\u001b[0;34m\u001b[0m\n\u001b[0;32m----> 1\u001b[0;31m \u001b[0mcreate_s3_bucket\u001b[0m\u001b[0;34m(\u001b[0m\u001b[0ms3_client\u001b[0m\u001b[0;34m,\u001b[0m \u001b[0ms3_bucket\u001b[0m\u001b[0;34m)\u001b[0m\u001b[0;34m\u001b[0m\u001b[0;34m\u001b[0m\u001b[0m\n\u001b[0m",
      "\u001b[0;32m<ipython-input-186-f411636e48f7>\u001b[0m in \u001b[0;36mcreate_s3_bucket\u001b[0;34m(s3_client, bucket_name, region)\u001b[0m\n\u001b[1;32m     10\u001b[0m     \u001b[0;32mtry\u001b[0m\u001b[0;34m:\u001b[0m\u001b[0;34m\u001b[0m\u001b[0;34m\u001b[0m\u001b[0m\n\u001b[1;32m     11\u001b[0m         s3_client.create_bucket(Bucket=bucket_name,\n\u001b[0;32m---> 12\u001b[0;31m                                 CreateBucketConfiguration={'LocationConstraint': region})\n\u001b[0m\u001b[1;32m     13\u001b[0m     \u001b[0;32mexcept\u001b[0m \u001b[0mException\u001b[0m \u001b[0;32mas\u001b[0m \u001b[0me\u001b[0m\u001b[0;34m:\u001b[0m\u001b[0;34m\u001b[0m\u001b[0;34m\u001b[0m\u001b[0m\n\u001b[1;32m     14\u001b[0m         \u001b[0mprint\u001b[0m\u001b[0;34m(\u001b[0m\u001b[0;34m'Bucket creation has failed...'\u001b[0m\u001b[0;34m)\u001b[0m\u001b[0;34m\u001b[0m\u001b[0;34m\u001b[0m\u001b[0m\n",
      "\u001b[0;32m~/anaconda3/envs/dend/lib/python3.6/site-packages/botocore/client.py\u001b[0m in \u001b[0;36m_api_call\u001b[0;34m(self, *args, **kwargs)\u001b[0m\n\u001b[1;32m    312\u001b[0m                     \"%s() only accepts keyword arguments.\" % py_operation_name)\n\u001b[1;32m    313\u001b[0m             \u001b[0;31m# The \"self\" in this scope is referring to the BaseClient.\u001b[0m\u001b[0;34m\u001b[0m\u001b[0;34m\u001b[0m\u001b[0;34m\u001b[0m\u001b[0m\n\u001b[0;32m--> 314\u001b[0;31m             \u001b[0;32mreturn\u001b[0m \u001b[0mself\u001b[0m\u001b[0;34m.\u001b[0m\u001b[0m_make_api_call\u001b[0m\u001b[0;34m(\u001b[0m\u001b[0moperation_name\u001b[0m\u001b[0;34m,\u001b[0m \u001b[0mkwargs\u001b[0m\u001b[0;34m)\u001b[0m\u001b[0;34m\u001b[0m\u001b[0;34m\u001b[0m\u001b[0m\n\u001b[0m\u001b[1;32m    315\u001b[0m \u001b[0;34m\u001b[0m\u001b[0m\n\u001b[1;32m    316\u001b[0m         \u001b[0m_api_call\u001b[0m\u001b[0;34m.\u001b[0m\u001b[0m__name__\u001b[0m \u001b[0;34m=\u001b[0m \u001b[0mstr\u001b[0m\u001b[0;34m(\u001b[0m\u001b[0mpy_operation_name\u001b[0m\u001b[0;34m)\u001b[0m\u001b[0;34m\u001b[0m\u001b[0;34m\u001b[0m\u001b[0m\n",
      "\u001b[0;32m~/anaconda3/envs/dend/lib/python3.6/site-packages/botocore/client.py\u001b[0m in \u001b[0;36m_make_api_call\u001b[0;34m(self, operation_name, api_params)\u001b[0m\n\u001b[1;32m    610\u001b[0m             \u001b[0merror_code\u001b[0m \u001b[0;34m=\u001b[0m \u001b[0mparsed_response\u001b[0m\u001b[0;34m.\u001b[0m\u001b[0mget\u001b[0m\u001b[0;34m(\u001b[0m\u001b[0;34m\"Error\"\u001b[0m\u001b[0;34m,\u001b[0m \u001b[0;34m{\u001b[0m\u001b[0;34m}\u001b[0m\u001b[0;34m)\u001b[0m\u001b[0;34m.\u001b[0m\u001b[0mget\u001b[0m\u001b[0;34m(\u001b[0m\u001b[0;34m\"Code\"\u001b[0m\u001b[0;34m)\u001b[0m\u001b[0;34m\u001b[0m\u001b[0;34m\u001b[0m\u001b[0m\n\u001b[1;32m    611\u001b[0m             \u001b[0merror_class\u001b[0m \u001b[0;34m=\u001b[0m \u001b[0mself\u001b[0m\u001b[0;34m.\u001b[0m\u001b[0mexceptions\u001b[0m\u001b[0;34m.\u001b[0m\u001b[0mfrom_code\u001b[0m\u001b[0;34m(\u001b[0m\u001b[0merror_code\u001b[0m\u001b[0;34m)\u001b[0m\u001b[0;34m\u001b[0m\u001b[0;34m\u001b[0m\u001b[0m\n\u001b[0;32m--> 612\u001b[0;31m             \u001b[0;32mraise\u001b[0m \u001b[0merror_class\u001b[0m\u001b[0;34m(\u001b[0m\u001b[0mparsed_response\u001b[0m\u001b[0;34m,\u001b[0m \u001b[0moperation_name\u001b[0m\u001b[0;34m)\u001b[0m\u001b[0;34m\u001b[0m\u001b[0;34m\u001b[0m\u001b[0m\n\u001b[0m\u001b[1;32m    613\u001b[0m         \u001b[0;32melse\u001b[0m\u001b[0;34m:\u001b[0m\u001b[0;34m\u001b[0m\u001b[0;34m\u001b[0m\u001b[0m\n\u001b[1;32m    614\u001b[0m             \u001b[0;32mreturn\u001b[0m \u001b[0mparsed_response\u001b[0m\u001b[0;34m\u001b[0m\u001b[0;34m\u001b[0m\u001b[0m\n",
      "\u001b[0;31mBucketAlreadyOwnedByYou\u001b[0m: An error occurred (BucketAlreadyOwnedByYou) when calling the CreateBucket operation: Your previous request to create the named bucket succeeded and you already own it."
     ]
    }
   ],
   "source": [
    "create_s3_bucket(s3_client, s3_bucket)"
   ]
  },
  {
   "cell_type": "code",
   "execution_count": 190,
   "id": "d784f353",
   "metadata": {},
   "outputs": [
    {
     "ename": "ClientError",
     "evalue": "An error occurred (403) when calling the HeadBucket operation: Forbidden",
     "output_type": "error",
     "traceback": [
      "\u001b[0;31m---------------------------------------------------------------------------\u001b[0m",
      "\u001b[0;31mClientError\u001b[0m                               Traceback (most recent call last)",
      "\u001b[0;32m<ipython-input-190-cf2fc8c5b312>\u001b[0m in \u001b[0;36m<module>\u001b[0;34m\u001b[0m\n\u001b[1;32m      1\u001b[0m \u001b[0mc\u001b[0m \u001b[0;34m=\u001b[0m \u001b[0mboto3\u001b[0m\u001b[0;34m.\u001b[0m\u001b[0msession\u001b[0m\u001b[0;34m.\u001b[0m\u001b[0mSession\u001b[0m\u001b[0;34m(\u001b[0m\u001b[0;34m)\u001b[0m\u001b[0;34m\u001b[0m\u001b[0;34m\u001b[0m\u001b[0m\n\u001b[1;32m      2\u001b[0m \u001b[0ms3_resource\u001b[0m \u001b[0;34m=\u001b[0m \u001b[0mc\u001b[0m\u001b[0;34m.\u001b[0m\u001b[0mresource\u001b[0m\u001b[0;34m(\u001b[0m\u001b[0;34m's3'\u001b[0m\u001b[0;34m)\u001b[0m\u001b[0;34m\u001b[0m\u001b[0;34m\u001b[0m\u001b[0m\n\u001b[0;32m----> 3\u001b[0;31m \u001b[0ms3_resource\u001b[0m\u001b[0;34m.\u001b[0m\u001b[0mmeta\u001b[0m\u001b[0;34m.\u001b[0m\u001b[0mclient\u001b[0m\u001b[0;34m.\u001b[0m\u001b[0mhead_bucket\u001b[0m\u001b[0;34m(\u001b[0m\u001b[0mBucket\u001b[0m\u001b[0;34m=\u001b[0m\u001b[0;34m'xsd'\u001b[0m\u001b[0;34m)\u001b[0m\u001b[0;34m\u001b[0m\u001b[0;34m\u001b[0m\u001b[0m\n\u001b[0m",
      "\u001b[0;32m~/anaconda3/envs/dend/lib/python3.6/site-packages/botocore/client.py\u001b[0m in \u001b[0;36m_api_call\u001b[0;34m(self, *args, **kwargs)\u001b[0m\n\u001b[1;32m    312\u001b[0m                     \"%s() only accepts keyword arguments.\" % py_operation_name)\n\u001b[1;32m    313\u001b[0m             \u001b[0;31m# The \"self\" in this scope is referring to the BaseClient.\u001b[0m\u001b[0;34m\u001b[0m\u001b[0;34m\u001b[0m\u001b[0;34m\u001b[0m\u001b[0m\n\u001b[0;32m--> 314\u001b[0;31m             \u001b[0;32mreturn\u001b[0m \u001b[0mself\u001b[0m\u001b[0;34m.\u001b[0m\u001b[0m_make_api_call\u001b[0m\u001b[0;34m(\u001b[0m\u001b[0moperation_name\u001b[0m\u001b[0;34m,\u001b[0m \u001b[0mkwargs\u001b[0m\u001b[0;34m)\u001b[0m\u001b[0;34m\u001b[0m\u001b[0;34m\u001b[0m\u001b[0m\n\u001b[0m\u001b[1;32m    315\u001b[0m \u001b[0;34m\u001b[0m\u001b[0m\n\u001b[1;32m    316\u001b[0m         \u001b[0m_api_call\u001b[0m\u001b[0;34m.\u001b[0m\u001b[0m__name__\u001b[0m \u001b[0;34m=\u001b[0m \u001b[0mstr\u001b[0m\u001b[0;34m(\u001b[0m\u001b[0mpy_operation_name\u001b[0m\u001b[0;34m)\u001b[0m\u001b[0;34m\u001b[0m\u001b[0;34m\u001b[0m\u001b[0m\n",
      "\u001b[0;32m~/anaconda3/envs/dend/lib/python3.6/site-packages/botocore/client.py\u001b[0m in \u001b[0;36m_make_api_call\u001b[0;34m(self, operation_name, api_params)\u001b[0m\n\u001b[1;32m    610\u001b[0m             \u001b[0merror_code\u001b[0m \u001b[0;34m=\u001b[0m \u001b[0mparsed_response\u001b[0m\u001b[0;34m.\u001b[0m\u001b[0mget\u001b[0m\u001b[0;34m(\u001b[0m\u001b[0;34m\"Error\"\u001b[0m\u001b[0;34m,\u001b[0m \u001b[0;34m{\u001b[0m\u001b[0;34m}\u001b[0m\u001b[0;34m)\u001b[0m\u001b[0;34m.\u001b[0m\u001b[0mget\u001b[0m\u001b[0;34m(\u001b[0m\u001b[0;34m\"Code\"\u001b[0m\u001b[0;34m)\u001b[0m\u001b[0;34m\u001b[0m\u001b[0;34m\u001b[0m\u001b[0m\n\u001b[1;32m    611\u001b[0m             \u001b[0merror_class\u001b[0m \u001b[0;34m=\u001b[0m \u001b[0mself\u001b[0m\u001b[0;34m.\u001b[0m\u001b[0mexceptions\u001b[0m\u001b[0;34m.\u001b[0m\u001b[0mfrom_code\u001b[0m\u001b[0;34m(\u001b[0m\u001b[0merror_code\u001b[0m\u001b[0;34m)\u001b[0m\u001b[0;34m\u001b[0m\u001b[0;34m\u001b[0m\u001b[0m\n\u001b[0;32m--> 612\u001b[0;31m             \u001b[0;32mraise\u001b[0m \u001b[0merror_class\u001b[0m\u001b[0;34m(\u001b[0m\u001b[0mparsed_response\u001b[0m\u001b[0;34m,\u001b[0m \u001b[0moperation_name\u001b[0m\u001b[0;34m)\u001b[0m\u001b[0;34m\u001b[0m\u001b[0;34m\u001b[0m\u001b[0m\n\u001b[0m\u001b[1;32m    613\u001b[0m         \u001b[0;32melse\u001b[0m\u001b[0;34m:\u001b[0m\u001b[0;34m\u001b[0m\u001b[0;34m\u001b[0m\u001b[0m\n\u001b[1;32m    614\u001b[0m             \u001b[0;32mreturn\u001b[0m \u001b[0mparsed_response\u001b[0m\u001b[0;34m\u001b[0m\u001b[0;34m\u001b[0m\u001b[0m\n",
      "\u001b[0;31mClientError\u001b[0m: An error occurred (403) when calling the HeadBucket operation: Forbidden"
     ]
    }
   ],
   "source": [
    "c = boto3.session.Session()\n",
    "s3_resource = c.resource('s3')\n",
    "s3_resource.meta.client.head_bucket(Bucket=s3_bucket)"
   ]
  },
  {
   "cell_type": "code",
   "execution_count": 194,
   "id": "f2a8563d",
   "metadata": {},
   "outputs": [
    {
     "data": {
      "text/plain": [
       "True"
      ]
     },
     "execution_count": 194,
     "metadata": {},
     "output_type": "execute_result"
    }
   ],
   "source": [
    "s3.Bucket('sds').creation_date is None"
   ]
  },
  {
   "cell_type": "code",
   "execution_count": 203,
   "id": "2f56a468",
   "metadata": {},
   "outputs": [
    {
     "name": "stdout",
     "output_type": "stream",
     "text": [
      "/Users/home/Documents/dend/Data-Engineering-ND/Capstone/output []\n",
      "/Users/home/Documents/dend/Data-Engineering-ND/Capstone/output/i94_visa ['.part-00005-7344b2f8-15a0-487e-a448-6897e7df747c-c000.csv.crc', 'part-00005-7344b2f8-15a0-487e-a448-6897e7df747c-c000.csv', '._SUCCESS.crc', '.part-00010-7344b2f8-15a0-487e-a448-6897e7df747c-c000.csv.crc', 'part-00010-7344b2f8-15a0-487e-a448-6897e7df747c-c000.csv', 'part-00000-7344b2f8-15a0-487e-a448-6897e7df747c-c000.csv', '.part-00015-7344b2f8-15a0-487e-a448-6897e7df747c-c000.csv.crc', 'part-00015-7344b2f8-15a0-487e-a448-6897e7df747c-c000.csv', '_SUCCESS', '.part-00000-7344b2f8-15a0-487e-a448-6897e7df747c-c000.csv.crc']\n",
      "/Users/home/Documents/dend/Data-Engineering-ND/Capstone/output/i94_flights ['.part-00187-324f9b01-a475-4025-85aa-c880d70039e0-c000.csv.crc', 'part-00198-324f9b01-a475-4025-85aa-c880d70039e0-c000.csv', 'part-00136-324f9b01-a475-4025-85aa-c880d70039e0-c000.csv', 'part-00014-324f9b01-a475-4025-85aa-c880d70039e0-c000.csv', '.part-00158-324f9b01-a475-4025-85aa-c880d70039e0-c000.csv.crc', '.part-00024-324f9b01-a475-4025-85aa-c880d70039e0-c000.csv.crc', '.part-00143-324f9b01-a475-4025-85aa-c880d70039e0-c000.csv.crc', 'part-00148-324f9b01-a475-4025-85aa-c880d70039e0-c000.csv', 'part-00119-324f9b01-a475-4025-85aa-c880d70039e0-c000.csv', 'part-00045-324f9b01-a475-4025-85aa-c880d70039e0-c000.csv', 'part-00167-324f9b01-a475-4025-85aa-c880d70039e0-c000.csv', 'part-00095-324f9b01-a475-4025-85aa-c880d70039e0-c000.csv', '.part-00017-324f9b01-a475-4025-85aa-c880d70039e0-c000.csv.crc', '.part-00170-324f9b01-a475-4025-85aa-c880d70039e0-c000.csv.crc', '.part-00086-324f9b01-a475-4025-85aa-c880d70039e0-c000.csv.crc', 'part-00049-324f9b01-a475-4025-85aa-c880d70039e0-c000.csv', 'part-00115-324f9b01-a475-4025-85aa-c880d70039e0-c000.csv', 'part-00037-324f9b01-a475-4025-85aa-c880d70039e0-c000.csv', 'part-00099-324f9b01-a475-4025-85aa-c880d70039e0-c000.csv', '.part-00125-324f9b01-a475-4025-85aa-c880d70039e0-c000.csv.crc', '.part-00059-324f9b01-a475-4025-85aa-c880d70039e0-c000.csv.crc', '.part-00042-324f9b01-a475-4025-85aa-c880d70039e0-c000.csv.crc', 'part-00194-324f9b01-a475-4025-85aa-c880d70039e0-c000.csv', 'part-00066-324f9b01-a475-4025-85aa-c880d70039e0-c000.csv', 'part-00144-324f9b01-a475-4025-85aa-c880d70039e0-c000.csv', '.part-00116-324f9b01-a475-4025-85aa-c880d70039e0-c000.csv.crc', 'part-00018-324f9b01-a475-4025-85aa-c880d70039e0-c000.csv', '.part-00071-324f9b01-a475-4025-85aa-c880d70039e0-c000.csv.crc', '.part-00087-324f9b01-a475-4025-85aa-c880d70039e0-c000.csv.crc', 'part-00003-324f9b01-a475-4025-85aa-c880d70039e0-c000.csv', '.part-00124-324f9b01-a475-4025-85aa-c880d70039e0-c000.csv.crc', '.part-00058-324f9b01-a475-4025-85aa-c880d70039e0-c000.csv.crc', 'part-00121-324f9b01-a475-4025-85aa-c880d70039e0-c000.csv', '.part-00043-324f9b01-a475-4025-85aa-c880d70039e0-c000.csv.crc', 'part-00170-324f9b01-a475-4025-85aa-c880d70039e0-c000.csv', 'part-00052-324f9b01-a475-4025-85aa-c880d70039e0-c000.csv', '.part-00117-324f9b01-a475-4025-85aa-c880d70039e0-c000.csv.crc', '.part-00070-324f9b01-a475-4025-85aa-c880d70039e0-c000.csv.crc', 'part-00082-324f9b01-a475-4025-85aa-c880d70039e0-c000.csv', '.part-00186-324f9b01-a475-4025-85aa-c880d70039e0-c000.csv.crc', 'part-00020-324f9b01-a475-4025-85aa-c880d70039e0-c000.csv', 'part-00102-324f9b01-a475-4025-85aa-c880d70039e0-c000.csv', '.part-00159-324f9b01-a475-4025-85aa-c880d70039e0-c000.csv.crc', '.part-00025-324f9b01-a475-4025-85aa-c880d70039e0-c000.csv.crc', '.part-00142-324f9b01-a475-4025-85aa-c880d70039e0-c000.csv.crc', 'part-00183-324f9b01-a475-4025-85aa-c880d70039e0-c000.csv', '.part-00016-324f9b01-a475-4025-85aa-c880d70039e0-c000.csv.crc', 'part-00153-324f9b01-a475-4025-85aa-c880d70039e0-c000.csv', 'part-00071-324f9b01-a475-4025-85aa-c880d70039e0-c000.csv', '.part-00171-324f9b01-a475-4025-85aa-c880d70039e0-c000.csv.crc', '.part-00085-324f9b01-a475-4025-85aa-c880d70039e0-c000.csv.crc', 'part-00044-324f9b01-a475-4025-85aa-c880d70039e0-c000.csv', 'part-00166-324f9b01-a475-4025-85aa-c880d70039e0-c000.csv', 'part-00118-324f9b01-a475-4025-85aa-c880d70039e0-c000.csv', 'part-00094-324f9b01-a475-4025-85aa-c880d70039e0-c000.csv', '.part-00126-324f9b01-a475-4025-85aa-c880d70039e0-c000.csv.crc', '.part-00041-324f9b01-a475-4025-85aa-c880d70039e0-c000.csv.crc', 'part-00199-324f9b01-a475-4025-85aa-c880d70039e0-c000.csv', 'part-00149-324f9b01-a475-4025-85aa-c880d70039e0-c000.csv', '.part-00069-324f9b01-a475-4025-85aa-c880d70039e0-c000.csv.crc', '.part-00115-324f9b01-a475-4025-85aa-c880d70039e0-c000.csv.crc', 'part-00137-324f9b01-a475-4025-85aa-c880d70039e0-c000.csv', '.part-00072-324f9b01-a475-4025-85aa-c880d70039e0-c000.csv.crc', 'part-00015-324f9b01-a475-4025-85aa-c880d70039e0-c000.csv', '.part-00184-324f9b01-a475-4025-85aa-c880d70039e0-c000.csv.crc', 'part-00195-324f9b01-a475-4025-85aa-c880d70039e0-c000.csv', 'part-00019-324f9b01-a475-4025-85aa-c880d70039e0-c000.csv', 'part-00067-324f9b01-a475-4025-85aa-c880d70039e0-c000.csv', '.part-00027-324f9b01-a475-4025-85aa-c880d70039e0-c000.csv.crc', '.part-00140-324f9b01-a475-4025-85aa-c880d70039e0-c000.csv.crc', 'part-00145-324f9b01-a475-4025-85aa-c880d70039e0-c000.csv', 'part-00114-324f9b01-a475-4025-85aa-c880d70039e0-c000.csv', 'part-00036-324f9b01-a475-4025-85aa-c880d70039e0-c000.csv', 'part-00048-324f9b01-a475-4025-85aa-c880d70039e0-c000.csv', 'part-00098-324f9b01-a475-4025-85aa-c880d70039e0-c000.csv', '.part-00014-324f9b01-a475-4025-85aa-c880d70039e0-c000.csv.crc', '.part-00168-324f9b01-a475-4025-85aa-c880d70039e0-c000.csv.crc', '.part-00173-324f9b01-a475-4025-85aa-c880d70039e0-c000.csv.crc', '.part-00185-324f9b01-a475-4025-85aa-c880d70039e0-c000.csv.crc', 'part-00171-324f9b01-a475-4025-85aa-c880d70039e0-c000.csv', 'part-00053-324f9b01-a475-4025-85aa-c880d70039e0-c000.csv', 'part-00083-324f9b01-a475-4025-85aa-c880d70039e0-c000.csv', '.part-00026-324f9b01-a475-4025-85aa-c880d70039e0-c000.csv.crc', '.part-00141-324f9b01-a475-4025-85aa-c880d70039e0-c000.csv.crc', 'part-00002-324f9b01-a475-4025-85aa-c880d70039e0-c000.csv', 'part-00120-324f9b01-a475-4025-85aa-c880d70039e0-c000.csv', '.part-00015-324f9b01-a475-4025-85aa-c880d70039e0-c000.csv.crc', '.part-00169-324f9b01-a475-4025-85aa-c880d70039e0-c000.csv.crc', '.part-00172-324f9b01-a475-4025-85aa-c880d70039e0-c000.csv.crc', '.part-00084-324f9b01-a475-4025-85aa-c880d70039e0-c000.csv.crc', 'part-00182-324f9b01-a475-4025-85aa-c880d70039e0-c000.csv', 'part-00152-324f9b01-a475-4025-85aa-c880d70039e0-c000.csv', 'part-00070-324f9b01-a475-4025-85aa-c880d70039e0-c000.csv', '.part-00127-324f9b01-a475-4025-85aa-c880d70039e0-c000.csv.crc', '.part-00040-324f9b01-a475-4025-85aa-c880d70039e0-c000.csv.crc', 'part-00021-324f9b01-a475-4025-85aa-c880d70039e0-c000.csv', 'part-00103-324f9b01-a475-4025-85aa-c880d70039e0-c000.csv', '.part-00068-324f9b01-a475-4025-85aa-c880d70039e0-c000.csv.crc', '.part-00114-324f9b01-a475-4025-85aa-c880d70039e0-c000.csv.crc', '.part-00073-324f9b01-a475-4025-85aa-c880d70039e0-c000.csv.crc', '.part-00156-324f9b01-a475-4025-85aa-c880d70039e0-c000.csv.crc', '.part-00031-324f9b01-a475-4025-85aa-c880d70039e0-c000.csv.crc', '.part-00189-324f9b01-a475-4025-85aa-c880d70039e0-c000.csv.crc', 'part-00169-324f9b01-a475-4025-85aa-c880d70039e0-c000.csv', '.part-00192-324f9b01-a475-4025-85aa-c880d70039e0-c000.csv.crc', 'part-00117-324f9b01-a475-4025-85aa-c880d70039e0-c000.csv', 'part-00035-324f9b01-a475-4025-85aa-c880d70039e0-c000.csv', 'part-00064-324f9b01-a475-4025-85aa-c880d70039e0-c000.csv', 'part-00146-324f9b01-a475-4025-85aa-c880d70039e0-c000.csv', '.part-00019-324f9b01-a475-4025-85aa-c880d70039e0-c000.csv.crc', '.part-00165-324f9b01-a475-4025-85aa-c880d70039e0-c000.csv.crc', 'part-00138-324f9b01-a475-4025-85aa-c880d70039e0-c000.csv', '.part-00002-324f9b01-a475-4025-85aa-c880d70039e0-c000.csv.crc', 'part-00196-324f9b01-a475-4025-85aa-c880d70039e0-c000.csv', 'part-00134-324f9b01-a475-4025-85aa-c880d70039e0-c000.csv', '._SUCCESS.crc', 'part-00016-324f9b01-a475-4025-85aa-c880d70039e0-c000.csv', '.part-00057-324f9b01-a475-4025-85aa-c880d70039e0-c000.csv.crc', 'part-00068-324f9b01-a475-4025-85aa-c880d70039e0-c000.csv', '.part-00130-324f9b01-a475-4025-85aa-c880d70039e0-c000.csv.crc', '.part-00088-324f9b01-a475-4025-85aa-c880d70039e0-c000.csv.crc', '.part-00093-324f9b01-a475-4025-85aa-c880d70039e0-c000.csv.crc', 'part-00097-324f9b01-a475-4025-85aa-c880d70039e0-c000.csv', '.part-00064-324f9b01-a475-4025-85aa-c880d70039e0-c000.csv.crc', '.part-00118-324f9b01-a475-4025-85aa-c880d70039e0-c000.csv.crc', '.part-00103-324f9b01-a475-4025-85aa-c880d70039e0-c000.csv.crc', 'part-00039-324f9b01-a475-4025-85aa-c880d70039e0-c000.csv', 'part-00047-324f9b01-a475-4025-85aa-c880d70039e0-c000.csv', 'part-00165-324f9b01-a475-4025-85aa-c880d70039e0-c000.csv', '.part-00056-324f9b01-a475-4025-85aa-c880d70039e0-c000.csv.crc', '.part-00131-324f9b01-a475-4025-85aa-c880d70039e0-c000.csv.crc', 'part-00022-324f9b01-a475-4025-85aa-c880d70039e0-c000.csv', '.part-00089-324f9b01-a475-4025-85aa-c880d70039e0-c000.csv.crc', 'part-00100-324f9b01-a475-4025-85aa-c880d70039e0-c000.csv', '.part-00092-324f9b01-a475-4025-85aa-c880d70039e0-c000.csv.crc', 'part-00151-324f9b01-a475-4025-85aa-c880d70039e0-c000.csv', '.part-00065-324f9b01-a475-4025-85aa-c880d70039e0-c000.csv.crc', '.part-00119-324f9b01-a475-4025-85aa-c880d70039e0-c000.csv.crc', 'part-00073-324f9b01-a475-4025-85aa-c880d70039e0-c000.csv', '.part-00102-324f9b01-a475-4025-85aa-c880d70039e0-c000.csv.crc', 'part-00181-324f9b01-a475-4025-85aa-c880d70039e0-c000.csv', '.part-00157-324f9b01-a475-4025-85aa-c880d70039e0-c000.csv.crc', 'part-00001-324f9b01-a475-4025-85aa-c880d70039e0-c000.csv', 'part-00123-324f9b01-a475-4025-85aa-c880d70039e0-c000.csv', '.part-00030-324f9b01-a475-4025-85aa-c880d70039e0-c000.csv.crc', '.part-00188-324f9b01-a475-4025-85aa-c880d70039e0-c000.csv.crc', '.part-00193-324f9b01-a475-4025-85aa-c880d70039e0-c000.csv.crc', '.part-00018-324f9b01-a475-4025-85aa-c880d70039e0-c000.csv.crc', '.part-00164-324f9b01-a475-4025-85aa-c880d70039e0-c000.csv.crc', '.part-00003-324f9b01-a475-4025-85aa-c880d70039e0-c000.csv.crc', 'part-00080-324f9b01-a475-4025-85aa-c880d70039e0-c000.csv', 'part-00172-324f9b01-a475-4025-85aa-c880d70039e0-c000.csv', 'part-00050-324f9b01-a475-4025-85aa-c880d70039e0-c000.csv', 'part-00139-324f9b01-a475-4025-85aa-c880d70039e0-c000.csv', '.part-00128-324f9b01-a475-4025-85aa-c880d70039e0-c000.csv.crc', '.part-00054-324f9b01-a475-4025-85aa-c880d70039e0-c000.csv.crc', 'part-00065-324f9b01-a475-4025-85aa-c880d70039e0-c000.csv', '.part-00133-324f9b01-a475-4025-85aa-c880d70039e0-c000.csv.crc', 'part-00147-324f9b01-a475-4025-85aa-c880d70039e0-c000.csv', 'part-00197-324f9b01-a475-4025-85aa-c880d70039e0-c000.csv', '.part-00090-324f9b01-a475-4025-85aa-c880d70039e0-c000.csv.crc', '.part-00067-324f9b01-a475-4025-85aa-c880d70039e0-c000.csv.crc', '.part-00100-324f9b01-a475-4025-85aa-c880d70039e0-c000.csv.crc', 'part-00116-324f9b01-a475-4025-85aa-c880d70039e0-c000.csv', 'part-00034-324f9b01-a475-4025-85aa-c880d70039e0-c000.csv', 'part-00168-324f9b01-a475-4025-85aa-c880d70039e0-c000.csv', '.part-00155-324f9b01-a475-4025-85aa-c880d70039e0-c000.csv.crc', '.part-00029-324f9b01-a475-4025-85aa-c880d70039e0-c000.csv.crc', 'part-00096-324f9b01-a475-4025-85aa-c880d70039e0-c000.csv', '.part-00032-324f9b01-a475-4025-85aa-c880d70039e0-c000.csv.crc', 'part-00046-324f9b01-a475-4025-85aa-c880d70039e0-c000.csv', '.part-00191-324f9b01-a475-4025-85aa-c880d70039e0-c000.csv.crc', 'part-00164-324f9b01-a475-4025-85aa-c880d70039e0-c000.csv', 'part-00038-324f9b01-a475-4025-85aa-c880d70039e0-c000.csv', 'part-00069-324f9b01-a475-4025-85aa-c880d70039e0-c000.csv', 'part-00135-324f9b01-a475-4025-85aa-c880d70039e0-c000.csv', '.part-00166-324f9b01-a475-4025-85aa-c880d70039e0-c000.csv.crc', '.part-00001-324f9b01-a475-4025-85aa-c880d70039e0-c000.csv.crc', 'part-00017-324f9b01-a475-4025-85aa-c880d70039e0-c000.csv', 'part-00150-324f9b01-a475-4025-85aa-c880d70039e0-c000.csv', 'part-00072-324f9b01-a475-4025-85aa-c880d70039e0-c000.csv', '.part-00154-324f9b01-a475-4025-85aa-c880d70039e0-c000.csv.crc', '.part-00028-324f9b01-a475-4025-85aa-c880d70039e0-c000.csv.crc', '.part-00033-324f9b01-a475-4025-85aa-c880d70039e0-c000.csv.crc', '.part-00190-324f9b01-a475-4025-85aa-c880d70039e0-c000.csv.crc', 'part-00180-324f9b01-a475-4025-85aa-c880d70039e0-c000.csv', '.part-00167-324f9b01-a475-4025-85aa-c880d70039e0-c000.csv.crc', '.part-00000-324f9b01-a475-4025-85aa-c880d70039e0-c000.csv.crc', 'part-00023-324f9b01-a475-4025-85aa-c880d70039e0-c000.csv', 'part-00101-324f9b01-a475-4025-85aa-c880d70039e0-c000.csv', 'part-00081-324f9b01-a475-4025-85aa-c880d70039e0-c000.csv', '.part-00129-324f9b01-a475-4025-85aa-c880d70039e0-c000.csv.crc', '.part-00055-324f9b01-a475-4025-85aa-c880d70039e0-c000.csv.crc', '.part-00132-324f9b01-a475-4025-85aa-c880d70039e0-c000.csv.crc', '.part-00091-324f9b01-a475-4025-85aa-c880d70039e0-c000.csv.crc', 'part-00173-324f9b01-a475-4025-85aa-c880d70039e0-c000.csv', 'part-00051-324f9b01-a475-4025-85aa-c880d70039e0-c000.csv', 'part-00000-324f9b01-a475-4025-85aa-c880d70039e0-c000.csv', 'part-00122-324f9b01-a475-4025-85aa-c880d70039e0-c000.csv', '.part-00066-324f9b01-a475-4025-85aa-c880d70039e0-c000.csv.crc', '.part-00101-324f9b01-a475-4025-85aa-c880d70039e0-c000.csv.crc', '.part-00135-324f9b01-a475-4025-85aa-c880d70039e0-c000.csv.crc', '.part-00049-324f9b01-a475-4025-85aa-c880d70039e0-c000.csv.crc', 'part-00174-324f9b01-a475-4025-85aa-c880d70039e0-c000.csv', '.part-00052-324f9b01-a475-4025-85aa-c880d70039e0-c000.csv.crc', 'part-00056-324f9b01-a475-4025-85aa-c880d70039e0-c000.csv', 'part-00028-324f9b01-a475-4025-85aa-c880d70039e0-c000.csv', '.part-00096-324f9b01-a475-4025-85aa-c880d70039e0-c000.csv.crc', 'part-00086-324f9b01-a475-4025-85aa-c880d70039e0-c000.csv', '.part-00106-324f9b01-a475-4025-85aa-c880d70039e0-c000.csv.crc', '.part-00061-324f9b01-a475-4025-85aa-c880d70039e0-c000.csv.crc', 'part-00079-324f9b01-a475-4025-85aa-c880d70039e0-c000.csv', 'part-00007-324f9b01-a475-4025-85aa-c880d70039e0-c000.csv', 'part-00125-324f9b01-a475-4025-85aa-c880d70039e0-c000.csv', '.part-00148-324f9b01-a475-4025-85aa-c880d70039e0-c000.csv.crc', '.part-00034-324f9b01-a475-4025-85aa-c880d70039e0-c000.csv.crc', 'part-00187-324f9b01-a475-4025-85aa-c880d70039e0-c000.csv', '.part-00153-324f9b01-a475-4025-85aa-c880d70039e0-c000.csv.crc', 'part-00129-324f9b01-a475-4025-85aa-c880d70039e0-c000.csv', 'part-00157-324f9b01-a475-4025-85aa-c880d70039e0-c000.csv', '.part-00197-324f9b01-a475-4025-85aa-c880d70039e0-c000.csv.crc', 'part-00075-324f9b01-a475-4025-85aa-c880d70039e0-c000.csv', 'part-00024-324f9b01-a475-4025-85aa-c880d70039e0-c000.csv', '.part-00007-324f9b01-a475-4025-85aa-c880d70039e0-c000.csv.crc', '.part-00160-324f9b01-a475-4025-85aa-c880d70039e0-c000.csv.crc', 'part-00106-324f9b01-a475-4025-85aa-c880d70039e0-c000.csv', 'part-00178-324f9b01-a475-4025-85aa-c880d70039e0-c000.csv', '.part-00149-324f9b01-a475-4025-85aa-c880d70039e0-c000.csv.crc', '.part-00035-324f9b01-a475-4025-85aa-c880d70039e0-c000.csv.crc', '.part-00152-324f9b01-a475-4025-85aa-c880d70039e0-c000.csv.crc', 'part-00041-324f9b01-a475-4025-85aa-c880d70039e0-c000.csv', 'part-00163-324f9b01-a475-4025-85aa-c880d70039e0-c000.csv', 'part-00091-324f9b01-a475-4025-85aa-c880d70039e0-c000.csv', '.part-00196-324f9b01-a475-4025-85aa-c880d70039e0-c000.csv.crc', '.part-00006-324f9b01-a475-4025-85aa-c880d70039e0-c000.csv.crc', '.part-00161-324f9b01-a475-4025-85aa-c880d70039e0-c000.csv.crc', 'part-00132-324f9b01-a475-4025-85aa-c880d70039e0-c000.csv', 'part-00010-324f9b01-a475-4025-85aa-c880d70039e0-c000.csv', '.part-00134-324f9b01-a475-4025-85aa-c880d70039e0-c000.csv.crc', '.part-00048-324f9b01-a475-4025-85aa-c880d70039e0-c000.csv.crc', '.part-00053-324f9b01-a475-4025-85aa-c880d70039e0-c000.csv.crc', 'part-00190-324f9b01-a475-4025-85aa-c880d70039e0-c000.csv', 'part-00062-324f9b01-a475-4025-85aa-c880d70039e0-c000.csv', 'part-00140-324f9b01-a475-4025-85aa-c880d70039e0-c000.csv', '.part-00097-324f9b01-a475-4025-85aa-c880d70039e0-c000.csv.crc', '.part-00107-324f9b01-a475-4025-85aa-c880d70039e0-c000.csv.crc', '.part-00060-324f9b01-a475-4025-85aa-c880d70039e0-c000.csv.crc', 'part-00111-324f9b01-a475-4025-85aa-c880d70039e0-c000.csv', 'part-00033-324f9b01-a475-4025-85aa-c880d70039e0-c000.csv', '.part-00037-324f9b01-a475-4025-85aa-c880d70039e0-c000.csv.crc', '.part-00150-324f9b01-a475-4025-85aa-c880d70039e0-c000.csv.crc', 'part-00006-324f9b01-a475-4025-85aa-c880d70039e0-c000.csv', 'part-00124-324f9b01-a475-4025-85aa-c880d70039e0-c000.csv', '.part-00194-324f9b01-a475-4025-85aa-c880d70039e0-c000.csv.crc', 'part-00078-324f9b01-a475-4025-85aa-c880d70039e0-c000.csv', '.part-00004-324f9b01-a475-4025-85aa-c880d70039e0-c000.csv.crc', '.part-00178-324f9b01-a475-4025-85aa-c880d70039e0-c000.csv.crc', 'part-00029-324f9b01-a475-4025-85aa-c880d70039e0-c000.csv', '.part-00163-324f9b01-a475-4025-85aa-c880d70039e0-c000.csv.crc', 'part-00175-324f9b01-a475-4025-85aa-c880d70039e0-c000.csv', 'part-00057-324f9b01-a475-4025-85aa-c880d70039e0-c000.csv', 'part-00087-324f9b01-a475-4025-85aa-c880d70039e0-c000.csv', '.part-00136-324f9b01-a475-4025-85aa-c880d70039e0-c000.csv.crc', 'part-00179-324f9b01-a475-4025-85aa-c880d70039e0-c000.csv', '.part-00051-324f9b01-a475-4025-85aa-c880d70039e0-c000.csv.crc', 'part-00025-324f9b01-a475-4025-85aa-c880d70039e0-c000.csv', 'part-00107-324f9b01-a475-4025-85aa-c880d70039e0-c000.csv', '.part-00095-324f9b01-a475-4025-85aa-c880d70039e0-c000.csv.crc', '.part-00079-324f9b01-a475-4025-85aa-c880d70039e0-c000.csv.crc', '.part-00105-324f9b01-a475-4025-85aa-c880d70039e0-c000.csv.crc', '.part-00062-324f9b01-a475-4025-85aa-c880d70039e0-c000.csv.crc', 'part-00186-324f9b01-a475-4025-85aa-c880d70039e0-c000.csv', 'part-00156-324f9b01-a475-4025-85aa-c880d70039e0-c000.csv', 'part-00074-324f9b01-a475-4025-85aa-c880d70039e0-c000.csv', 'part-00128-324f9b01-a475-4025-85aa-c880d70039e0-c000.csv', '.part-00137-324f9b01-a475-4025-85aa-c880d70039e0-c000.csv.crc', '.part-00050-324f9b01-a475-4025-85aa-c880d70039e0-c000.csv.crc', '.part-00094-324f9b01-a475-4025-85aa-c880d70039e0-c000.csv.crc', 'part-00133-324f9b01-a475-4025-85aa-c880d70039e0-c000.csv', 'part-00011-324f9b01-a475-4025-85aa-c880d70039e0-c000.csv', 'part-00040-324f9b01-a475-4025-85aa-c880d70039e0-c000.csv', '.part-00078-324f9b01-a475-4025-85aa-c880d70039e0-c000.csv.crc', '.part-00104-324f9b01-a475-4025-85aa-c880d70039e0-c000.csv.crc', 'part-00162-324f9b01-a475-4025-85aa-c880d70039e0-c000.csv', '.part-00063-324f9b01-a475-4025-85aa-c880d70039e0-c000.csv.crc', 'part-00090-324f9b01-a475-4025-85aa-c880d70039e0-c000.csv', '.part-00036-324f9b01-a475-4025-85aa-c880d70039e0-c000.csv.crc', 'part-00110-324f9b01-a475-4025-85aa-c880d70039e0-c000.csv', 'part-00032-324f9b01-a475-4025-85aa-c880d70039e0-c000.csv', '.part-00151-324f9b01-a475-4025-85aa-c880d70039e0-c000.csv.crc', '.part-00195-324f9b01-a475-4025-85aa-c880d70039e0-c000.csv.crc', '.part-00005-324f9b01-a475-4025-85aa-c880d70039e0-c000.csv.crc', '.part-00179-324f9b01-a475-4025-85aa-c880d70039e0-c000.csv.crc', '.part-00162-324f9b01-a475-4025-85aa-c880d70039e0-c000.csv.crc', 'part-00191-324f9b01-a475-4025-85aa-c880d70039e0-c000.csv', 'part-00063-324f9b01-a475-4025-85aa-c880d70039e0-c000.csv', 'part-00141-324f9b01-a475-4025-85aa-c880d70039e0-c000.csv', 'part-00009-324f9b01-a475-4025-85aa-c880d70039e0-c000.csv', 'part-00155-324f9b01-a475-4025-85aa-c880d70039e0-c000.csv', '.part-00098-324f9b01-a475-4025-85aa-c880d70039e0-c000.csv.crc', 'part-00077-324f9b01-a475-4025-85aa-c880d70039e0-c000.csv', '.part-00083-324f9b01-a475-4025-85aa-c880d70039e0-c000.csv.crc', 'part-00185-324f9b01-a475-4025-85aa-c880d70039e0-c000.csv', '.part-00047-324f9b01-a475-4025-85aa-c880d70039e0-c000.csv.crc', '.part-00120-324f9b01-a475-4025-85aa-c880d70039e0-c000.csv.crc', 'part-00088-324f9b01-a475-4025-85aa-c880d70039e0-c000.csv', '.part-00074-324f9b01-a475-4025-85aa-c880d70039e0-c000.csv.crc', '.part-00108-324f9b01-a475-4025-85aa-c880d70039e0-c000.csv.crc', 'part-00026-324f9b01-a475-4025-85aa-c880d70039e0-c000.csv', '.part-00113-324f9b01-a475-4025-85aa-c880d70039e0-c000.csv.crc', 'part-00104-324f9b01-a475-4025-85aa-c880d70039e0-c000.csv', 'part-00058-324f9b01-a475-4025-85aa-c880d70039e0-c000.csv', '_SUCCESS', '.part-00199-324f9b01-a475-4025-85aa-c880d70039e0-c000.csv.crc', 'part-00084-324f9b01-a475-4025-85aa-c880d70039e0-c000.csv', '.part-00182-324f9b01-a475-4025-85aa-c880d70039e0-c000.csv.crc', 'part-00176-324f9b01-a475-4025-85aa-c880d70039e0-c000.csv', '.part-00146-324f9b01-a475-4025-85aa-c880d70039e0-c000.csv.crc', '.part-00021-324f9b01-a475-4025-85aa-c880d70039e0-c000.csv.crc', 'part-00054-324f9b01-a475-4025-85aa-c880d70039e0-c000.csv', 'part-00108-324f9b01-a475-4025-85aa-c880d70039e0-c000.csv', 'part-00159-324f9b01-a475-4025-85aa-c880d70039e0-c000.csv', 'part-00005-324f9b01-a475-4025-85aa-c880d70039e0-c000.csv', 'part-00127-324f9b01-a475-4025-85aa-c880d70039e0-c000.csv', '.part-00009-324f9b01-a475-4025-85aa-c880d70039e0-c000.csv.crc', '.part-00175-324f9b01-a475-4025-85aa-c880d70039e0-c000.csv.crc', '.part-00012-324f9b01-a475-4025-85aa-c880d70039e0-c000.csv.crc', 'part-00189-324f9b01-a475-4025-85aa-c880d70039e0-c000.csv', 'part-00060-324f9b01-a475-4025-85aa-c880d70039e0-c000.csv', 'part-00142-324f9b01-a475-4025-85aa-c880d70039e0-c000.csv', '.part-00198-324f9b01-a475-4025-85aa-c880d70039e0-c000.csv.crc', '.part-00183-324f9b01-a475-4025-85aa-c880d70039e0-c000.csv.crc', '.part-00147-324f9b01-a475-4025-85aa-c880d70039e0-c000.csv.crc', '.part-00020-324f9b01-a475-4025-85aa-c880d70039e0-c000.csv.crc', 'part-00192-324f9b01-a475-4025-85aa-c880d70039e0-c000.csv', '.part-00008-324f9b01-a475-4025-85aa-c880d70039e0-c000.csv.crc', '.part-00174-324f9b01-a475-4025-85aa-c880d70039e0-c000.csv.crc', '.part-00013-324f9b01-a475-4025-85aa-c880d70039e0-c000.csv.crc', 'part-00113-324f9b01-a475-4025-85aa-c880d70039e0-c000.csv', 'part-00031-324f9b01-a475-4025-85aa-c880d70039e0-c000.csv', 'part-00093-324f9b01-a475-4025-85aa-c880d70039e0-c000.csv', '.part-00099-324f9b01-a475-4025-85aa-c880d70039e0-c000.csv.crc', '.part-00082-324f9b01-a475-4025-85aa-c880d70039e0-c000.csv.crc', '.part-00046-324f9b01-a475-4025-85aa-c880d70039e0-c000.csv.crc', '.part-00121-324f9b01-a475-4025-85aa-c880d70039e0-c000.csv.crc', 'part-00043-324f9b01-a475-4025-85aa-c880d70039e0-c000.csv', 'part-00161-324f9b01-a475-4025-85aa-c880d70039e0-c000.csv', 'part-00130-324f9b01-a475-4025-85aa-c880d70039e0-c000.csv', 'part-00012-324f9b01-a475-4025-85aa-c880d70039e0-c000.csv', '.part-00075-324f9b01-a475-4025-85aa-c880d70039e0-c000.csv.crc', '.part-00109-324f9b01-a475-4025-85aa-c880d70039e0-c000.csv.crc', '.part-00112-324f9b01-a475-4025-85aa-c880d70039e0-c000.csv.crc', '.part-00181-324f9b01-a475-4025-85aa-c880d70039e0-c000.csv.crc', 'part-00089-324f9b01-a475-4025-85aa-c880d70039e0-c000.csv', '.part-00145-324f9b01-a475-4025-85aa-c880d70039e0-c000.csv.crc', '.part-00039-324f9b01-a475-4025-85aa-c880d70039e0-c000.csv.crc', '.part-00022-324f9b01-a475-4025-85aa-c880d70039e0-c000.csv.crc', 'part-00059-324f9b01-a475-4025-85aa-c880d70039e0-c000.csv', 'part-00027-324f9b01-a475-4025-85aa-c880d70039e0-c000.csv', 'part-00105-324f9b01-a475-4025-85aa-c880d70039e0-c000.csv', 'part-00154-324f9b01-a475-4025-85aa-c880d70039e0-c000.csv', 'part-00076-324f9b01-a475-4025-85aa-c880d70039e0-c000.csv', 'part-00008-324f9b01-a475-4025-85aa-c880d70039e0-c000.csv', '.part-00176-324f9b01-a475-4025-85aa-c880d70039e0-c000.csv.crc', '.part-00011-324f9b01-a475-4025-85aa-c880d70039e0-c000.csv.crc', 'part-00184-324f9b01-a475-4025-85aa-c880d70039e0-c000.csv', 'part-00004-324f9b01-a475-4025-85aa-c880d70039e0-c000.csv', 'part-00126-324f9b01-a475-4025-85aa-c880d70039e0-c000.csv', 'part-00158-324f9b01-a475-4025-85aa-c880d70039e0-c000.csv', '.part-00080-324f9b01-a475-4025-85aa-c880d70039e0-c000.csv.crc', 'part-00188-324f9b01-a475-4025-85aa-c880d70039e0-c000.csv', '.part-00138-324f9b01-a475-4025-85aa-c880d70039e0-c000.csv.crc', '.part-00044-324f9b01-a475-4025-85aa-c880d70039e0-c000.csv.crc', '.part-00123-324f9b01-a475-4025-85aa-c880d70039e0-c000.csv.crc', 'part-00085-324f9b01-a475-4025-85aa-c880d70039e0-c000.csv', '.part-00077-324f9b01-a475-4025-85aa-c880d70039e0-c000.csv.crc', 'part-00109-324f9b01-a475-4025-85aa-c880d70039e0-c000.csv', '.part-00110-324f9b01-a475-4025-85aa-c880d70039e0-c000.csv.crc', 'part-00177-324f9b01-a475-4025-85aa-c880d70039e0-c000.csv', 'part-00055-324f9b01-a475-4025-85aa-c880d70039e0-c000.csv', '.part-00081-324f9b01-a475-4025-85aa-c880d70039e0-c000.csv.crc', 'part-00112-324f9b01-a475-4025-85aa-c880d70039e0-c000.csv', '.part-00139-324f9b01-a475-4025-85aa-c880d70039e0-c000.csv.crc', '.part-00045-324f9b01-a475-4025-85aa-c880d70039e0-c000.csv.crc', 'part-00030-324f9b01-a475-4025-85aa-c880d70039e0-c000.csv', '.part-00122-324f9b01-a475-4025-85aa-c880d70039e0-c000.csv.crc', 'part-00061-324f9b01-a475-4025-85aa-c880d70039e0-c000.csv', 'part-00143-324f9b01-a475-4025-85aa-c880d70039e0-c000.csv', '.part-00076-324f9b01-a475-4025-85aa-c880d70039e0-c000.csv.crc', '.part-00111-324f9b01-a475-4025-85aa-c880d70039e0-c000.csv.crc', 'part-00193-324f9b01-a475-4025-85aa-c880d70039e0-c000.csv', 'part-00131-324f9b01-a475-4025-85aa-c880d70039e0-c000.csv', 'part-00013-324f9b01-a475-4025-85aa-c880d70039e0-c000.csv', '.part-00180-324f9b01-a475-4025-85aa-c880d70039e0-c000.csv.crc', '.part-00144-324f9b01-a475-4025-85aa-c880d70039e0-c000.csv.crc', '.part-00038-324f9b01-a475-4025-85aa-c880d70039e0-c000.csv.crc', '.part-00023-324f9b01-a475-4025-85aa-c880d70039e0-c000.csv.crc', 'part-00092-324f9b01-a475-4025-85aa-c880d70039e0-c000.csv', '.part-00177-324f9b01-a475-4025-85aa-c880d70039e0-c000.csv.crc', 'part-00042-324f9b01-a475-4025-85aa-c880d70039e0-c000.csv', 'part-00160-324f9b01-a475-4025-85aa-c880d70039e0-c000.csv', '.part-00010-324f9b01-a475-4025-85aa-c880d70039e0-c000.csv.crc']\n",
      "/Users/home/Documents/dend/Data-Engineering-ND/Capstone/output/i94_countries ['.part-00010-e17a0703-0516-4104-86ac-110789ef3d8a-c000.csv.crc', 'part-00001-e17a0703-0516-4104-86ac-110789ef3d8a-c000.csv', '.part-00011-e17a0703-0516-4104-86ac-110789ef3d8a-c000.csv.crc', '.part-00013-e17a0703-0516-4104-86ac-110789ef3d8a-c000.csv.crc', '.part-00008-e17a0703-0516-4104-86ac-110789ef3d8a-c000.csv.crc', 'part-00000-e17a0703-0516-4104-86ac-110789ef3d8a-c000.csv', '.part-00012-e17a0703-0516-4104-86ac-110789ef3d8a-c000.csv.crc', '.part-00009-e17a0703-0516-4104-86ac-110789ef3d8a-c000.csv.crc', '._SUCCESS.crc', 'part-00014-e17a0703-0516-4104-86ac-110789ef3d8a-c000.csv', '.part-00005-e17a0703-0516-4104-86ac-110789ef3d8a-c000.csv.crc', '.part-00004-e17a0703-0516-4104-86ac-110789ef3d8a-c000.csv.crc', 'part-00003-e17a0703-0516-4104-86ac-110789ef3d8a-c000.csv', '.part-00006-e17a0703-0516-4104-86ac-110789ef3d8a-c000.csv.crc', 'part-00015-e17a0703-0516-4104-86ac-110789ef3d8a-c000.csv', '.part-00007-e17a0703-0516-4104-86ac-110789ef3d8a-c000.csv.crc', 'part-00002-e17a0703-0516-4104-86ac-110789ef3d8a-c000.csv', '.part-00000-e17a0703-0516-4104-86ac-110789ef3d8a-c000.csv.crc', 'part-00005-e17a0703-0516-4104-86ac-110789ef3d8a-c000.csv', 'part-00009-e17a0703-0516-4104-86ac-110789ef3d8a-c000.csv', 'part-00012-e17a0703-0516-4104-86ac-110789ef3d8a-c000.csv', '.part-00001-e17a0703-0516-4104-86ac-110789ef3d8a-c000.csv.crc', 'part-00004-e17a0703-0516-4104-86ac-110789ef3d8a-c000.csv', '.part-00003-e17a0703-0516-4104-86ac-110789ef3d8a-c000.csv.crc', 'part-00008-e17a0703-0516-4104-86ac-110789ef3d8a-c000.csv', 'part-00013-e17a0703-0516-4104-86ac-110789ef3d8a-c000.csv', '.part-00002-e17a0703-0516-4104-86ac-110789ef3d8a-c000.csv.crc', '.part-00015-e17a0703-0516-4104-86ac-110789ef3d8a-c000.csv.crc', '_SUCCESS', 'part-00007-e17a0703-0516-4104-86ac-110789ef3d8a-c000.csv', 'part-00010-e17a0703-0516-4104-86ac-110789ef3d8a-c000.csv', '.part-00014-e17a0703-0516-4104-86ac-110789ef3d8a-c000.csv.crc', 'part-00006-e17a0703-0516-4104-86ac-110789ef3d8a-c000.csv', 'part-00011-e17a0703-0516-4104-86ac-110789ef3d8a-c000.csv']\n",
      "/Users/home/Documents/dend/Data-Engineering-ND/Capstone/output/i94_dates ['._SUCCESS.crc', '_SUCCESS']\n",
      "/Users/home/Documents/dend/Data-Engineering-ND/Capstone/output/i94_dates/i94_year=2016 []\n",
      "/Users/home/Documents/dend/Data-Engineering-ND/Capstone/output/i94_dates/i94_year=2016/i94_month=4 ['.part-00056-14fe6295-5ac5-4508-8694-18fd0ec27c70.c000.snappy.parquet.crc', '.part-00126-14fe6295-5ac5-4508-8694-18fd0ec27c70.c000.snappy.parquet.crc', 'part-00056-14fe6295-5ac5-4508-8694-18fd0ec27c70.c000.snappy.parquet', 'part-00157-14fe6295-5ac5-4508-8694-18fd0ec27c70.c000.snappy.parquet', '.part-00118-14fe6295-5ac5-4508-8694-18fd0ec27c70.c000.snappy.parquet.crc', 'part-00196-14fe6295-5ac5-4508-8694-18fd0ec27c70.c000.snappy.parquet', 'part-00029-14fe6295-5ac5-4508-8694-18fd0ec27c70.c000.snappy.parquet', '.part-00150-14fe6295-5ac5-4508-8694-18fd0ec27c70.c000.snappy.parquet.crc', 'part-00008-14fe6295-5ac5-4508-8694-18fd0ec27c70.c000.snappy.parquet', '.part-00117-14fe6295-5ac5-4508-8694-18fd0ec27c70.c000.snappy.parquet.crc', 'part-00150-14fe6295-5ac5-4508-8694-18fd0ec27c70.c000.snappy.parquet', '.part-00142-14fe6295-5ac5-4508-8694-18fd0ec27c70.c000.snappy.parquet.crc', '.part-00032-14fe6295-5ac5-4508-8694-18fd0ec27c70.c000.snappy.parquet.crc', 'part-00087-14fe6295-5ac5-4508-8694-18fd0ec27c70.c000.snappy.parquet', 'part-00032-14fe6295-5ac5-4508-8694-18fd0ec27c70.c000.snappy.parquet', '.part-00157-14fe6295-5ac5-4508-8694-18fd0ec27c70.c000.snappy.parquet.crc', '.part-00113-14fe6295-5ac5-4508-8694-18fd0ec27c70.c000.snappy.parquet.crc', 'part-00118-14fe6295-5ac5-4508-8694-18fd0ec27c70.c000.snappy.parquet', 'part-00091-14fe6295-5ac5-4508-8694-18fd0ec27c70.c000.snappy.parquet', 'part-00113-14fe6295-5ac5-4508-8694-18fd0ec27c70.c000.snappy.parquet', 'part-00066-14fe6295-5ac5-4508-8694-18fd0ec27c70.c000.snappy.parquet', '.part-00008-14fe6295-5ac5-4508-8694-18fd0ec27c70.c000.snappy.parquet.crc', '.part-00036-14fe6295-5ac5-4508-8694-18fd0ec27c70.c000.snappy.parquet.crc', '.part-00015-14fe6295-5ac5-4508-8694-18fd0ec27c70.c000.snappy.parquet.crc', 'part-00015-14fe6295-5ac5-4508-8694-18fd0ec27c70.c000.snappy.parquet', '.part-00149-14fe6295-5ac5-4508-8694-18fd0ec27c70.c000.snappy.parquet.crc', '.part-00043-14fe6295-5ac5-4508-8694-18fd0ec27c70.c000.snappy.parquet.crc', '.part-00196-14fe6295-5ac5-4508-8694-18fd0ec27c70.c000.snappy.parquet.crc', '.part-00088-14fe6295-5ac5-4508-8694-18fd0ec27c70.c000.snappy.parquet.crc', 'part-00073-14fe6295-5ac5-4508-8694-18fd0ec27c70.c000.snappy.parquet', '.part-00182-14fe6295-5ac5-4508-8694-18fd0ec27c70.c000.snappy.parquet.crc', '.part-00127-14fe6295-5ac5-4508-8694-18fd0ec27c70.c000.snappy.parquet.crc', '.part-00030-14fe6295-5ac5-4508-8694-18fd0ec27c70.c000.snappy.parquet.crc', 'part-00127-14fe6295-5ac5-4508-8694-18fd0ec27c70.c000.snappy.parquet', '.part-00136-14fe6295-5ac5-4508-8694-18fd0ec27c70.c000.snappy.parquet.crc', '.part-00087-14fe6295-5ac5-4508-8694-18fd0ec27c70.c000.snappy.parquet.crc', 'part-00088-14fe6295-5ac5-4508-8694-18fd0ec27c70.c000.snappy.parquet', '.part-00066-14fe6295-5ac5-4508-8694-18fd0ec27c70.c000.snappy.parquet.crc', 'part-00036-14fe6295-5ac5-4508-8694-18fd0ec27c70.c000.snappy.parquet', 'part-00182-14fe6295-5ac5-4508-8694-18fd0ec27c70.c000.snappy.parquet', 'part-00149-14fe6295-5ac5-4508-8694-18fd0ec27c70.c000.snappy.parquet', '.part-00131-14fe6295-5ac5-4508-8694-18fd0ec27c70.c000.snappy.parquet.crc', '.part-00073-14fe6295-5ac5-4508-8694-18fd0ec27c70.c000.snappy.parquet.crc', 'part-00117-14fe6295-5ac5-4508-8694-18fd0ec27c70.c000.snappy.parquet', 'part-00142-14fe6295-5ac5-4508-8694-18fd0ec27c70.c000.snappy.parquet', 'part-00043-14fe6295-5ac5-4508-8694-18fd0ec27c70.c000.snappy.parquet', 'part-00136-14fe6295-5ac5-4508-8694-18fd0ec27c70.c000.snappy.parquet', '.part-00029-14fe6295-5ac5-4508-8694-18fd0ec27c70.c000.snappy.parquet.crc', '.part-00091-14fe6295-5ac5-4508-8694-18fd0ec27c70.c000.snappy.parquet.crc', 'part-00126-14fe6295-5ac5-4508-8694-18fd0ec27c70.c000.snappy.parquet', 'part-00030-14fe6295-5ac5-4508-8694-18fd0ec27c70.c000.snappy.parquet', 'part-00131-14fe6295-5ac5-4508-8694-18fd0ec27c70.c000.snappy.parquet']\n",
      "/Users/home/Documents/dend/Data-Engineering-ND/Capstone/output/i94_state_mapping ['part-00002-f4d605d2-9fb0-4830-bb20-b790394d2d43-c000.csv', '.part-00004-f4d605d2-9fb0-4830-bb20-b790394d2d43-c000.csv.crc', '.part-00005-f4d605d2-9fb0-4830-bb20-b790394d2d43-c000.csv.crc', 'part-00015-f4d605d2-9fb0-4830-bb20-b790394d2d43-c000.csv', '.part-00007-f4d605d2-9fb0-4830-bb20-b790394d2d43-c000.csv.crc', 'part-00003-f4d605d2-9fb0-4830-bb20-b790394d2d43-c000.csv', 'part-00014-f4d605d2-9fb0-4830-bb20-b790394d2d43-c000.csv', '.part-00006-f4d605d2-9fb0-4830-bb20-b790394d2d43-c000.csv.crc', '.part-00011-f4d605d2-9fb0-4830-bb20-b790394d2d43-c000.csv.crc', '._SUCCESS.crc', 'part-00000-f4d605d2-9fb0-4830-bb20-b790394d2d43-c000.csv', '.part-00010-f4d605d2-9fb0-4830-bb20-b790394d2d43-c000.csv.crc', '.part-00009-f4d605d2-9fb0-4830-bb20-b790394d2d43-c000.csv.crc', '.part-00012-f4d605d2-9fb0-4830-bb20-b790394d2d43-c000.csv.crc', 'part-00001-f4d605d2-9fb0-4830-bb20-b790394d2d43-c000.csv', '.part-00008-f4d605d2-9fb0-4830-bb20-b790394d2d43-c000.csv.crc', '.part-00013-f4d605d2-9fb0-4830-bb20-b790394d2d43-c000.csv.crc', '.part-00014-f4d605d2-9fb0-4830-bb20-b790394d2d43-c000.csv.crc', 'part-00011-f4d605d2-9fb0-4830-bb20-b790394d2d43-c000.csv', 'part-00006-f4d605d2-9fb0-4830-bb20-b790394d2d43-c000.csv', '.part-00015-f4d605d2-9fb0-4830-bb20-b790394d2d43-c000.csv.crc', 'part-00010-f4d605d2-9fb0-4830-bb20-b790394d2d43-c000.csv', 'part-00007-f4d605d2-9fb0-4830-bb20-b790394d2d43-c000.csv', '.part-00001-f4d605d2-9fb0-4830-bb20-b790394d2d43-c000.csv.crc', '_SUCCESS', 'part-00013-f4d605d2-9fb0-4830-bb20-b790394d2d43-c000.csv', 'part-00008-f4d605d2-9fb0-4830-bb20-b790394d2d43-c000.csv', 'part-00004-f4d605d2-9fb0-4830-bb20-b790394d2d43-c000.csv', '.part-00000-f4d605d2-9fb0-4830-bb20-b790394d2d43-c000.csv.crc', '.part-00002-f4d605d2-9fb0-4830-bb20-b790394d2d43-c000.csv.crc', 'part-00012-f4d605d2-9fb0-4830-bb20-b790394d2d43-c000.csv', 'part-00009-f4d605d2-9fb0-4830-bb20-b790394d2d43-c000.csv', '.part-00003-f4d605d2-9fb0-4830-bb20-b790394d2d43-c000.csv.crc', 'part-00005-f4d605d2-9fb0-4830-bb20-b790394d2d43-c000.csv']\n",
      "/Users/home/Documents/dend/Data-Engineering-ND/Capstone/output/i94_port_state_mapping ['.part-00010-aacf01fd-0a4a-4e97-8951-2cba2cd58188-c000.csv.crc', 'part-00011-aacf01fd-0a4a-4e97-8951-2cba2cd58188-c000.csv', 'part-00006-aacf01fd-0a4a-4e97-8951-2cba2cd58188-c000.csv', '.part-00011-aacf01fd-0a4a-4e97-8951-2cba2cd58188-c000.csv.crc', 'part-00010-aacf01fd-0a4a-4e97-8951-2cba2cd58188-c000.csv', '.part-00013-aacf01fd-0a4a-4e97-8951-2cba2cd58188-c000.csv.crc', '.part-00008-aacf01fd-0a4a-4e97-8951-2cba2cd58188-c000.csv.crc', '.part-00012-aacf01fd-0a4a-4e97-8951-2cba2cd58188-c000.csv.crc', '.part-00009-aacf01fd-0a4a-4e97-8951-2cba2cd58188-c000.csv.crc', 'part-00007-aacf01fd-0a4a-4e97-8951-2cba2cd58188-c000.csv', '.part-00005-aacf01fd-0a4a-4e97-8951-2cba2cd58188-c000.csv.crc', '._SUCCESS.crc', 'part-00013-aacf01fd-0a4a-4e97-8951-2cba2cd58188-c000.csv', 'part-00008-aacf01fd-0a4a-4e97-8951-2cba2cd58188-c000.csv', 'part-00004-aacf01fd-0a4a-4e97-8951-2cba2cd58188-c000.csv', '.part-00004-aacf01fd-0a4a-4e97-8951-2cba2cd58188-c000.csv.crc', '.part-00006-aacf01fd-0a4a-4e97-8951-2cba2cd58188-c000.csv.crc', 'part-00012-aacf01fd-0a4a-4e97-8951-2cba2cd58188-c000.csv', 'part-00009-aacf01fd-0a4a-4e97-8951-2cba2cd58188-c000.csv', '.part-00007-aacf01fd-0a4a-4e97-8951-2cba2cd58188-c000.csv.crc', 'part-00005-aacf01fd-0a4a-4e97-8951-2cba2cd58188-c000.csv', 'part-00002-aacf01fd-0a4a-4e97-8951-2cba2cd58188-c000.csv', '.part-00000-aacf01fd-0a4a-4e97-8951-2cba2cd58188-c000.csv.crc', '.part-00001-aacf01fd-0a4a-4e97-8951-2cba2cd58188-c000.csv.crc', 'part-00015-aacf01fd-0a4a-4e97-8951-2cba2cd58188-c000.csv', 'part-00003-aacf01fd-0a4a-4e97-8951-2cba2cd58188-c000.csv', '.part-00003-aacf01fd-0a4a-4e97-8951-2cba2cd58188-c000.csv.crc', 'part-00014-aacf01fd-0a4a-4e97-8951-2cba2cd58188-c000.csv', '.part-00002-aacf01fd-0a4a-4e97-8951-2cba2cd58188-c000.csv.crc', '.part-00015-aacf01fd-0a4a-4e97-8951-2cba2cd58188-c000.csv.crc', '_SUCCESS', 'part-00000-aacf01fd-0a4a-4e97-8951-2cba2cd58188-c000.csv', '.part-00014-aacf01fd-0a4a-4e97-8951-2cba2cd58188-c000.csv.crc', 'part-00001-aacf01fd-0a4a-4e97-8951-2cba2cd58188-c000.csv']\n",
      "/Users/home/Documents/dend/Data-Engineering-ND/Capstone/output/i94_trips ['._SUCCESS.crc', '_SUCCESS']\n",
      "/Users/home/Documents/dend/Data-Engineering-ND/Capstone/output/i94_trips/i94_year=2016 []\n",
      "/Users/home/Documents/dend/Data-Engineering-ND/Capstone/output/i94_trips/i94_year=2016/i94_month=4 ['part-00037-7bff3d15-fb34-42d9-84f2-d5b16b79b498.c000.snappy.parquet', 'part-00136-7bff3d15-fb34-42d9-84f2-d5b16b79b498.c000.snappy.parquet', 'part-00043-7bff3d15-fb34-42d9-84f2-d5b16b79b498.c000.snappy.parquet', 'part-00142-7bff3d15-fb34-42d9-84f2-d5b16b79b498.c000.snappy.parquet', '.part-00142-7bff3d15-fb34-42d9-84f2-d5b16b79b498.c000.snappy.parquet.crc', '.part-00032-7bff3d15-fb34-42d9-84f2-d5b16b79b498.c000.snappy.parquet.crc', '.part-00097-7bff3d15-fb34-42d9-84f2-d5b16b79b498.c000.snappy.parquet.crc', '.part-00138-7bff3d15-fb34-42d9-84f2-d5b16b79b498.c000.snappy.parquet.crc', '.part-00048-7bff3d15-fb34-42d9-84f2-d5b16b79b498.c000.snappy.parquet.crc', 'part-00183-7bff3d15-fb34-42d9-84f2-d5b16b79b498.c000.snappy.parquet', 'part-00082-7bff3d15-fb34-42d9-84f2-d5b16b79b498.c000.snappy.parquet', '.part-00161-7bff3d15-fb34-42d9-84f2-d5b16b79b498.c000.snappy.parquet.crc', '.part-00011-7bff3d15-fb34-42d9-84f2-d5b16b79b498.c000.snappy.parquet.crc', '.part-00076-7bff3d15-fb34-42d9-84f2-d5b16b79b498.c000.snappy.parquet.crc', '.part-00106-7bff3d15-fb34-42d9-84f2-d5b16b79b498.c000.snappy.parquet.crc', '.part-00055-7bff3d15-fb34-42d9-84f2-d5b16b79b498.c000.snappy.parquet.crc', '.part-00125-7bff3d15-fb34-42d9-84f2-d5b16b79b498.c000.snappy.parquet.crc', '.part-00180-7bff3d15-fb34-42d9-84f2-d5b16b79b498.c000.snappy.parquet.crc', 'part-00062-7bff3d15-fb34-42d9-84f2-d5b16b79b498.c000.snappy.parquet', 'part-00163-7bff3d15-fb34-42d9-84f2-d5b16b79b498.c000.snappy.parquet', 'part-00016-7bff3d15-fb34-42d9-84f2-d5b16b79b498.c000.snappy.parquet', 'part-00117-7bff3d15-fb34-42d9-84f2-d5b16b79b498.c000.snappy.parquet', 'part-00121-7bff3d15-fb34-42d9-84f2-d5b16b79b498.c000.snappy.parquet', 'part-00020-7bff3d15-fb34-42d9-84f2-d5b16b79b498.c000.snappy.parquet', 'part-00155-7bff3d15-fb34-42d9-84f2-d5b16b79b498.c000.snappy.parquet', 'part-00054-7bff3d15-fb34-42d9-84f2-d5b16b79b498.c000.snappy.parquet', '.part-00067-7bff3d15-fb34-42d9-84f2-d5b16b79b498.c000.snappy.parquet.crc', '.part-00117-7bff3d15-fb34-42d9-84f2-d5b16b79b498.c000.snappy.parquet.crc', 'part-00069-7bff3d15-fb34-42d9-84f2-d5b16b79b498.c000.snappy.parquet', 'part-00168-7bff3d15-fb34-42d9-84f2-d5b16b79b498.c000.snappy.parquet', 'part-00095-7bff3d15-fb34-42d9-84f2-d5b16b79b498.c000.snappy.parquet', 'part-00194-7bff3d15-fb34-42d9-84f2-d5b16b79b498.c000.snappy.parquet', '.part-00044-7bff3d15-fb34-42d9-84f2-d5b16b79b498.c000.snappy.parquet.crc', '.part-00134-7bff3d15-fb34-42d9-84f2-d5b16b79b498.c000.snappy.parquet.crc', '.part-00191-7bff3d15-fb34-42d9-84f2-d5b16b79b498.c000.snappy.parquet.crc', '.part-00153-7bff3d15-fb34-42d9-84f2-d5b16b79b498.c000.snappy.parquet.crc', '.part-00023-7bff3d15-fb34-42d9-84f2-d5b16b79b498.c000.snappy.parquet.crc', '.part-00086-7bff3d15-fb34-42d9-84f2-d5b16b79b498.c000.snappy.parquet.crc', 'part-00048-7bff3d15-fb34-42d9-84f2-d5b16b79b498.c000.snappy.parquet', 'part-00149-7bff3d15-fb34-42d9-84f2-d5b16b79b498.c000.snappy.parquet', '.part-00170-7bff3d15-fb34-42d9-84f2-d5b16b79b498.c000.snappy.parquet.crc', '.part-00000-7bff3d15-fb34-42d9-84f2-d5b16b79b498.c000.snappy.parquet.crc', '.part-00129-7bff3d15-fb34-42d9-84f2-d5b16b79b498.c000.snappy.parquet.crc', 'part-00174-7bff3d15-fb34-42d9-84f2-d5b16b79b498.c000.snappy.parquet', 'part-00075-7bff3d15-fb34-42d9-84f2-d5b16b79b498.c000.snappy.parquet', '.part-00059-7bff3d15-fb34-42d9-84f2-d5b16b79b498.c000.snappy.parquet.crc', 'part-00188-7bff3d15-fb34-42d9-84f2-d5b16b79b498.c000.snappy.parquet', 'part-00089-7bff3d15-fb34-42d9-84f2-d5b16b79b498.c000.snappy.parquet', 'part-00100-7bff3d15-fb34-42d9-84f2-d5b16b79b498.c000.snappy.parquet', 'part-00001-7bff3d15-fb34-42d9-84f2-d5b16b79b498.c000.snappy.parquet', '.part-00098-7bff3d15-fb34-42d9-84f2-d5b16b79b498.c000.snappy.parquet.crc', 'part-00079-7bff3d15-fb34-42d9-84f2-d5b16b79b498.c000.snappy.parquet', '.part-00064-7bff3d15-fb34-42d9-84f2-d5b16b79b498.c000.snappy.parquet.crc', 'part-00178-7bff3d15-fb34-42d9-84f2-d5b16b79b498.c000.snappy.parquet', '.part-00114-7bff3d15-fb34-42d9-84f2-d5b16b79b498.c000.snappy.parquet.crc', 'part-00085-7bff3d15-fb34-42d9-84f2-d5b16b79b498.c000.snappy.parquet', 'part-00184-7bff3d15-fb34-42d9-84f2-d5b16b79b498.c000.snappy.parquet', 'part-00145-7bff3d15-fb34-42d9-84f2-d5b16b79b498.c000.snappy.parquet', '.part-00047-7bff3d15-fb34-42d9-84f2-d5b16b79b498.c000.snappy.parquet.crc', 'part-00044-7bff3d15-fb34-42d9-84f2-d5b16b79b498.c000.snappy.parquet', '.part-00137-7bff3d15-fb34-42d9-84f2-d5b16b79b498.c000.snappy.parquet.crc', 'part-00131-7bff3d15-fb34-42d9-84f2-d5b16b79b498.c000.snappy.parquet', '.part-00192-7bff3d15-fb34-42d9-84f2-d5b16b79b498.c000.snappy.parquet.crc', 'part-00030-7bff3d15-fb34-42d9-84f2-d5b16b79b498.c000.snappy.parquet', 'part-00110-7bff3d15-fb34-42d9-84f2-d5b16b79b498.c000.snappy.parquet', '.part-00150-7bff3d15-fb34-42d9-84f2-d5b16b79b498.c000.snappy.parquet.crc', 'part-00011-7bff3d15-fb34-42d9-84f2-d5b16b79b498.c000.snappy.parquet', '.part-00020-7bff3d15-fb34-42d9-84f2-d5b16b79b498.c000.snappy.parquet.crc', 'part-00164-7bff3d15-fb34-42d9-84f2-d5b16b79b498.c000.snappy.parquet', '.part-00085-7bff3d15-fb34-42d9-84f2-d5b16b79b498.c000.snappy.parquet.crc', 'part-00065-7bff3d15-fb34-42d9-84f2-d5b16b79b498.c000.snappy.parquet', 'part-00198-7bff3d15-fb34-42d9-84f2-d5b16b79b498.c000.snappy.parquet', 'part-00099-7bff3d15-fb34-42d9-84f2-d5b16b79b498.c000.snappy.parquet', '.part-00109-7bff3d15-fb34-42d9-84f2-d5b16b79b498.c000.snappy.parquet.crc', '.part-00079-7bff3d15-fb34-42d9-84f2-d5b16b79b498.c000.snappy.parquet.crc', 'part-00058-7bff3d15-fb34-42d9-84f2-d5b16b79b498.c000.snappy.parquet', 'part-00159-7bff3d15-fb34-42d9-84f2-d5b16b79b498.c000.snappy.parquet', '.part-00173-7bff3d15-fb34-42d9-84f2-d5b16b79b498.c000.snappy.parquet.crc', '.part-00003-7bff3d15-fb34-42d9-84f2-d5b16b79b498.c000.snappy.parquet.crc', '.part-00118-7bff3d15-fb34-42d9-84f2-d5b16b79b498.c000.snappy.parquet.crc', '.part-00068-7bff3d15-fb34-42d9-84f2-d5b16b79b498.c000.snappy.parquet.crc', '.part-00141-7bff3d15-fb34-42d9-84f2-d5b16b79b498.c000.snappy.parquet.crc', '.part-00031-7bff3d15-fb34-42d9-84f2-d5b16b79b498.c000.snappy.parquet.crc', '.part-00094-7bff3d15-fb34-42d9-84f2-d5b16b79b498.c000.snappy.parquet.crc', 'part-00193-7bff3d15-fb34-42d9-84f2-d5b16b79b498.c000.snappy.parquet', 'part-00092-7bff3d15-fb34-42d9-84f2-d5b16b79b498.c000.snappy.parquet', 'part-00053-7bff3d15-fb34-42d9-84f2-d5b16b79b498.c000.snappy.parquet', 'part-00152-7bff3d15-fb34-42d9-84f2-d5b16b79b498.c000.snappy.parquet', 'part-00027-7bff3d15-fb34-42d9-84f2-d5b16b79b498.c000.snappy.parquet', '.part-00162-7bff3d15-fb34-42d9-84f2-d5b16b79b498.c000.snappy.parquet.crc', 'part-00126-7bff3d15-fb34-42d9-84f2-d5b16b79b498.c000.snappy.parquet', '.part-00012-7bff3d15-fb34-42d9-84f2-d5b16b79b498.c000.snappy.parquet.crc', 'part-00006-7bff3d15-fb34-42d9-84f2-d5b16b79b498.c000.snappy.parquet', 'part-00107-7bff3d15-fb34-42d9-84f2-d5b16b79b498.c000.snappy.parquet', 'part-00072-7bff3d15-fb34-42d9-84f2-d5b16b79b498.c000.snappy.parquet', '.part-00075-7bff3d15-fb34-42d9-84f2-d5b16b79b498.c000.snappy.parquet.crc', 'part-00173-7bff3d15-fb34-42d9-84f2-d5b16b79b498.c000.snappy.parquet', '.part-00105-7bff3d15-fb34-42d9-84f2-d5b16b79b498.c000.snappy.parquet.crc', '.part-00089-7bff3d15-fb34-42d9-84f2-d5b16b79b498.c000.snappy.parquet.crc', '.part-00056-7bff3d15-fb34-42d9-84f2-d5b16b79b498.c000.snappy.parquet.crc', '.part-00126-7bff3d15-fb34-42d9-84f2-d5b16b79b498.c000.snappy.parquet.crc', '.part-00183-7bff3d15-fb34-42d9-84f2-d5b16b79b498.c000.snappy.parquet.crc', '.part-00039-7bff3d15-fb34-42d9-84f2-d5b16b79b498.c000.snappy.parquet.crc', '.part-00149-7bff3d15-fb34-42d9-84f2-d5b16b79b498.c000.snappy.parquet.crc', '.part-00060-7bff3d15-fb34-42d9-84f2-d5b16b79b498.c000.snappy.parquet.crc', 'part-00078-7bff3d15-fb34-42d9-84f2-d5b16b79b498.c000.snappy.parquet', 'part-00179-7bff3d15-fb34-42d9-84f2-d5b16b79b498.c000.snappy.parquet', '.part-00110-7bff3d15-fb34-42d9-84f2-d5b16b79b498.c000.snappy.parquet.crc', 'part-00084-7bff3d15-fb34-42d9-84f2-d5b16b79b498.c000.snappy.parquet', 'part-00185-7bff3d15-fb34-42d9-84f2-d5b16b79b498.c000.snappy.parquet', 'part-00130-7bff3d15-fb34-42d9-84f2-d5b16b79b498.c000.snappy.parquet', '.part-00196-7bff3d15-fb34-42d9-84f2-d5b16b79b498.c000.snappy.parquet.crc', 'part-00031-7bff3d15-fb34-42d9-84f2-d5b16b79b498.c000.snappy.parquet', 'part-00144-7bff3d15-fb34-42d9-84f2-d5b16b79b498.c000.snappy.parquet', 'part-00045-7bff3d15-fb34-42d9-84f2-d5b16b79b498.c000.snappy.parquet', '.part-00043-7bff3d15-fb34-42d9-84f2-d5b16b79b498.c000.snappy.parquet.crc', '.part-00133-7bff3d15-fb34-42d9-84f2-d5b16b79b498.c000.snappy.parquet.crc', 'part-00165-7bff3d15-fb34-42d9-84f2-d5b16b79b498.c000.snappy.parquet', '.part-00081-7bff3d15-fb34-42d9-84f2-d5b16b79b498.c000.snappy.parquet.crc', 'part-00064-7bff3d15-fb34-42d9-84f2-d5b16b79b498.c000.snappy.parquet', 'part-00199-7bff3d15-fb34-42d9-84f2-d5b16b79b498.c000.snappy.parquet', 'part-00098-7bff3d15-fb34-42d9-84f2-d5b16b79b498.c000.snappy.parquet', '.part-00154-7bff3d15-fb34-42d9-84f2-d5b16b79b498.c000.snappy.parquet.crc', 'part-00111-7bff3d15-fb34-42d9-84f2-d5b16b79b498.c000.snappy.parquet', 'part-00010-7bff3d15-fb34-42d9-84f2-d5b16b79b498.c000.snappy.parquet', '.part-00024-7bff3d15-fb34-42d9-84f2-d5b16b79b498.c000.snappy.parquet.crc', '.part-00177-7bff3d15-fb34-42d9-84f2-d5b16b79b498.c000.snappy.parquet.crc', '.part-00007-7bff3d15-fb34-42d9-84f2-d5b16b79b498.c000.snappy.parquet.crc', 'part-00059-7bff3d15-fb34-42d9-84f2-d5b16b79b498.c000.snappy.parquet', 'part-00158-7bff3d15-fb34-42d9-84f2-d5b16b79b498.c000.snappy.parquet', '.part-00090-7bff3d15-fb34-42d9-84f2-d5b16b79b498.c000.snappy.parquet.crc', 'part-00192-7bff3d15-fb34-42d9-84f2-d5b16b79b498.c000.snappy.parquet', 'part-00093-7bff3d15-fb34-42d9-84f2-d5b16b79b498.c000.snappy.parquet', '.part-00145-7bff3d15-fb34-42d9-84f2-d5b16b79b498.c000.snappy.parquet.crc', '.part-00035-7bff3d15-fb34-42d9-84f2-d5b16b79b498.c000.snappy.parquet.crc', 'part-00026-7bff3d15-fb34-42d9-84f2-d5b16b79b498.c000.snappy.parquet', '.part-00166-7bff3d15-fb34-42d9-84f2-d5b16b79b498.c000.snappy.parquet.crc', 'part-00127-7bff3d15-fb34-42d9-84f2-d5b16b79b498.c000.snappy.parquet', '.part-00016-7bff3d15-fb34-42d9-84f2-d5b16b79b498.c000.snappy.parquet.crc', 'part-00052-7bff3d15-fb34-42d9-84f2-d5b16b79b498.c000.snappy.parquet', 'part-00153-7bff3d15-fb34-42d9-84f2-d5b16b79b498.c000.snappy.parquet', '.part-00071-7bff3d15-fb34-42d9-84f2-d5b16b79b498.c000.snappy.parquet.crc', 'part-00073-7bff3d15-fb34-42d9-84f2-d5b16b79b498.c000.snappy.parquet', 'part-00172-7bff3d15-fb34-42d9-84f2-d5b16b79b498.c000.snappy.parquet', '.part-00101-7bff3d15-fb34-42d9-84f2-d5b16b79b498.c000.snappy.parquet.crc', 'part-00007-7bff3d15-fb34-42d9-84f2-d5b16b79b498.c000.snappy.parquet', 'part-00106-7bff3d15-fb34-42d9-84f2-d5b16b79b498.c000.snappy.parquet', '.part-00028-7bff3d15-fb34-42d9-84f2-d5b16b79b498.c000.snappy.parquet.crc', '.part-00158-7bff3d15-fb34-42d9-84f2-d5b16b79b498.c000.snappy.parquet.crc', '.part-00187-7bff3d15-fb34-42d9-84f2-d5b16b79b498.c000.snappy.parquet.crc', '.part-00052-7bff3d15-fb34-42d9-84f2-d5b16b79b498.c000.snappy.parquet.crc', '.part-00122-7bff3d15-fb34-42d9-84f2-d5b16b79b498.c000.snappy.parquet.crc', 'part-00042-7bff3d15-fb34-42d9-84f2-d5b16b79b498.c000.snappy.parquet', 'part-00143-7bff3d15-fb34-42d9-84f2-d5b16b79b498.c000.snappy.parquet', 'part-00036-7bff3d15-fb34-42d9-84f2-d5b16b79b498.c000.snappy.parquet', 'part-00137-7bff3d15-fb34-42d9-84f2-d5b16b79b498.c000.snappy.parquet', '.part-00093-7bff3d15-fb34-42d9-84f2-d5b16b79b498.c000.snappy.parquet.crc', '.part-00146-7bff3d15-fb34-42d9-84f2-d5b16b79b498.c000.snappy.parquet.crc', '.part-00036-7bff3d15-fb34-42d9-84f2-d5b16b79b498.c000.snappy.parquet.crc', '.part-00199-7bff3d15-fb34-42d9-84f2-d5b16b79b498.c000.snappy.parquet.crc', 'part-00182-7bff3d15-fb34-42d9-84f2-d5b16b79b498.c000.snappy.parquet', 'part-00083-7bff3d15-fb34-42d9-84f2-d5b16b79b498.c000.snappy.parquet', '.part-00165-7bff3d15-fb34-42d9-84f2-d5b16b79b498.c000.snappy.parquet.crc', '.part-00015-7bff3d15-fb34-42d9-84f2-d5b16b79b498.c000.snappy.parquet.crc', '.part-00072-7bff3d15-fb34-42d9-84f2-d5b16b79b498.c000.snappy.parquet.crc', '.part-00102-7bff3d15-fb34-42d9-84f2-d5b16b79b498.c000.snappy.parquet.crc', '.part-00184-7bff3d15-fb34-42d9-84f2-d5b16b79b498.c000.snappy.parquet.crc', '.part-00051-7bff3d15-fb34-42d9-84f2-d5b16b79b498.c000.snappy.parquet.crc', '.part-00121-7bff3d15-fb34-42d9-84f2-d5b16b79b498.c000.snappy.parquet.crc', '.part-00008-7bff3d15-fb34-42d9-84f2-d5b16b79b498.c000.snappy.parquet.crc', 'part-00017-7bff3d15-fb34-42d9-84f2-d5b16b79b498.c000.snappy.parquet', 'part-00116-7bff3d15-fb34-42d9-84f2-d5b16b79b498.c000.snappy.parquet', '.part-00178-7bff3d15-fb34-42d9-84f2-d5b16b79b498.c000.snappy.parquet.crc', 'part-00063-7bff3d15-fb34-42d9-84f2-d5b16b79b498.c000.snappy.parquet', 'part-00162-7bff3d15-fb34-42d9-84f2-d5b16b79b498.c000.snappy.parquet', 'part-00154-7bff3d15-fb34-42d9-84f2-d5b16b79b498.c000.snappy.parquet', 'part-00055-7bff3d15-fb34-42d9-84f2-d5b16b79b498.c000.snappy.parquet', 'part-00120-7bff3d15-fb34-42d9-84f2-d5b16b79b498.c000.snappy.parquet', 'part-00021-7bff3d15-fb34-42d9-84f2-d5b16b79b498.c000.snappy.parquet', '.part-00063-7bff3d15-fb34-42d9-84f2-d5b16b79b498.c000.snappy.parquet.crc', '.part-00113-7bff3d15-fb34-42d9-84f2-d5b16b79b498.c000.snappy.parquet.crc', '.part-00019-7bff3d15-fb34-42d9-84f2-d5b16b79b498.c000.snappy.parquet.crc', '.part-00169-7bff3d15-fb34-42d9-84f2-d5b16b79b498.c000.snappy.parquet.crc', 'part-00068-7bff3d15-fb34-42d9-84f2-d5b16b79b498.c000.snappy.parquet', 'part-00169-7bff3d15-fb34-42d9-84f2-d5b16b79b498.c000.snappy.parquet', 'part-00094-7bff3d15-fb34-42d9-84f2-d5b16b79b498.c000.snappy.parquet', 'part-00195-7bff3d15-fb34-42d9-84f2-d5b16b79b498.c000.snappy.parquet', '.part-00195-7bff3d15-fb34-42d9-84f2-d5b16b79b498.c000.snappy.parquet.crc', '.part-00040-7bff3d15-fb34-42d9-84f2-d5b16b79b498.c000.snappy.parquet.crc', '.part-00130-7bff3d15-fb34-42d9-84f2-d5b16b79b498.c000.snappy.parquet.crc', '.part-00082-7bff3d15-fb34-42d9-84f2-d5b16b79b498.c000.snappy.parquet.crc', '.part-00157-7bff3d15-fb34-42d9-84f2-d5b16b79b498.c000.snappy.parquet.crc', '.part-00027-7bff3d15-fb34-42d9-84f2-d5b16b79b498.c000.snappy.parquet.crc', 'part-00049-7bff3d15-fb34-42d9-84f2-d5b16b79b498.c000.snappy.parquet', 'part-00148-7bff3d15-fb34-42d9-84f2-d5b16b79b498.c000.snappy.parquet', '.part-00174-7bff3d15-fb34-42d9-84f2-d5b16b79b498.c000.snappy.parquet.crc', '.part-00004-7bff3d15-fb34-42d9-84f2-d5b16b79b498.c000.snappy.parquet.crc', 'part-00101-7bff3d15-fb34-42d9-84f2-d5b16b79b498.c000.snappy.parquet', 'part-00000-7bff3d15-fb34-42d9-84f2-d5b16b79b498.c000.snappy.parquet', '.part-00188-7bff3d15-fb34-42d9-84f2-d5b16b79b498.c000.snappy.parquet.crc', 'part-00175-7bff3d15-fb34-42d9-84f2-d5b16b79b498.c000.snappy.parquet', 'part-00074-7bff3d15-fb34-42d9-84f2-d5b16b79b498.c000.snappy.parquet', 'part-00189-7bff3d15-fb34-42d9-84f2-d5b16b79b498.c000.snappy.parquet', 'part-00088-7bff3d15-fb34-42d9-84f2-d5b16b79b498.c000.snappy.parquet', 'part-00086-7bff3d15-fb34-42d9-84f2-d5b16b79b498.c000.snappy.parquet', 'part-00187-7bff3d15-fb34-42d9-84f2-d5b16b79b498.c000.snappy.parquet', '.part-00033-7bff3d15-fb34-42d9-84f2-d5b16b79b498.c000.snappy.parquet.crc', '.part-00143-7bff3d15-fb34-42d9-84f2-d5b16b79b498.c000.snappy.parquet.crc', '.part-00096-7bff3d15-fb34-42d9-84f2-d5b16b79b498.c000.snappy.parquet.crc', '.part-00049-7bff3d15-fb34-42d9-84f2-d5b16b79b498.c000.snappy.parquet.crc', 'part-00132-7bff3d15-fb34-42d9-84f2-d5b16b79b498.c000.snappy.parquet', 'part-00033-7bff3d15-fb34-42d9-84f2-d5b16b79b498.c000.snappy.parquet', '.part-00139-7bff3d15-fb34-42d9-84f2-d5b16b79b498.c000.snappy.parquet.crc', 'part-00146-7bff3d15-fb34-42d9-84f2-d5b16b79b498.c000.snappy.parquet', 'part-00047-7bff3d15-fb34-42d9-84f2-d5b16b79b498.c000.snappy.parquet', '.part-00010-7bff3d15-fb34-42d9-84f2-d5b16b79b498.c000.snappy.parquet.crc', '.part-00160-7bff3d15-fb34-42d9-84f2-d5b16b79b498.c000.snappy.parquet.crc', '.part-00107-7bff3d15-fb34-42d9-84f2-d5b16b79b498.c000.snappy.parquet.crc', '.part-00077-7bff3d15-fb34-42d9-84f2-d5b16b79b498.c000.snappy.parquet.crc', 'part-00167-7bff3d15-fb34-42d9-84f2-d5b16b79b498.c000.snappy.parquet', 'part-00066-7bff3d15-fb34-42d9-84f2-d5b16b79b498.c000.snappy.parquet', 'part-00113-7bff3d15-fb34-42d9-84f2-d5b16b79b498.c000.snappy.parquet', 'part-00012-7bff3d15-fb34-42d9-84f2-d5b16b79b498.c000.snappy.parquet', '.part-00124-7bff3d15-fb34-42d9-84f2-d5b16b79b498.c000.snappy.parquet.crc', '.part-00054-7bff3d15-fb34-42d9-84f2-d5b16b79b498.c000.snappy.parquet.crc', '.part-00181-7bff3d15-fb34-42d9-84f2-d5b16b79b498.c000.snappy.parquet.crc', 'part-00190-7bff3d15-fb34-42d9-84f2-d5b16b79b498.c000.snappy.parquet', 'part-00091-7bff3d15-fb34-42d9-84f2-d5b16b79b498.c000.snappy.parquet', 'part-00118-7bff3d15-fb34-42d9-84f2-d5b16b79b498.c000.snappy.parquet', 'part-00019-7bff3d15-fb34-42d9-84f2-d5b16b79b498.c000.snappy.parquet', '.part-00116-7bff3d15-fb34-42d9-84f2-d5b16b79b498.c000.snappy.parquet.crc', '.part-00066-7bff3d15-fb34-42d9-84f2-d5b16b79b498.c000.snappy.parquet.crc', 'part-00024-7bff3d15-fb34-42d9-84f2-d5b16b79b498.c000.snappy.parquet', 'part-00125-7bff3d15-fb34-42d9-84f2-d5b16b79b498.c000.snappy.parquet', 'part-00050-7bff3d15-fb34-42d9-84f2-d5b16b79b498.c000.snappy.parquet', 'part-00151-7bff3d15-fb34-42d9-84f2-d5b16b79b498.c000.snappy.parquet', '.part-00135-7bff3d15-fb34-42d9-84f2-d5b16b79b498.c000.snappy.parquet.crc', '.part-00045-7bff3d15-fb34-42d9-84f2-d5b16b79b498.c000.snappy.parquet.crc', '.part-00190-7bff3d15-fb34-42d9-84f2-d5b16b79b498.c000.snappy.parquet.crc', '.part-00022-7bff3d15-fb34-42d9-84f2-d5b16b79b498.c000.snappy.parquet.crc', '.part-00152-7bff3d15-fb34-42d9-84f2-d5b16b79b498.c000.snappy.parquet.crc', '.part-00087-7bff3d15-fb34-42d9-84f2-d5b16b79b498.c000.snappy.parquet.crc', 'part-00071-7bff3d15-fb34-42d9-84f2-d5b16b79b498.c000.snappy.parquet', 'part-00170-7bff3d15-fb34-42d9-84f2-d5b16b79b498.c000.snappy.parquet', 'part-00005-7bff3d15-fb34-42d9-84f2-d5b16b79b498.c000.snappy.parquet', 'part-00104-7bff3d15-fb34-42d9-84f2-d5b16b79b498.c000.snappy.parquet', '.part-00001-7bff3d15-fb34-42d9-84f2-d5b16b79b498.c000.snappy.parquet.crc', '.part-00171-7bff3d15-fb34-42d9-84f2-d5b16b79b498.c000.snappy.parquet.crc', '.part-00058-7bff3d15-fb34-42d9-84f2-d5b16b79b498.c000.snappy.parquet.crc', 'part-00139-7bff3d15-fb34-42d9-84f2-d5b16b79b498.c000.snappy.parquet', 'part-00038-7bff3d15-fb34-42d9-84f2-d5b16b79b498.c000.snappy.parquet', '.part-00128-7bff3d15-fb34-42d9-84f2-d5b16b79b498.c000.snappy.parquet.crc', '.part-00099-7bff3d15-fb34-42d9-84f2-d5b16b79b498.c000.snappy.parquet.crc', 'part-00040-7bff3d15-fb34-42d9-84f2-d5b16b79b498.c000.snappy.parquet', 'part-00141-7bff3d15-fb34-42d9-84f2-d5b16b79b498.c000.snappy.parquet', '.part-00115-7bff3d15-fb34-42d9-84f2-d5b16b79b498.c000.snappy.parquet.crc', 'part-00034-7bff3d15-fb34-42d9-84f2-d5b16b79b498.c000.snappy.parquet', 'part-00135-7bff3d15-fb34-42d9-84f2-d5b16b79b498.c000.snappy.parquet', '.part-00065-7bff3d15-fb34-42d9-84f2-d5b16b79b498.c000.snappy.parquet.crc', 'part-00108-7bff3d15-fb34-42d9-84f2-d5b16b79b498.c000.snappy.parquet', 'part-00009-7bff3d15-fb34-42d9-84f2-d5b16b79b498.c000.snappy.parquet', '.part-00136-7bff3d15-fb34-42d9-84f2-d5b16b79b498.c000.snappy.parquet.crc', '.part-00046-7bff3d15-fb34-42d9-84f2-d5b16b79b498.c000.snappy.parquet.crc', '.part-00193-7bff3d15-fb34-42d9-84f2-d5b16b79b498.c000.snappy.parquet.crc', 'part-00180-7bff3d15-fb34-42d9-84f2-d5b16b79b498.c000.snappy.parquet', 'part-00081-7bff3d15-fb34-42d9-84f2-d5b16b79b498.c000.snappy.parquet', '.part-00021-7bff3d15-fb34-42d9-84f2-d5b16b79b498.c000.snappy.parquet.crc', '.part-00151-7bff3d15-fb34-42d9-84f2-d5b16b79b498.c000.snappy.parquet.crc', 'part-00129-7bff3d15-fb34-42d9-84f2-d5b16b79b498.c000.snappy.parquet', 'part-00028-7bff3d15-fb34-42d9-84f2-d5b16b79b498.c000.snappy.parquet', '.part-00084-7bff3d15-fb34-42d9-84f2-d5b16b79b498.c000.snappy.parquet.crc', '.part-00078-7bff3d15-fb34-42d9-84f2-d5b16b79b498.c000.snappy.parquet.crc', '.part-00108-7bff3d15-fb34-42d9-84f2-d5b16b79b498.c000.snappy.parquet.crc', 'part-00015-7bff3d15-fb34-42d9-84f2-d5b16b79b498.c000.snappy.parquet', 'part-00114-7bff3d15-fb34-42d9-84f2-d5b16b79b498.c000.snappy.parquet', 'part-00061-7bff3d15-fb34-42d9-84f2-d5b16b79b498.c000.snappy.parquet', 'part-00160-7bff3d15-fb34-42d9-84f2-d5b16b79b498.c000.snappy.parquet', '.part-00002-7bff3d15-fb34-42d9-84f2-d5b16b79b498.c000.snappy.parquet.crc', '.part-00172-7bff3d15-fb34-42d9-84f2-d5b16b79b498.c000.snappy.parquet.crc', '.part-00069-7bff3d15-fb34-42d9-84f2-d5b16b79b498.c000.snappy.parquet.crc', '.part-00119-7bff3d15-fb34-42d9-84f2-d5b16b79b498.c000.snappy.parquet.crc', '.part-00030-7bff3d15-fb34-42d9-84f2-d5b16b79b498.c000.snappy.parquet.crc', 'part-00156-7bff3d15-fb34-42d9-84f2-d5b16b79b498.c000.snappy.parquet', 'part-00057-7bff3d15-fb34-42d9-84f2-d5b16b79b498.c000.snappy.parquet', '.part-00140-7bff3d15-fb34-42d9-84f2-d5b16b79b498.c000.snappy.parquet.crc', 'part-00122-7bff3d15-fb34-42d9-84f2-d5b16b79b498.c000.snappy.parquet', 'part-00023-7bff3d15-fb34-42d9-84f2-d5b16b79b498.c000.snappy.parquet', '.part-00095-7bff3d15-fb34-42d9-84f2-d5b16b79b498.c000.snappy.parquet.crc', '.part-00013-7bff3d15-fb34-42d9-84f2-d5b16b79b498.c000.snappy.parquet.crc', 'part-00096-7bff3d15-fb34-42d9-84f2-d5b16b79b498.c000.snappy.parquet', 'part-00197-7bff3d15-fb34-42d9-84f2-d5b16b79b498.c000.snappy.parquet', '.part-00163-7bff3d15-fb34-42d9-84f2-d5b16b79b498.c000.snappy.parquet.crc', '.part-00104-7bff3d15-fb34-42d9-84f2-d5b16b79b498.c000.snappy.parquet.crc', '.part-00074-7bff3d15-fb34-42d9-84f2-d5b16b79b498.c000.snappy.parquet.crc', '.part-00088-7bff3d15-fb34-42d9-84f2-d5b16b79b498.c000.snappy.parquet.crc', 'part-00103-7bff3d15-fb34-42d9-84f2-d5b16b79b498.c000.snappy.parquet', 'part-00002-7bff3d15-fb34-42d9-84f2-d5b16b79b498.c000.snappy.parquet', '.part-00127-7bff3d15-fb34-42d9-84f2-d5b16b79b498.c000.snappy.parquet.crc', '.part-00057-7bff3d15-fb34-42d9-84f2-d5b16b79b498.c000.snappy.parquet.crc', 'part-00177-7bff3d15-fb34-42d9-84f2-d5b16b79b498.c000.snappy.parquet', 'part-00076-7bff3d15-fb34-42d9-84f2-d5b16b79b498.c000.snappy.parquet', '.part-00182-7bff3d15-fb34-42d9-84f2-d5b16b79b498.c000.snappy.parquet.crc', '.part-00148-7bff3d15-fb34-42d9-84f2-d5b16b79b498.c000.snappy.parquet.crc', '.part-00038-7bff3d15-fb34-42d9-84f2-d5b16b79b498.c000.snappy.parquet.crc', '.part-00111-7bff3d15-fb34-42d9-84f2-d5b16b79b498.c000.snappy.parquet.crc', 'part-00035-7bff3d15-fb34-42d9-84f2-d5b16b79b498.c000.snappy.parquet', 'part-00134-7bff3d15-fb34-42d9-84f2-d5b16b79b498.c000.snappy.parquet', '.part-00061-7bff3d15-fb34-42d9-84f2-d5b16b79b498.c000.snappy.parquet.crc', 'part-00041-7bff3d15-fb34-42d9-84f2-d5b16b79b498.c000.snappy.parquet', 'part-00140-7bff3d15-fb34-42d9-84f2-d5b16b79b498.c000.snappy.parquet', '.part-00197-7bff3d15-fb34-42d9-84f2-d5b16b79b498.c000.snappy.parquet.crc', 'part-00181-7bff3d15-fb34-42d9-84f2-d5b16b79b498.c000.snappy.parquet', 'part-00080-7bff3d15-fb34-42d9-84f2-d5b16b79b498.c000.snappy.parquet', 'part-00109-7bff3d15-fb34-42d9-84f2-d5b16b79b498.c000.snappy.parquet', 'part-00008-7bff3d15-fb34-42d9-84f2-d5b16b79b498.c000.snappy.parquet', '.part-00132-7bff3d15-fb34-42d9-84f2-d5b16b79b498.c000.snappy.parquet.crc', '.part-00042-7bff3d15-fb34-42d9-84f2-d5b16b79b498.c000.snappy.parquet.crc', 'part-00128-7bff3d15-fb34-42d9-84f2-d5b16b79b498.c000.snappy.parquet', 'part-00029-7bff3d15-fb34-42d9-84f2-d5b16b79b498.c000.snappy.parquet', '.part-00080-7bff3d15-fb34-42d9-84f2-d5b16b79b498.c000.snappy.parquet.crc', '.part-00025-7bff3d15-fb34-42d9-84f2-d5b16b79b498.c000.snappy.parquet.crc', '.part-00155-7bff3d15-fb34-42d9-84f2-d5b16b79b498.c000.snappy.parquet.crc', 'part-00060-7bff3d15-fb34-42d9-84f2-d5b16b79b498.c000.snappy.parquet', 'part-00161-7bff3d15-fb34-42d9-84f2-d5b16b79b498.c000.snappy.parquet', '.part-00006-7bff3d15-fb34-42d9-84f2-d5b16b79b498.c000.snappy.parquet.crc', '.part-00176-7bff3d15-fb34-42d9-84f2-d5b16b79b498.c000.snappy.parquet.crc', 'part-00014-7bff3d15-fb34-42d9-84f2-d5b16b79b498.c000.snappy.parquet', 'part-00115-7bff3d15-fb34-42d9-84f2-d5b16b79b498.c000.snappy.parquet', 'part-00123-7bff3d15-fb34-42d9-84f2-d5b16b79b498.c000.snappy.parquet', 'part-00022-7bff3d15-fb34-42d9-84f2-d5b16b79b498.c000.snappy.parquet', '.part-00091-7bff3d15-fb34-42d9-84f2-d5b16b79b498.c000.snappy.parquet.crc', '.part-00034-7bff3d15-fb34-42d9-84f2-d5b16b79b498.c000.snappy.parquet.crc', 'part-00157-7bff3d15-fb34-42d9-84f2-d5b16b79b498.c000.snappy.parquet', 'part-00056-7bff3d15-fb34-42d9-84f2-d5b16b79b498.c000.snappy.parquet', '.part-00144-7bff3d15-fb34-42d9-84f2-d5b16b79b498.c000.snappy.parquet.crc', '.part-00017-7bff3d15-fb34-42d9-84f2-d5b16b79b498.c000.snappy.parquet.crc', 'part-00097-7bff3d15-fb34-42d9-84f2-d5b16b79b498.c000.snappy.parquet', 'part-00196-7bff3d15-fb34-42d9-84f2-d5b16b79b498.c000.snappy.parquet', '.part-00167-7bff3d15-fb34-42d9-84f2-d5b16b79b498.c000.snappy.parquet.crc', '.part-00100-7bff3d15-fb34-42d9-84f2-d5b16b79b498.c000.snappy.parquet.crc', '.part-00070-7bff3d15-fb34-42d9-84f2-d5b16b79b498.c000.snappy.parquet.crc', '.part-00159-7bff3d15-fb34-42d9-84f2-d5b16b79b498.c000.snappy.parquet.crc', '.part-00029-7bff3d15-fb34-42d9-84f2-d5b16b79b498.c000.snappy.parquet.crc', 'part-00176-7bff3d15-fb34-42d9-84f2-d5b16b79b498.c000.snappy.parquet', 'part-00077-7bff3d15-fb34-42d9-84f2-d5b16b79b498.c000.snappy.parquet', '.part-00186-7bff3d15-fb34-42d9-84f2-d5b16b79b498.c000.snappy.parquet.crc', 'part-00102-7bff3d15-fb34-42d9-84f2-d5b16b79b498.c000.snappy.parquet', 'part-00003-7bff3d15-fb34-42d9-84f2-d5b16b79b498.c000.snappy.parquet', '.part-00123-7bff3d15-fb34-42d9-84f2-d5b16b79b498.c000.snappy.parquet.crc', '.part-00053-7bff3d15-fb34-42d9-84f2-d5b16b79b498.c000.snappy.parquet.crc', 'part-00087-7bff3d15-fb34-42d9-84f2-d5b16b79b498.c000.snappy.parquet', 'part-00186-7bff3d15-fb34-42d9-84f2-d5b16b79b498.c000.snappy.parquet', '.part-00092-7bff3d15-fb34-42d9-84f2-d5b16b79b498.c000.snappy.parquet.crc', '.part-00037-7bff3d15-fb34-42d9-84f2-d5b16b79b498.c000.snappy.parquet.crc', '.part-00147-7bff3d15-fb34-42d9-84f2-d5b16b79b498.c000.snappy.parquet.crc', 'part-00147-7bff3d15-fb34-42d9-84f2-d5b16b79b498.c000.snappy.parquet', 'part-00046-7bff3d15-fb34-42d9-84f2-d5b16b79b498.c000.snappy.parquet', '.part-00198-7bff3d15-fb34-42d9-84f2-d5b16b79b498.c000.snappy.parquet.crc', 'part-00133-7bff3d15-fb34-42d9-84f2-d5b16b79b498.c000.snappy.parquet', 'part-00032-7bff3d15-fb34-42d9-84f2-d5b16b79b498.c000.snappy.parquet', '.part-00014-7bff3d15-fb34-42d9-84f2-d5b16b79b498.c000.snappy.parquet.crc', '.part-00164-7bff3d15-fb34-42d9-84f2-d5b16b79b498.c000.snappy.parquet.crc', '.part-00103-7bff3d15-fb34-42d9-84f2-d5b16b79b498.c000.snappy.parquet.crc', '.part-00073-7bff3d15-fb34-42d9-84f2-d5b16b79b498.c000.snappy.parquet.crc', 'part-00112-7bff3d15-fb34-42d9-84f2-d5b16b79b498.c000.snappy.parquet', 'part-00013-7bff3d15-fb34-42d9-84f2-d5b16b79b498.c000.snappy.parquet', 'part-00166-7bff3d15-fb34-42d9-84f2-d5b16b79b498.c000.snappy.parquet', 'part-00067-7bff3d15-fb34-42d9-84f2-d5b16b79b498.c000.snappy.parquet', '.part-00185-7bff3d15-fb34-42d9-84f2-d5b16b79b498.c000.snappy.parquet.crc', '.part-00120-7bff3d15-fb34-42d9-84f2-d5b16b79b498.c000.snappy.parquet.crc', '.part-00050-7bff3d15-fb34-42d9-84f2-d5b16b79b498.c000.snappy.parquet.crc', '.part-00179-7bff3d15-fb34-42d9-84f2-d5b16b79b498.c000.snappy.parquet.crc', '.part-00009-7bff3d15-fb34-42d9-84f2-d5b16b79b498.c000.snappy.parquet.crc', 'part-00119-7bff3d15-fb34-42d9-84f2-d5b16b79b498.c000.snappy.parquet', 'part-00018-7bff3d15-fb34-42d9-84f2-d5b16b79b498.c000.snappy.parquet', 'part-00191-7bff3d15-fb34-42d9-84f2-d5b16b79b498.c000.snappy.parquet', 'part-00090-7bff3d15-fb34-42d9-84f2-d5b16b79b498.c000.snappy.parquet', '.part-00112-7bff3d15-fb34-42d9-84f2-d5b16b79b498.c000.snappy.parquet.crc', '.part-00062-7bff3d15-fb34-42d9-84f2-d5b16b79b498.c000.snappy.parquet.crc', '.part-00168-7bff3d15-fb34-42d9-84f2-d5b16b79b498.c000.snappy.parquet.crc', 'part-00051-7bff3d15-fb34-42d9-84f2-d5b16b79b498.c000.snappy.parquet', 'part-00150-7bff3d15-fb34-42d9-84f2-d5b16b79b498.c000.snappy.parquet', '.part-00018-7bff3d15-fb34-42d9-84f2-d5b16b79b498.c000.snappy.parquet.crc', 'part-00025-7bff3d15-fb34-42d9-84f2-d5b16b79b498.c000.snappy.parquet', 'part-00124-7bff3d15-fb34-42d9-84f2-d5b16b79b498.c000.snappy.parquet', '.part-00194-7bff3d15-fb34-42d9-84f2-d5b16b79b498.c000.snappy.parquet.crc', '.part-00131-7bff3d15-fb34-42d9-84f2-d5b16b79b498.c000.snappy.parquet.crc', '.part-00041-7bff3d15-fb34-42d9-84f2-d5b16b79b498.c000.snappy.parquet.crc', '.part-00083-7bff3d15-fb34-42d9-84f2-d5b16b79b498.c000.snappy.parquet.crc', '.part-00026-7bff3d15-fb34-42d9-84f2-d5b16b79b498.c000.snappy.parquet.crc', '.part-00156-7bff3d15-fb34-42d9-84f2-d5b16b79b498.c000.snappy.parquet.crc', 'part-00004-7bff3d15-fb34-42d9-84f2-d5b16b79b498.c000.snappy.parquet', 'part-00105-7bff3d15-fb34-42d9-84f2-d5b16b79b498.c000.snappy.parquet', 'part-00070-7bff3d15-fb34-42d9-84f2-d5b16b79b498.c000.snappy.parquet', 'part-00171-7bff3d15-fb34-42d9-84f2-d5b16b79b498.c000.snappy.parquet', '.part-00005-7bff3d15-fb34-42d9-84f2-d5b16b79b498.c000.snappy.parquet.crc', '.part-00175-7bff3d15-fb34-42d9-84f2-d5b16b79b498.c000.snappy.parquet.crc', '.part-00189-7bff3d15-fb34-42d9-84f2-d5b16b79b498.c000.snappy.parquet.crc', 'part-00138-7bff3d15-fb34-42d9-84f2-d5b16b79b498.c000.snappy.parquet', 'part-00039-7bff3d15-fb34-42d9-84f2-d5b16b79b498.c000.snappy.parquet']\n",
      "/Users/home/Documents/dend/Data-Engineering-ND/Capstone/output/i94_immigrations ['._SUCCESS.crc', '_SUCCESS']\n",
      "/Users/home/Documents/dend/Data-Engineering-ND/Capstone/output/i94_immigrations/i94_year=2016 []\n",
      "/Users/home/Documents/dend/Data-Engineering-ND/Capstone/output/i94_immigrations/i94_year=2016/i94_month=4 ['part-00022-95dd3519-a653-4c5b-ab50-810158167434.c000.snappy.parquet', 'part-00123-95dd3519-a653-4c5b-ab50-810158167434.c000.snappy.parquet', 'part-00056-95dd3519-a653-4c5b-ab50-810158167434.c000.snappy.parquet', 'part-00157-95dd3519-a653-4c5b-ab50-810158167434.c000.snappy.parquet', '.part-00154-95dd3519-a653-4c5b-ab50-810158167434.c000.snappy.parquet.crc', '.part-00024-95dd3519-a653-4c5b-ab50-810158167434.c000.snappy.parquet.crc', '.part-00081-95dd3519-a653-4c5b-ab50-810158167434.c000.snappy.parquet.crc', 'part-00196-95dd3519-a653-4c5b-ab50-810158167434.c000.snappy.parquet', 'part-00097-95dd3519-a653-4c5b-ab50-810158167434.c000.snappy.parquet', '.part-00177-95dd3519-a653-4c5b-ab50-810158167434.c000.snappy.parquet.crc', '.part-00007-95dd3519-a653-4c5b-ab50-810158167434.c000.snappy.parquet.crc', '.part-00060-95dd3519-a653-4c5b-ab50-810158167434.c000.snappy.parquet.crc', '.part-00110-95dd3519-a653-4c5b-ab50-810158167434.c000.snappy.parquet.crc', '.part-00039-95dd3519-a653-4c5b-ab50-810158167434.c000.snappy.parquet.crc', '.part-00149-95dd3519-a653-4c5b-ab50-810158167434.c000.snappy.parquet.crc', '.part-00043-95dd3519-a653-4c5b-ab50-810158167434.c000.snappy.parquet.crc', '.part-00133-95dd3519-a653-4c5b-ab50-810158167434.c000.snappy.parquet.crc', '.part-00196-95dd3519-a653-4c5b-ab50-810158167434.c000.snappy.parquet.crc', 'part-00077-95dd3519-a653-4c5b-ab50-810158167434.c000.snappy.parquet', 'part-00176-95dd3519-a653-4c5b-ab50-810158167434.c000.snappy.parquet', 'part-00003-95dd3519-a653-4c5b-ab50-810158167434.c000.snappy.parquet', 'part-00102-95dd3519-a653-4c5b-ab50-810158167434.c000.snappy.parquet', 'part-00134-95dd3519-a653-4c5b-ab50-810158167434.c000.snappy.parquet', '.part-00028-95dd3519-a653-4c5b-ab50-810158167434.c000.snappy.parquet.crc', 'part-00035-95dd3519-a653-4c5b-ab50-810158167434.c000.snappy.parquet', '.part-00158-95dd3519-a653-4c5b-ab50-810158167434.c000.snappy.parquet.crc', 'part-00140-95dd3519-a653-4c5b-ab50-810158167434.c000.snappy.parquet', 'part-00041-95dd3519-a653-4c5b-ab50-810158167434.c000.snappy.parquet', '.part-00071-95dd3519-a653-4c5b-ab50-810158167434.c000.snappy.parquet.crc', '.part-00101-95dd3519-a653-4c5b-ab50-810158167434.c000.snappy.parquet.crc', 'part-00080-95dd3519-a653-4c5b-ab50-810158167434.c000.snappy.parquet', 'part-00181-95dd3519-a653-4c5b-ab50-810158167434.c000.snappy.parquet', 'part-00008-95dd3519-a653-4c5b-ab50-810158167434.c000.snappy.parquet', 'part-00109-95dd3519-a653-4c5b-ab50-810158167434.c000.snappy.parquet', '.part-00052-95dd3519-a653-4c5b-ab50-810158167434.c000.snappy.parquet.crc', '.part-00122-95dd3519-a653-4c5b-ab50-810158167434.c000.snappy.parquet.crc', '.part-00187-95dd3519-a653-4c5b-ab50-810158167434.c000.snappy.parquet.crc', '.part-00145-95dd3519-a653-4c5b-ab50-810158167434.c000.snappy.parquet.crc', '.part-00035-95dd3519-a653-4c5b-ab50-810158167434.c000.snappy.parquet.crc', '.part-00090-95dd3519-a653-4c5b-ab50-810158167434.c000.snappy.parquet.crc', 'part-00029-95dd3519-a653-4c5b-ab50-810158167434.c000.snappy.parquet', 'part-00128-95dd3519-a653-4c5b-ab50-810158167434.c000.snappy.parquet', '.part-00166-95dd3519-a653-4c5b-ab50-810158167434.c000.snappy.parquet.crc', '.part-00016-95dd3519-a653-4c5b-ab50-810158167434.c000.snappy.parquet.crc', 'part-00161-95dd3519-a653-4c5b-ab50-810158167434.c000.snappy.parquet', 'part-00060-95dd3519-a653-4c5b-ab50-810158167434.c000.snappy.parquet', 'part-00115-95dd3519-a653-4c5b-ab50-810158167434.c000.snappy.parquet', 'part-00014-95dd3519-a653-4c5b-ab50-810158167434.c000.snappy.parquet', 'part-00018-95dd3519-a653-4c5b-ab50-810158167434.c000.snappy.parquet', 'part-00119-95dd3519-a653-4c5b-ab50-810158167434.c000.snappy.parquet', '.part-00072-95dd3519-a653-4c5b-ab50-810158167434.c000.snappy.parquet.crc', 'part-00090-95dd3519-a653-4c5b-ab50-810158167434.c000.snappy.parquet', '.part-00102-95dd3519-a653-4c5b-ab50-810158167434.c000.snappy.parquet.crc', 'part-00191-95dd3519-a653-4c5b-ab50-810158167434.c000.snappy.parquet', '.part-00008-95dd3519-a653-4c5b-ab50-810158167434.c000.snappy.parquet.crc', '.part-00178-95dd3519-a653-4c5b-ab50-810158167434.c000.snappy.parquet.crc', 'part-00150-95dd3519-a653-4c5b-ab50-810158167434.c000.snappy.parquet', '.part-00051-95dd3519-a653-4c5b-ab50-810158167434.c000.snappy.parquet.crc', 'part-00051-95dd3519-a653-4c5b-ab50-810158167434.c000.snappy.parquet', '.part-00121-95dd3519-a653-4c5b-ab50-810158167434.c000.snappy.parquet.crc', 'part-00124-95dd3519-a653-4c5b-ab50-810158167434.c000.snappy.parquet', '.part-00184-95dd3519-a653-4c5b-ab50-810158167434.c000.snappy.parquet.crc', 'part-00025-95dd3519-a653-4c5b-ab50-810158167434.c000.snappy.parquet', 'part-00105-95dd3519-a653-4c5b-ab50-810158167434.c000.snappy.parquet', 'part-00004-95dd3519-a653-4c5b-ab50-810158167434.c000.snappy.parquet', '.part-00146-95dd3519-a653-4c5b-ab50-810158167434.c000.snappy.parquet.crc', '.part-00036-95dd3519-a653-4c5b-ab50-810158167434.c000.snappy.parquet.crc', 'part-00171-95dd3519-a653-4c5b-ab50-810158167434.c000.snappy.parquet', '.part-00093-95dd3519-a653-4c5b-ab50-810158167434.c000.snappy.parquet.crc', 'part-00070-95dd3519-a653-4c5b-ab50-810158167434.c000.snappy.parquet', 'part-00039-95dd3519-a653-4c5b-ab50-810158167434.c000.snappy.parquet', '.part-00165-95dd3519-a653-4c5b-ab50-810158167434.c000.snappy.parquet.crc', 'part-00138-95dd3519-a653-4c5b-ab50-810158167434.c000.snappy.parquet', '.part-00015-95dd3519-a653-4c5b-ab50-810158167434.c000.snappy.parquet.crc', '.part-00199-95dd3519-a653-4c5b-ab50-810158167434.c000.snappy.parquet.crc', '.part-00157-95dd3519-a653-4c5b-ab50-810158167434.c000.snappy.parquet.crc', '.part-00027-95dd3519-a653-4c5b-ab50-810158167434.c000.snappy.parquet.crc', '.part-00082-95dd3519-a653-4c5b-ab50-810158167434.c000.snappy.parquet.crc', 'part-00186-95dd3519-a653-4c5b-ab50-810158167434.c000.snappy.parquet', 'part-00087-95dd3519-a653-4c5b-ab50-810158167434.c000.snappy.parquet', '.part-00188-95dd3519-a653-4c5b-ab50-810158167434.c000.snappy.parquet.crc', 'part-00046-95dd3519-a653-4c5b-ab50-810158167434.c000.snappy.parquet', 'part-00147-95dd3519-a653-4c5b-ab50-810158167434.c000.snappy.parquet', 'part-00032-95dd3519-a653-4c5b-ab50-810158167434.c000.snappy.parquet', '.part-00174-95dd3519-a653-4c5b-ab50-810158167434.c000.snappy.parquet.crc', 'part-00133-95dd3519-a653-4c5b-ab50-810158167434.c000.snappy.parquet', '.part-00004-95dd3519-a653-4c5b-ab50-810158167434.c000.snappy.parquet.crc', 'part-00013-95dd3519-a653-4c5b-ab50-810158167434.c000.snappy.parquet', 'part-00112-95dd3519-a653-4c5b-ab50-810158167434.c000.snappy.parquet', 'part-00067-95dd3519-a653-4c5b-ab50-810158167434.c000.snappy.parquet', '.part-00063-95dd3519-a653-4c5b-ab50-810158167434.c000.snappy.parquet.crc', 'part-00166-95dd3519-a653-4c5b-ab50-810158167434.c000.snappy.parquet', '.part-00113-95dd3519-a653-4c5b-ab50-810158167434.c000.snappy.parquet.crc', '.part-00040-95dd3519-a653-4c5b-ab50-810158167434.c000.snappy.parquet.crc', '.part-00130-95dd3519-a653-4c5b-ab50-810158167434.c000.snappy.parquet.crc', '.part-00195-95dd3519-a653-4c5b-ab50-810158167434.c000.snappy.parquet.crc', '.part-00019-95dd3519-a653-4c5b-ab50-810158167434.c000.snappy.parquet.crc', '.part-00169-95dd3519-a653-4c5b-ab50-810158167434.c000.snappy.parquet.crc', '.part-00076-95dd3519-a653-4c5b-ab50-810158167434.c000.snappy.parquet.crc', 'part-00091-95dd3519-a653-4c5b-ab50-810158167434.c000.snappy.parquet', 'part-00190-95dd3519-a653-4c5b-ab50-810158167434.c000.snappy.parquet', '.part-00106-95dd3519-a653-4c5b-ab50-810158167434.c000.snappy.parquet.crc', 'part-00019-95dd3519-a653-4c5b-ab50-810158167434.c000.snappy.parquet', 'part-00118-95dd3519-a653-4c5b-ab50-810158167434.c000.snappy.parquet', 'part-00125-95dd3519-a653-4c5b-ab50-810158167434.c000.snappy.parquet', '.part-00180-95dd3519-a653-4c5b-ab50-810158167434.c000.snappy.parquet.crc', 'part-00024-95dd3519-a653-4c5b-ab50-810158167434.c000.snappy.parquet', '.part-00055-95dd3519-a653-4c5b-ab50-810158167434.c000.snappy.parquet.crc', 'part-00151-95dd3519-a653-4c5b-ab50-810158167434.c000.snappy.parquet', 'part-00050-95dd3519-a653-4c5b-ab50-810158167434.c000.snappy.parquet', '.part-00125-95dd3519-a653-4c5b-ab50-810158167434.c000.snappy.parquet.crc', 'part-00170-95dd3519-a653-4c5b-ab50-810158167434.c000.snappy.parquet', '.part-00097-95dd3519-a653-4c5b-ab50-810158167434.c000.snappy.parquet.crc', 'part-00071-95dd3519-a653-4c5b-ab50-810158167434.c000.snappy.parquet', 'part-00104-95dd3519-a653-4c5b-ab50-810158167434.c000.snappy.parquet', 'part-00005-95dd3519-a653-4c5b-ab50-810158167434.c000.snappy.parquet', '.part-00142-95dd3519-a653-4c5b-ab50-810158167434.c000.snappy.parquet.crc', '.part-00032-95dd3519-a653-4c5b-ab50-810158167434.c000.snappy.parquet.crc', '.part-00161-95dd3519-a653-4c5b-ab50-810158167434.c000.snappy.parquet.crc', 'part-00038-95dd3519-a653-4c5b-ab50-810158167434.c000.snappy.parquet', 'part-00139-95dd3519-a653-4c5b-ab50-810158167434.c000.snappy.parquet', '.part-00011-95dd3519-a653-4c5b-ab50-810158167434.c000.snappy.parquet.crc', '.part-00138-95dd3519-a653-4c5b-ab50-810158167434.c000.snappy.parquet.crc', '.part-00048-95dd3519-a653-4c5b-ab50-810158167434.c000.snappy.parquet.crc', '.part-00086-95dd3519-a653-4c5b-ab50-810158167434.c000.snappy.parquet.crc', 'part-00187-95dd3519-a653-4c5b-ab50-810158167434.c000.snappy.parquet', 'part-00086-95dd3519-a653-4c5b-ab50-810158167434.c000.snappy.parquet', '.part-00153-95dd3519-a653-4c5b-ab50-810158167434.c000.snappy.parquet.crc', '.part-00023-95dd3519-a653-4c5b-ab50-810158167434.c000.snappy.parquet.crc', '.part-00129-95dd3519-a653-4c5b-ab50-810158167434.c000.snappy.parquet.crc', '.part-00059-95dd3519-a653-4c5b-ab50-810158167434.c000.snappy.parquet.crc', '.part-00170-95dd3519-a653-4c5b-ab50-810158167434.c000.snappy.parquet.crc', 'part-00033-95dd3519-a653-4c5b-ab50-810158167434.c000.snappy.parquet', 'part-00132-95dd3519-a653-4c5b-ab50-810158167434.c000.snappy.parquet', '.part-00000-95dd3519-a653-4c5b-ab50-810158167434.c000.snappy.parquet.crc', 'part-00047-95dd3519-a653-4c5b-ab50-810158167434.c000.snappy.parquet', 'part-00146-95dd3519-a653-4c5b-ab50-810158167434.c000.snappy.parquet', 'part-00066-95dd3519-a653-4c5b-ab50-810158167434.c000.snappy.parquet', 'part-00167-95dd3519-a653-4c5b-ab50-810158167434.c000.snappy.parquet', '.part-00067-95dd3519-a653-4c5b-ab50-810158167434.c000.snappy.parquet.crc', '.part-00117-95dd3519-a653-4c5b-ab50-810158167434.c000.snappy.parquet.crc', 'part-00012-95dd3519-a653-4c5b-ab50-810158167434.c000.snappy.parquet', 'part-00113-95dd3519-a653-4c5b-ab50-810158167434.c000.snappy.parquet', '.part-00191-95dd3519-a653-4c5b-ab50-810158167434.c000.snappy.parquet.crc', '.part-00044-95dd3519-a653-4c5b-ab50-810158167434.c000.snappy.parquet.crc', '.part-00134-95dd3519-a653-4c5b-ab50-810158167434.c000.snappy.parquet.crc', 'part-00057-95dd3519-a653-4c5b-ab50-810158167434.c000.snappy.parquet', '.part-00109-95dd3519-a653-4c5b-ab50-810158167434.c000.snappy.parquet.crc', 'part-00156-95dd3519-a653-4c5b-ab50-810158167434.c000.snappy.parquet', '.part-00079-95dd3519-a653-4c5b-ab50-810158167434.c000.snappy.parquet.crc', 'part-00023-95dd3519-a653-4c5b-ab50-810158167434.c000.snappy.parquet', 'part-00122-95dd3519-a653-4c5b-ab50-810158167434.c000.snappy.parquet', '.part-00085-95dd3519-a653-4c5b-ab50-810158167434.c000.snappy.parquet.crc', '.part-00150-95dd3519-a653-4c5b-ab50-810158167434.c000.snappy.parquet.crc', '.part-00020-95dd3519-a653-4c5b-ab50-810158167434.c000.snappy.parquet.crc', 'part-00197-95dd3519-a653-4c5b-ab50-810158167434.c000.snappy.parquet', 'part-00096-95dd3519-a653-4c5b-ab50-810158167434.c000.snappy.parquet', '.part-00173-95dd3519-a653-4c5b-ab50-810158167434.c000.snappy.parquet.crc', '.part-00003-95dd3519-a653-4c5b-ab50-810158167434.c000.snappy.parquet.crc', '.part-00064-95dd3519-a653-4c5b-ab50-810158167434.c000.snappy.parquet.crc', '.part-00114-95dd3519-a653-4c5b-ab50-810158167434.c000.snappy.parquet.crc', '.part-00098-95dd3519-a653-4c5b-ab50-810158167434.c000.snappy.parquet.crc', '.part-00192-95dd3519-a653-4c5b-ab50-810158167434.c000.snappy.parquet.crc', '.part-00047-95dd3519-a653-4c5b-ab50-810158167434.c000.snappy.parquet.crc', '.part-00137-95dd3519-a653-4c5b-ab50-810158167434.c000.snappy.parquet.crc', 'part-00002-95dd3519-a653-4c5b-ab50-810158167434.c000.snappy.parquet', 'part-00103-95dd3519-a653-4c5b-ab50-810158167434.c000.snappy.parquet', 'part-00076-95dd3519-a653-4c5b-ab50-810158167434.c000.snappy.parquet', 'part-00177-95dd3519-a653-4c5b-ab50-810158167434.c000.snappy.parquet', 'part-00141-95dd3519-a653-4c5b-ab50-810158167434.c000.snappy.parquet', 'part-00040-95dd3519-a653-4c5b-ab50-810158167434.c000.snappy.parquet', '.part-00089-95dd3519-a653-4c5b-ab50-810158167434.c000.snappy.parquet.crc', 'part-00135-95dd3519-a653-4c5b-ab50-810158167434.c000.snappy.parquet', 'part-00034-95dd3519-a653-4c5b-ab50-810158167434.c000.snappy.parquet', '.part-00075-95dd3519-a653-4c5b-ab50-810158167434.c000.snappy.parquet.crc', '.part-00105-95dd3519-a653-4c5b-ab50-810158167434.c000.snappy.parquet.crc', 'part-00009-95dd3519-a653-4c5b-ab50-810158167434.c000.snappy.parquet', 'part-00108-95dd3519-a653-4c5b-ab50-810158167434.c000.snappy.parquet', 'part-00081-95dd3519-a653-4c5b-ab50-810158167434.c000.snappy.parquet', 'part-00180-95dd3519-a653-4c5b-ab50-810158167434.c000.snappy.parquet', '.part-00183-95dd3519-a653-4c5b-ab50-810158167434.c000.snappy.parquet.crc', '.part-00056-95dd3519-a653-4c5b-ab50-810158167434.c000.snappy.parquet.crc', '.part-00126-95dd3519-a653-4c5b-ab50-810158167434.c000.snappy.parquet.crc', '.part-00094-95dd3519-a653-4c5b-ab50-810158167434.c000.snappy.parquet.crc', '.part-00141-95dd3519-a653-4c5b-ab50-810158167434.c000.snappy.parquet.crc', '.part-00031-95dd3519-a653-4c5b-ab50-810158167434.c000.snappy.parquet.crc', '.part-00118-95dd3519-a653-4c5b-ab50-810158167434.c000.snappy.parquet.crc', '.part-00068-95dd3519-a653-4c5b-ab50-810158167434.c000.snappy.parquet.crc', 'part-00028-95dd3519-a653-4c5b-ab50-810158167434.c000.snappy.parquet', 'part-00129-95dd3519-a653-4c5b-ab50-810158167434.c000.snappy.parquet', '.part-00162-95dd3519-a653-4c5b-ab50-810158167434.c000.snappy.parquet.crc', '.part-00012-95dd3519-a653-4c5b-ab50-810158167434.c000.snappy.parquet.crc', 'part-00114-95dd3519-a653-4c5b-ab50-810158167434.c000.snappy.parquet', 'part-00015-95dd3519-a653-4c5b-ab50-810158167434.c000.snappy.parquet', 'part-00160-95dd3519-a653-4c5b-ab50-810158167434.c000.snappy.parquet', 'part-00061-95dd3519-a653-4c5b-ab50-810158167434.c000.snappy.parquet', 'part-00093-95dd3519-a653-4c5b-ab50-810158167434.c000.snappy.parquet', 'part-00192-95dd3519-a653-4c5b-ab50-810158167434.c000.snappy.parquet', '.part-00025-95dd3519-a653-4c5b-ab50-810158167434.c000.snappy.parquet.crc', '.part-00155-95dd3519-a653-4c5b-ab50-810158167434.c000.snappy.parquet.crc', '.part-00080-95dd3519-a653-4c5b-ab50-810158167434.c000.snappy.parquet.crc', 'part-00127-95dd3519-a653-4c5b-ab50-810158167434.c000.snappy.parquet', 'part-00026-95dd3519-a653-4c5b-ab50-810158167434.c000.snappy.parquet', 'part-00153-95dd3519-a653-4c5b-ab50-810158167434.c000.snappy.parquet', 'part-00052-95dd3519-a653-4c5b-ab50-810158167434.c000.snappy.parquet', '.part-00006-95dd3519-a653-4c5b-ab50-810158167434.c000.snappy.parquet.crc', '.part-00176-95dd3519-a653-4c5b-ab50-810158167434.c000.snappy.parquet.crc', '.part-00111-95dd3519-a653-4c5b-ab50-810158167434.c000.snappy.parquet.crc', '.part-00061-95dd3519-a653-4c5b-ab50-810158167434.c000.snappy.parquet.crc', '.part-00148-95dd3519-a653-4c5b-ab50-810158167434.c000.snappy.parquet.crc', 'part-00172-95dd3519-a653-4c5b-ab50-810158167434.c000.snappy.parquet', 'part-00073-95dd3519-a653-4c5b-ab50-810158167434.c000.snappy.parquet', '.part-00038-95dd3519-a653-4c5b-ab50-810158167434.c000.snappy.parquet.crc', 'part-00106-95dd3519-a653-4c5b-ab50-810158167434.c000.snappy.parquet', 'part-00007-95dd3519-a653-4c5b-ab50-810158167434.c000.snappy.parquet', '.part-00132-95dd3519-a653-4c5b-ab50-810158167434.c000.snappy.parquet.crc', '.part-00042-95dd3519-a653-4c5b-ab50-810158167434.c000.snappy.parquet.crc', '.part-00197-95dd3519-a653-4c5b-ab50-810158167434.c000.snappy.parquet.crc', '.part-00159-95dd3519-a653-4c5b-ab50-810158167434.c000.snappy.parquet.crc', 'part-00179-95dd3519-a653-4c5b-ab50-810158167434.c000.snappy.parquet', 'part-00078-95dd3519-a653-4c5b-ab50-810158167434.c000.snappy.parquet', '.part-00029-95dd3519-a653-4c5b-ab50-810158167434.c000.snappy.parquet.crc', 'part-00185-95dd3519-a653-4c5b-ab50-810158167434.c000.snappy.parquet', 'part-00084-95dd3519-a653-4c5b-ab50-810158167434.c000.snappy.parquet', '.part-00100-95dd3519-a653-4c5b-ab50-810158167434.c000.snappy.parquet.crc', '.part-00070-95dd3519-a653-4c5b-ab50-810158167434.c000.snappy.parquet.crc', 'part-00031-95dd3519-a653-4c5b-ab50-810158167434.c000.snappy.parquet', 'part-00130-95dd3519-a653-4c5b-ab50-810158167434.c000.snappy.parquet', 'part-00045-95dd3519-a653-4c5b-ab50-810158167434.c000.snappy.parquet', 'part-00144-95dd3519-a653-4c5b-ab50-810158167434.c000.snappy.parquet', '.part-00123-95dd3519-a653-4c5b-ab50-810158167434.c000.snappy.parquet.crc', '.part-00053-95dd3519-a653-4c5b-ab50-810158167434.c000.snappy.parquet.crc', '.part-00186-95dd3519-a653-4c5b-ab50-810158167434.c000.snappy.parquet.crc', '.part-00034-95dd3519-a653-4c5b-ab50-810158167434.c000.snappy.parquet.crc', '.part-00144-95dd3519-a653-4c5b-ab50-810158167434.c000.snappy.parquet.crc', '.part-00091-95dd3519-a653-4c5b-ab50-810158167434.c000.snappy.parquet.crc', 'part-00064-95dd3519-a653-4c5b-ab50-810158167434.c000.snappy.parquet', 'part-00165-95dd3519-a653-4c5b-ab50-810158167434.c000.snappy.parquet', 'part-00098-95dd3519-a653-4c5b-ab50-810158167434.c000.snappy.parquet', 'part-00199-95dd3519-a653-4c5b-ab50-810158167434.c000.snappy.parquet', 'part-00010-95dd3519-a653-4c5b-ab50-810158167434.c000.snappy.parquet', 'part-00111-95dd3519-a653-4c5b-ab50-810158167434.c000.snappy.parquet', '.part-00017-95dd3519-a653-4c5b-ab50-810158167434.c000.snappy.parquet.crc', '.part-00167-95dd3519-a653-4c5b-ab50-810158167434.c000.snappy.parquet.crc', 'part-00158-95dd3519-a653-4c5b-ab50-810158167434.c000.snappy.parquet', 'part-00059-95dd3519-a653-4c5b-ab50-810158167434.c000.snappy.parquet', 'part-00055-95dd3519-a653-4c5b-ab50-810158167434.c000.snappy.parquet', 'part-00154-95dd3519-a653-4c5b-ab50-810158167434.c000.snappy.parquet', 'part-00021-95dd3519-a653-4c5b-ab50-810158167434.c000.snappy.parquet', 'part-00120-95dd3519-a653-4c5b-ab50-810158167434.c000.snappy.parquet', '.part-00103-95dd3519-a653-4c5b-ab50-810158167434.c000.snappy.parquet.crc', '.part-00073-95dd3519-a653-4c5b-ab50-810158167434.c000.snappy.parquet.crc', '.part-00179-95dd3519-a653-4c5b-ab50-810158167434.c000.snappy.parquet.crc', '.part-00009-95dd3519-a653-4c5b-ab50-810158167434.c000.snappy.parquet.crc', '.part-00120-95dd3519-a653-4c5b-ab50-810158167434.c000.snappy.parquet.crc', '.part-00050-95dd3519-a653-4c5b-ab50-810158167434.c000.snappy.parquet.crc', 'part-00169-95dd3519-a653-4c5b-ab50-810158167434.c000.snappy.parquet', 'part-00068-95dd3519-a653-4c5b-ab50-810158167434.c000.snappy.parquet', 'part-00195-95dd3519-a653-4c5b-ab50-810158167434.c000.snappy.parquet', '.part-00185-95dd3519-a653-4c5b-ab50-810158167434.c000.snappy.parquet.crc', 'part-00094-95dd3519-a653-4c5b-ab50-810158167434.c000.snappy.parquet', 'part-00148-95dd3519-a653-4c5b-ab50-810158167434.c000.snappy.parquet', 'part-00049-95dd3519-a653-4c5b-ab50-810158167434.c000.snappy.parquet', '.part-00037-95dd3519-a653-4c5b-ab50-810158167434.c000.snappy.parquet.crc', '.part-00147-95dd3519-a653-4c5b-ab50-810158167434.c000.snappy.parquet.crc', '.part-00092-95dd3519-a653-4c5b-ab50-810158167434.c000.snappy.parquet.crc', 'part-00000-95dd3519-a653-4c5b-ab50-810158167434.c000.snappy.parquet', 'part-00101-95dd3519-a653-4c5b-ab50-810158167434.c000.snappy.parquet', '.part-00014-95dd3519-a653-4c5b-ab50-810158167434.c000.snappy.parquet.crc', 'part-00074-95dd3519-a653-4c5b-ab50-810158167434.c000.snappy.parquet', 'part-00175-95dd3519-a653-4c5b-ab50-810158167434.c000.snappy.parquet', '.part-00164-95dd3519-a653-4c5b-ab50-810158167434.c000.snappy.parquet.crc', 'part-00088-95dd3519-a653-4c5b-ab50-810158167434.c000.snappy.parquet', 'part-00189-95dd3519-a653-4c5b-ab50-810158167434.c000.snappy.parquet', '.part-00198-95dd3519-a653-4c5b-ab50-810158167434.c000.snappy.parquet.crc', 'part-00143-95dd3519-a653-4c5b-ab50-810158167434.c000.snappy.parquet', 'part-00042-95dd3519-a653-4c5b-ab50-810158167434.c000.snappy.parquet', '.part-00026-95dd3519-a653-4c5b-ab50-810158167434.c000.snappy.parquet.crc', '.part-00156-95dd3519-a653-4c5b-ab50-810158167434.c000.snappy.parquet.crc', 'part-00137-95dd3519-a653-4c5b-ab50-810158167434.c000.snappy.parquet', 'part-00036-95dd3519-a653-4c5b-ab50-810158167434.c000.snappy.parquet', '.part-00083-95dd3519-a653-4c5b-ab50-810158167434.c000.snappy.parquet.crc', '.part-00189-95dd3519-a653-4c5b-ab50-810158167434.c000.snappy.parquet.crc', '.part-00005-95dd3519-a653-4c5b-ab50-810158167434.c000.snappy.parquet.crc', '.part-00175-95dd3519-a653-4c5b-ab50-810158167434.c000.snappy.parquet.crc', 'part-00083-95dd3519-a653-4c5b-ab50-810158167434.c000.snappy.parquet', 'part-00182-95dd3519-a653-4c5b-ab50-810158167434.c000.snappy.parquet', '.part-00112-95dd3519-a653-4c5b-ab50-810158167434.c000.snappy.parquet.crc', '.part-00062-95dd3519-a653-4c5b-ab50-810158167434.c000.snappy.parquet.crc', '.part-00131-95dd3519-a653-4c5b-ab50-810158167434.c000.snappy.parquet.crc', 'part-00116-95dd3519-a653-4c5b-ab50-810158167434.c000.snappy.parquet', 'part-00017-95dd3519-a653-4c5b-ab50-810158167434.c000.snappy.parquet', '.part-00041-95dd3519-a653-4c5b-ab50-810158167434.c000.snappy.parquet.crc', 'part-00162-95dd3519-a653-4c5b-ab50-810158167434.c000.snappy.parquet', 'part-00063-95dd3519-a653-4c5b-ab50-810158167434.c000.snappy.parquet', '.part-00194-95dd3519-a653-4c5b-ab50-810158167434.c000.snappy.parquet.crc', '.part-00168-95dd3519-a653-4c5b-ab50-810158167434.c000.snappy.parquet.crc', '.part-00018-95dd3519-a653-4c5b-ab50-810158167434.c000.snappy.parquet.crc', 'part-00020-95dd3519-a653-4c5b-ab50-810158167434.c000.snappy.parquet', 'part-00121-95dd3519-a653-4c5b-ab50-810158167434.c000.snappy.parquet', '.part-00107-95dd3519-a653-4c5b-ab50-810158167434.c000.snappy.parquet.crc', '.part-00077-95dd3519-a653-4c5b-ab50-810158167434.c000.snappy.parquet.crc', 'part-00054-95dd3519-a653-4c5b-ab50-810158167434.c000.snappy.parquet', 'part-00155-95dd3519-a653-4c5b-ab50-810158167434.c000.snappy.parquet', 'part-00168-95dd3519-a653-4c5b-ab50-810158167434.c000.snappy.parquet', 'part-00069-95dd3519-a653-4c5b-ab50-810158167434.c000.snappy.parquet', 'part-00194-95dd3519-a653-4c5b-ab50-810158167434.c000.snappy.parquet', 'part-00095-95dd3519-a653-4c5b-ab50-810158167434.c000.snappy.parquet', '.part-00181-95dd3519-a653-4c5b-ab50-810158167434.c000.snappy.parquet.crc', '.part-00124-95dd3519-a653-4c5b-ab50-810158167434.c000.snappy.parquet.crc', '.part-00054-95dd3519-a653-4c5b-ab50-810158167434.c000.snappy.parquet.crc', '.part-00096-95dd3519-a653-4c5b-ab50-810158167434.c000.snappy.parquet.crc', 'part-00149-95dd3519-a653-4c5b-ab50-810158167434.c000.snappy.parquet', 'part-00048-95dd3519-a653-4c5b-ab50-810158167434.c000.snappy.parquet', '.part-00033-95dd3519-a653-4c5b-ab50-810158167434.c000.snappy.parquet.crc', '.part-00143-95dd3519-a653-4c5b-ab50-810158167434.c000.snappy.parquet.crc', '.part-00010-95dd3519-a653-4c5b-ab50-810158167434.c000.snappy.parquet.crc', 'part-00075-95dd3519-a653-4c5b-ab50-810158167434.c000.snappy.parquet', 'part-00174-95dd3519-a653-4c5b-ab50-810158167434.c000.snappy.parquet', '.part-00160-95dd3519-a653-4c5b-ab50-810158167434.c000.snappy.parquet.crc', 'part-00089-95dd3519-a653-4c5b-ab50-810158167434.c000.snappy.parquet', 'part-00188-95dd3519-a653-4c5b-ab50-810158167434.c000.snappy.parquet', 'part-00001-95dd3519-a653-4c5b-ab50-810158167434.c000.snappy.parquet', 'part-00100-95dd3519-a653-4c5b-ab50-810158167434.c000.snappy.parquet', '.part-00049-95dd3519-a653-4c5b-ab50-810158167434.c000.snappy.parquet.crc', '.part-00139-95dd3519-a653-4c5b-ab50-810158167434.c000.snappy.parquet.crc', 'part-00136-95dd3519-a653-4c5b-ab50-810158167434.c000.snappy.parquet', 'part-00037-95dd3519-a653-4c5b-ab50-810158167434.c000.snappy.parquet', '.part-00087-95dd3519-a653-4c5b-ab50-810158167434.c000.snappy.parquet.crc', 'part-00142-95dd3519-a653-4c5b-ab50-810158167434.c000.snappy.parquet', 'part-00043-95dd3519-a653-4c5b-ab50-810158167434.c000.snappy.parquet', '.part-00022-95dd3519-a653-4c5b-ab50-810158167434.c000.snappy.parquet.crc', '.part-00152-95dd3519-a653-4c5b-ab50-810158167434.c000.snappy.parquet.crc', '.part-00058-95dd3519-a653-4c5b-ab50-810158167434.c000.snappy.parquet.crc', '.part-00128-95dd3519-a653-4c5b-ab50-810158167434.c000.snappy.parquet.crc', '.part-00001-95dd3519-a653-4c5b-ab50-810158167434.c000.snappy.parquet.crc', '.part-00171-95dd3519-a653-4c5b-ab50-810158167434.c000.snappy.parquet.crc', 'part-00082-95dd3519-a653-4c5b-ab50-810158167434.c000.snappy.parquet', 'part-00183-95dd3519-a653-4c5b-ab50-810158167434.c000.snappy.parquet', '.part-00116-95dd3519-a653-4c5b-ab50-810158167434.c000.snappy.parquet.crc', '.part-00066-95dd3519-a653-4c5b-ab50-810158167434.c000.snappy.parquet.crc', 'part-00163-95dd3519-a653-4c5b-ab50-810158167434.c000.snappy.parquet', 'part-00062-95dd3519-a653-4c5b-ab50-810158167434.c000.snappy.parquet', '.part-00190-95dd3519-a653-4c5b-ab50-810158167434.c000.snappy.parquet.crc', '.part-00135-95dd3519-a653-4c5b-ab50-810158167434.c000.snappy.parquet.crc', 'part-00117-95dd3519-a653-4c5b-ab50-810158167434.c000.snappy.parquet', 'part-00016-95dd3519-a653-4c5b-ab50-810158167434.c000.snappy.parquet', '.part-00045-95dd3519-a653-4c5b-ab50-810158167434.c000.snappy.parquet.crc', '.part-00078-95dd3519-a653-4c5b-ab50-810158167434.c000.snappy.parquet.crc', '.part-00108-95dd3519-a653-4c5b-ab50-810158167434.c000.snappy.parquet.crc', 'part-00092-95dd3519-a653-4c5b-ab50-810158167434.c000.snappy.parquet', 'part-00193-95dd3519-a653-4c5b-ab50-810158167434.c000.snappy.parquet', '.part-00084-95dd3519-a653-4c5b-ab50-810158167434.c000.snappy.parquet.crc', '.part-00021-95dd3519-a653-4c5b-ab50-810158167434.c000.snappy.parquet.crc', '.part-00151-95dd3519-a653-4c5b-ab50-810158167434.c000.snappy.parquet.crc', 'part-00152-95dd3519-a653-4c5b-ab50-810158167434.c000.snappy.parquet', 'part-00053-95dd3519-a653-4c5b-ab50-810158167434.c000.snappy.parquet', 'part-00126-95dd3519-a653-4c5b-ab50-810158167434.c000.snappy.parquet', 'part-00027-95dd3519-a653-4c5b-ab50-810158167434.c000.snappy.parquet', '.part-00002-95dd3519-a653-4c5b-ab50-810158167434.c000.snappy.parquet.crc', '.part-00172-95dd3519-a653-4c5b-ab50-810158167434.c000.snappy.parquet.crc', '.part-00115-95dd3519-a653-4c5b-ab50-810158167434.c000.snappy.parquet.crc', '.part-00065-95dd3519-a653-4c5b-ab50-810158167434.c000.snappy.parquet.crc', 'part-00107-95dd3519-a653-4c5b-ab50-810158167434.c000.snappy.parquet', 'part-00006-95dd3519-a653-4c5b-ab50-810158167434.c000.snappy.parquet', '.part-00099-95dd3519-a653-4c5b-ab50-810158167434.c000.snappy.parquet.crc', 'part-00173-95dd3519-a653-4c5b-ab50-810158167434.c000.snappy.parquet', 'part-00072-95dd3519-a653-4c5b-ab50-810158167434.c000.snappy.parquet', '.part-00193-95dd3519-a653-4c5b-ab50-810158167434.c000.snappy.parquet.crc', '.part-00136-95dd3519-a653-4c5b-ab50-810158167434.c000.snappy.parquet.crc', '.part-00046-95dd3519-a653-4c5b-ab50-810158167434.c000.snappy.parquet.crc', '.part-00088-95dd3519-a653-4c5b-ab50-810158167434.c000.snappy.parquet.crc', 'part-00178-95dd3519-a653-4c5b-ab50-810158167434.c000.snappy.parquet', 'part-00079-95dd3519-a653-4c5b-ab50-810158167434.c000.snappy.parquet', 'part-00184-95dd3519-a653-4c5b-ab50-810158167434.c000.snappy.parquet', 'part-00085-95dd3519-a653-4c5b-ab50-810158167434.c000.snappy.parquet', '.part-00104-95dd3519-a653-4c5b-ab50-810158167434.c000.snappy.parquet.crc', '.part-00074-95dd3519-a653-4c5b-ab50-810158167434.c000.snappy.parquet.crc', 'part-00044-95dd3519-a653-4c5b-ab50-810158167434.c000.snappy.parquet', 'part-00145-95dd3519-a653-4c5b-ab50-810158167434.c000.snappy.parquet', 'part-00030-95dd3519-a653-4c5b-ab50-810158167434.c000.snappy.parquet', 'part-00131-95dd3519-a653-4c5b-ab50-810158167434.c000.snappy.parquet', '.part-00182-95dd3519-a653-4c5b-ab50-810158167434.c000.snappy.parquet.crc', '.part-00127-95dd3519-a653-4c5b-ab50-810158167434.c000.snappy.parquet.crc', '.part-00057-95dd3519-a653-4c5b-ab50-810158167434.c000.snappy.parquet.crc', '.part-00095-95dd3519-a653-4c5b-ab50-810158167434.c000.snappy.parquet.crc', '.part-00030-95dd3519-a653-4c5b-ab50-810158167434.c000.snappy.parquet.crc', '.part-00140-95dd3519-a653-4c5b-ab50-810158167434.c000.snappy.parquet.crc', '.part-00069-95dd3519-a653-4c5b-ab50-810158167434.c000.snappy.parquet.crc', 'part-00011-95dd3519-a653-4c5b-ab50-810158167434.c000.snappy.parquet', 'part-00110-95dd3519-a653-4c5b-ab50-810158167434.c000.snappy.parquet', '.part-00119-95dd3519-a653-4c5b-ab50-810158167434.c000.snappy.parquet.crc', 'part-00065-95dd3519-a653-4c5b-ab50-810158167434.c000.snappy.parquet', 'part-00164-95dd3519-a653-4c5b-ab50-810158167434.c000.snappy.parquet', 'part-00099-95dd3519-a653-4c5b-ab50-810158167434.c000.snappy.parquet', 'part-00198-95dd3519-a653-4c5b-ab50-810158167434.c000.snappy.parquet', '.part-00013-95dd3519-a653-4c5b-ab50-810158167434.c000.snappy.parquet.crc', '.part-00163-95dd3519-a653-4c5b-ab50-810158167434.c000.snappy.parquet.crc', 'part-00159-95dd3519-a653-4c5b-ab50-810158167434.c000.snappy.parquet', 'part-00058-95dd3519-a653-4c5b-ab50-810158167434.c000.snappy.parquet']\n",
      "/Users/home/Documents/dend/Data-Engineering-ND/Capstone/output/i94_travel_mode ['.part-00007-b5909528-1ee6-4742-bb8e-61b22a6f588a-c000.csv.crc', '._SUCCESS.crc', 'part-00007-b5909528-1ee6-4742-bb8e-61b22a6f588a-c000.csv', 'part-00011-b5909528-1ee6-4742-bb8e-61b22a6f588a-c000.csv', '.part-00011-b5909528-1ee6-4742-bb8e-61b22a6f588a-c000.csv.crc', 'part-00000-b5909528-1ee6-4742-bb8e-61b22a6f588a-c000.csv', '.part-00015-b5909528-1ee6-4742-bb8e-61b22a6f588a-c000.csv.crc', '.part-00003-b5909528-1ee6-4742-bb8e-61b22a6f588a-c000.csv.crc', '_SUCCESS', 'part-00003-b5909528-1ee6-4742-bb8e-61b22a6f588a-c000.csv', '.part-00000-b5909528-1ee6-4742-bb8e-61b22a6f588a-c000.csv.crc', 'part-00015-b5909528-1ee6-4742-bb8e-61b22a6f588a-c000.csv']\n",
      "/Users/home/Documents/dend/Data-Engineering-ND/Capstone/output/i94_visitors ['._SUCCESS.crc', '_SUCCESS']\n",
      "/Users/home/Documents/dend/Data-Engineering-ND/Capstone/output/i94_visitors/i94_year=2016 []\n",
      "/Users/home/Documents/dend/Data-Engineering-ND/Capstone/output/i94_visitors/i94_year=2016/i94_month=4 ['.part-00184-95d4ea9f-9a97-4fbb-8e87-d14a3aed6e0a.c000.snappy.parquet.crc', '.part-00051-95d4ea9f-9a97-4fbb-8e87-d14a3aed6e0a.c000.snappy.parquet.crc', '.part-00121-95d4ea9f-9a97-4fbb-8e87-d14a3aed6e0a.c000.snappy.parquet.crc', '.part-00008-95d4ea9f-9a97-4fbb-8e87-d14a3aed6e0a.c000.snappy.parquet.crc', 'part-00044-95d4ea9f-9a97-4fbb-8e87-d14a3aed6e0a.c000.snappy.parquet', '.part-00178-95d4ea9f-9a97-4fbb-8e87-d14a3aed6e0a.c000.snappy.parquet.crc', 'part-00145-95d4ea9f-9a97-4fbb-8e87-d14a3aed6e0a.c000.snappy.parquet', 'part-00030-95d4ea9f-9a97-4fbb-8e87-d14a3aed6e0a.c000.snappy.parquet', 'part-00131-95d4ea9f-9a97-4fbb-8e87-d14a3aed6e0a.c000.snappy.parquet', '.part-00072-95d4ea9f-9a97-4fbb-8e87-d14a3aed6e0a.c000.snappy.parquet.crc', '.part-00102-95d4ea9f-9a97-4fbb-8e87-d14a3aed6e0a.c000.snappy.parquet.crc', 'part-00184-95d4ea9f-9a97-4fbb-8e87-d14a3aed6e0a.c000.snappy.parquet', 'part-00085-95d4ea9f-9a97-4fbb-8e87-d14a3aed6e0a.c000.snappy.parquet', 'part-00178-95d4ea9f-9a97-4fbb-8e87-d14a3aed6e0a.c000.snappy.parquet', 'part-00079-95d4ea9f-9a97-4fbb-8e87-d14a3aed6e0a.c000.snappy.parquet', 'part-00159-95d4ea9f-9a97-4fbb-8e87-d14a3aed6e0a.c000.snappy.parquet', '.part-00199-95d4ea9f-9a97-4fbb-8e87-d14a3aed6e0a.c000.snappy.parquet.crc', 'part-00058-95d4ea9f-9a97-4fbb-8e87-d14a3aed6e0a.c000.snappy.parquet', '.part-00165-95d4ea9f-9a97-4fbb-8e87-d14a3aed6e0a.c000.snappy.parquet.crc', '.part-00015-95d4ea9f-9a97-4fbb-8e87-d14a3aed6e0a.c000.snappy.parquet.crc', 'part-00011-95d4ea9f-9a97-4fbb-8e87-d14a3aed6e0a.c000.snappy.parquet', 'part-00110-95d4ea9f-9a97-4fbb-8e87-d14a3aed6e0a.c000.snappy.parquet', 'part-00099-95d4ea9f-9a97-4fbb-8e87-d14a3aed6e0a.c000.snappy.parquet', 'part-00198-95d4ea9f-9a97-4fbb-8e87-d14a3aed6e0a.c000.snappy.parquet', 'part-00065-95d4ea9f-9a97-4fbb-8e87-d14a3aed6e0a.c000.snappy.parquet', 'part-00164-95d4ea9f-9a97-4fbb-8e87-d14a3aed6e0a.c000.snappy.parquet', '.part-00093-95d4ea9f-9a97-4fbb-8e87-d14a3aed6e0a.c000.snappy.parquet.crc', '.part-00146-95d4ea9f-9a97-4fbb-8e87-d14a3aed6e0a.c000.snappy.parquet.crc', '.part-00036-95d4ea9f-9a97-4fbb-8e87-d14a3aed6e0a.c000.snappy.parquet.crc', '.part-00174-95d4ea9f-9a97-4fbb-8e87-d14a3aed6e0a.c000.snappy.parquet.crc', '.part-00004-95d4ea9f-9a97-4fbb-8e87-d14a3aed6e0a.c000.snappy.parquet.crc', 'part-00152-95d4ea9f-9a97-4fbb-8e87-d14a3aed6e0a.c000.snappy.parquet', '.part-00188-95d4ea9f-9a97-4fbb-8e87-d14a3aed6e0a.c000.snappy.parquet.crc', 'part-00053-95d4ea9f-9a97-4fbb-8e87-d14a3aed6e0a.c000.snappy.parquet', 'part-00126-95d4ea9f-9a97-4fbb-8e87-d14a3aed6e0a.c000.snappy.parquet', 'part-00027-95d4ea9f-9a97-4fbb-8e87-d14a3aed6e0a.c000.snappy.parquet', '.part-00082-95d4ea9f-9a97-4fbb-8e87-d14a3aed6e0a.c000.snappy.parquet.crc', '.part-00157-95d4ea9f-9a97-4fbb-8e87-d14a3aed6e0a.c000.snappy.parquet.crc', '.part-00027-95d4ea9f-9a97-4fbb-8e87-d14a3aed6e0a.c000.snappy.parquet.crc', 'part-00092-95d4ea9f-9a97-4fbb-8e87-d14a3aed6e0a.c000.snappy.parquet', 'part-00193-95d4ea9f-9a97-4fbb-8e87-d14a3aed6e0a.c000.snappy.parquet', '.part-00019-95d4ea9f-9a97-4fbb-8e87-d14a3aed6e0a.c000.snappy.parquet.crc', '.part-00169-95d4ea9f-9a97-4fbb-8e87-d14a3aed6e0a.c000.snappy.parquet.crc', '.part-00195-95d4ea9f-9a97-4fbb-8e87-d14a3aed6e0a.c000.snappy.parquet.crc', '.part-00040-95d4ea9f-9a97-4fbb-8e87-d14a3aed6e0a.c000.snappy.parquet.crc', '.part-00130-95d4ea9f-9a97-4fbb-8e87-d14a3aed6e0a.c000.snappy.parquet.crc', 'part-00107-95d4ea9f-9a97-4fbb-8e87-d14a3aed6e0a.c000.snappy.parquet', 'part-00006-95d4ea9f-9a97-4fbb-8e87-d14a3aed6e0a.c000.snappy.parquet', 'part-00173-95d4ea9f-9a97-4fbb-8e87-d14a3aed6e0a.c000.snappy.parquet', 'part-00072-95d4ea9f-9a97-4fbb-8e87-d14a3aed6e0a.c000.snappy.parquet', '.part-00063-95d4ea9f-9a97-4fbb-8e87-d14a3aed6e0a.c000.snappy.parquet.crc', '.part-00113-95d4ea9f-9a97-4fbb-8e87-d14a3aed6e0a.c000.snappy.parquet.crc', '.part-00177-95d4ea9f-9a97-4fbb-8e87-d14a3aed6e0a.c000.snappy.parquet.crc', 'part-00082-95d4ea9f-9a97-4fbb-8e87-d14a3aed6e0a.c000.snappy.parquet', 'part-00183-95d4ea9f-9a97-4fbb-8e87-d14a3aed6e0a.c000.snappy.parquet', '.part-00007-95d4ea9f-9a97-4fbb-8e87-d14a3aed6e0a.c000.snappy.parquet.crc', '.part-00081-95d4ea9f-9a97-4fbb-8e87-d14a3aed6e0a.c000.snappy.parquet.crc', 'part-00136-95d4ea9f-9a97-4fbb-8e87-d14a3aed6e0a.c000.snappy.parquet', 'part-00037-95d4ea9f-9a97-4fbb-8e87-d14a3aed6e0a.c000.snappy.parquet', '.part-00154-95d4ea9f-9a97-4fbb-8e87-d14a3aed6e0a.c000.snappy.parquet.crc', 'part-00142-95d4ea9f-9a97-4fbb-8e87-d14a3aed6e0a.c000.snappy.parquet', '.part-00024-95d4ea9f-9a97-4fbb-8e87-d14a3aed6e0a.c000.snappy.parquet.crc', 'part-00043-95d4ea9f-9a97-4fbb-8e87-d14a3aed6e0a.c000.snappy.parquet', '.part-00196-95d4ea9f-9a97-4fbb-8e87-d14a3aed6e0a.c000.snappy.parquet.crc', 'part-00163-95d4ea9f-9a97-4fbb-8e87-d14a3aed6e0a.c000.snappy.parquet', 'part-00062-95d4ea9f-9a97-4fbb-8e87-d14a3aed6e0a.c000.snappy.parquet', '.part-00043-95d4ea9f-9a97-4fbb-8e87-d14a3aed6e0a.c000.snappy.parquet.crc', 'part-00117-95d4ea9f-9a97-4fbb-8e87-d14a3aed6e0a.c000.snappy.parquet', '.part-00133-95d4ea9f-9a97-4fbb-8e87-d14a3aed6e0a.c000.snappy.parquet.crc', 'part-00016-95d4ea9f-9a97-4fbb-8e87-d14a3aed6e0a.c000.snappy.parquet', '.part-00039-95d4ea9f-9a97-4fbb-8e87-d14a3aed6e0a.c000.snappy.parquet.crc', '.part-00149-95d4ea9f-9a97-4fbb-8e87-d14a3aed6e0a.c000.snappy.parquet.crc', '.part-00060-95d4ea9f-9a97-4fbb-8e87-d14a3aed6e0a.c000.snappy.parquet.crc', '.part-00110-95d4ea9f-9a97-4fbb-8e87-d14a3aed6e0a.c000.snappy.parquet.crc', 'part-00194-95d4ea9f-9a97-4fbb-8e87-d14a3aed6e0a.c000.snappy.parquet', '.part-00187-95d4ea9f-9a97-4fbb-8e87-d14a3aed6e0a.c000.snappy.parquet.crc', 'part-00095-95d4ea9f-9a97-4fbb-8e87-d14a3aed6e0a.c000.snappy.parquet', 'part-00168-95d4ea9f-9a97-4fbb-8e87-d14a3aed6e0a.c000.snappy.parquet', 'part-00069-95d4ea9f-9a97-4fbb-8e87-d14a3aed6e0a.c000.snappy.parquet', '.part-00052-95d4ea9f-9a97-4fbb-8e87-d14a3aed6e0a.c000.snappy.parquet.crc', '.part-00122-95d4ea9f-9a97-4fbb-8e87-d14a3aed6e0a.c000.snappy.parquet.crc', '.part-00071-95d4ea9f-9a97-4fbb-8e87-d14a3aed6e0a.c000.snappy.parquet.crc', 'part-00020-95d4ea9f-9a97-4fbb-8e87-d14a3aed6e0a.c000.snappy.parquet', '.part-00101-95d4ea9f-9a97-4fbb-8e87-d14a3aed6e0a.c000.snappy.parquet.crc', 'part-00121-95d4ea9f-9a97-4fbb-8e87-d14a3aed6e0a.c000.snappy.parquet', 'part-00054-95d4ea9f-9a97-4fbb-8e87-d14a3aed6e0a.c000.snappy.parquet', 'part-00155-95d4ea9f-9a97-4fbb-8e87-d14a3aed6e0a.c000.snappy.parquet', '.part-00028-95d4ea9f-9a97-4fbb-8e87-d14a3aed6e0a.c000.snappy.parquet.crc', '.part-00158-95d4ea9f-9a97-4fbb-8e87-d14a3aed6e0a.c000.snappy.parquet.crc', 'part-00089-95d4ea9f-9a97-4fbb-8e87-d14a3aed6e0a.c000.snappy.parquet', '.part-00166-95d4ea9f-9a97-4fbb-8e87-d14a3aed6e0a.c000.snappy.parquet.crc', 'part-00188-95d4ea9f-9a97-4fbb-8e87-d14a3aed6e0a.c000.snappy.parquet', '.part-00016-95d4ea9f-9a97-4fbb-8e87-d14a3aed6e0a.c000.snappy.parquet.crc', 'part-00075-95d4ea9f-9a97-4fbb-8e87-d14a3aed6e0a.c000.snappy.parquet', 'part-00174-95d4ea9f-9a97-4fbb-8e87-d14a3aed6e0a.c000.snappy.parquet', 'part-00001-95d4ea9f-9a97-4fbb-8e87-d14a3aed6e0a.c000.snappy.parquet', 'part-00100-95d4ea9f-9a97-4fbb-8e87-d14a3aed6e0a.c000.snappy.parquet', '.part-00090-95d4ea9f-9a97-4fbb-8e87-d14a3aed6e0a.c000.snappy.parquet.crc', '.part-00145-95d4ea9f-9a97-4fbb-8e87-d14a3aed6e0a.c000.snappy.parquet.crc', 'part-00149-95d4ea9f-9a97-4fbb-8e87-d14a3aed6e0a.c000.snappy.parquet', '.part-00035-95d4ea9f-9a97-4fbb-8e87-d14a3aed6e0a.c000.snappy.parquet.crc', 'part-00048-95d4ea9f-9a97-4fbb-8e87-d14a3aed6e0a.c000.snappy.parquet', '.part-00173-95d4ea9f-9a97-4fbb-8e87-d14a3aed6e0a.c000.snappy.parquet.crc', 'part-00083-95d4ea9f-9a97-4fbb-8e87-d14a3aed6e0a.c000.snappy.parquet', 'part-00182-95d4ea9f-9a97-4fbb-8e87-d14a3aed6e0a.c000.snappy.parquet', '.part-00003-95d4ea9f-9a97-4fbb-8e87-d14a3aed6e0a.c000.snappy.parquet.crc', '.part-00150-95d4ea9f-9a97-4fbb-8e87-d14a3aed6e0a.c000.snappy.parquet.crc', 'part-00143-95d4ea9f-9a97-4fbb-8e87-d14a3aed6e0a.c000.snappy.parquet', '.part-00020-95d4ea9f-9a97-4fbb-8e87-d14a3aed6e0a.c000.snappy.parquet.crc', 'part-00042-95d4ea9f-9a97-4fbb-8e87-d14a3aed6e0a.c000.snappy.parquet', '.part-00085-95d4ea9f-9a97-4fbb-8e87-d14a3aed6e0a.c000.snappy.parquet.crc', 'part-00137-95d4ea9f-9a97-4fbb-8e87-d14a3aed6e0a.c000.snappy.parquet', 'part-00036-95d4ea9f-9a97-4fbb-8e87-d14a3aed6e0a.c000.snappy.parquet', '.part-00109-95d4ea9f-9a97-4fbb-8e87-d14a3aed6e0a.c000.snappy.parquet.crc', '.part-00079-95d4ea9f-9a97-4fbb-8e87-d14a3aed6e0a.c000.snappy.parquet.crc', '.part-00047-95d4ea9f-9a97-4fbb-8e87-d14a3aed6e0a.c000.snappy.parquet.crc', '.part-00137-95d4ea9f-9a97-4fbb-8e87-d14a3aed6e0a.c000.snappy.parquet.crc', 'part-00116-95d4ea9f-9a97-4fbb-8e87-d14a3aed6e0a.c000.snappy.parquet', 'part-00017-95d4ea9f-9a97-4fbb-8e87-d14a3aed6e0a.c000.snappy.parquet', '.part-00192-95d4ea9f-9a97-4fbb-8e87-d14a3aed6e0a.c000.snappy.parquet.crc', 'part-00162-95d4ea9f-9a97-4fbb-8e87-d14a3aed6e0a.c000.snappy.parquet', 'part-00063-95d4ea9f-9a97-4fbb-8e87-d14a3aed6e0a.c000.snappy.parquet', '.part-00098-95d4ea9f-9a97-4fbb-8e87-d14a3aed6e0a.c000.snappy.parquet.crc', '.part-00064-95d4ea9f-9a97-4fbb-8e87-d14a3aed6e0a.c000.snappy.parquet.crc', '.part-00114-95d4ea9f-9a97-4fbb-8e87-d14a3aed6e0a.c000.snappy.parquet.crc', '.part-00056-95d4ea9f-9a97-4fbb-8e87-d14a3aed6e0a.c000.snappy.parquet.crc', '.part-00126-95d4ea9f-9a97-4fbb-8e87-d14a3aed6e0a.c000.snappy.parquet.crc', 'part-00195-95d4ea9f-9a97-4fbb-8e87-d14a3aed6e0a.c000.snappy.parquet', '.part-00183-95d4ea9f-9a97-4fbb-8e87-d14a3aed6e0a.c000.snappy.parquet.crc', 'part-00094-95d4ea9f-9a97-4fbb-8e87-d14a3aed6e0a.c000.snappy.parquet', 'part-00169-95d4ea9f-9a97-4fbb-8e87-d14a3aed6e0a.c000.snappy.parquet', 'part-00068-95d4ea9f-9a97-4fbb-8e87-d14a3aed6e0a.c000.snappy.parquet', 'part-00055-95d4ea9f-9a97-4fbb-8e87-d14a3aed6e0a.c000.snappy.parquet', 'part-00154-95d4ea9f-9a97-4fbb-8e87-d14a3aed6e0a.c000.snappy.parquet', '.part-00075-95d4ea9f-9a97-4fbb-8e87-d14a3aed6e0a.c000.snappy.parquet.crc', 'part-00021-95d4ea9f-9a97-4fbb-8e87-d14a3aed6e0a.c000.snappy.parquet', '.part-00105-95d4ea9f-9a97-4fbb-8e87-d14a3aed6e0a.c000.snappy.parquet.crc', 'part-00120-95d4ea9f-9a97-4fbb-8e87-d14a3aed6e0a.c000.snappy.parquet', '.part-00089-95d4ea9f-9a97-4fbb-8e87-d14a3aed6e0a.c000.snappy.parquet.crc', 'part-00000-95d4ea9f-9a97-4fbb-8e87-d14a3aed6e0a.c000.snappy.parquet', 'part-00101-95d4ea9f-9a97-4fbb-8e87-d14a3aed6e0a.c000.snappy.parquet', '.part-00162-95d4ea9f-9a97-4fbb-8e87-d14a3aed6e0a.c000.snappy.parquet.crc', 'part-00088-95d4ea9f-9a97-4fbb-8e87-d14a3aed6e0a.c000.snappy.parquet', 'part-00189-95d4ea9f-9a97-4fbb-8e87-d14a3aed6e0a.c000.snappy.parquet', '.part-00012-95d4ea9f-9a97-4fbb-8e87-d14a3aed6e0a.c000.snappy.parquet.crc', 'part-00074-95d4ea9f-9a97-4fbb-8e87-d14a3aed6e0a.c000.snappy.parquet', 'part-00175-95d4ea9f-9a97-4fbb-8e87-d14a3aed6e0a.c000.snappy.parquet', '.part-00118-95d4ea9f-9a97-4fbb-8e87-d14a3aed6e0a.c000.snappy.parquet.crc', '.part-00068-95d4ea9f-9a97-4fbb-8e87-d14a3aed6e0a.c000.snappy.parquet.crc', '.part-00141-95d4ea9f-9a97-4fbb-8e87-d14a3aed6e0a.c000.snappy.parquet.crc', 'part-00148-95d4ea9f-9a97-4fbb-8e87-d14a3aed6e0a.c000.snappy.parquet', '.part-00031-95d4ea9f-9a97-4fbb-8e87-d14a3aed6e0a.c000.snappy.parquet.crc', 'part-00049-95d4ea9f-9a97-4fbb-8e87-d14a3aed6e0a.c000.snappy.parquet', '.part-00094-95d4ea9f-9a97-4fbb-8e87-d14a3aed6e0a.c000.snappy.parquet.crc', '.part-00055-95d4ea9f-9a97-4fbb-8e87-d14a3aed6e0a.c000.snappy.parquet.crc', '.part-00125-95d4ea9f-9a97-4fbb-8e87-d14a3aed6e0a.c000.snappy.parquet.crc', '.part-00180-95d4ea9f-9a97-4fbb-8e87-d14a3aed6e0a.c000.snappy.parquet.crc', 'part-00031-95d4ea9f-9a97-4fbb-8e87-d14a3aed6e0a.c000.snappy.parquet', 'part-00130-95d4ea9f-9a97-4fbb-8e87-d14a3aed6e0a.c000.snappy.parquet', 'part-00045-95d4ea9f-9a97-4fbb-8e87-d14a3aed6e0a.c000.snappy.parquet', 'part-00144-95d4ea9f-9a97-4fbb-8e87-d14a3aed6e0a.c000.snappy.parquet', '.part-00076-95d4ea9f-9a97-4fbb-8e87-d14a3aed6e0a.c000.snappy.parquet.crc', '.part-00106-95d4ea9f-9a97-4fbb-8e87-d14a3aed6e0a.c000.snappy.parquet.crc', 'part-00185-95d4ea9f-9a97-4fbb-8e87-d14a3aed6e0a.c000.snappy.parquet', 'part-00084-95d4ea9f-9a97-4fbb-8e87-d14a3aed6e0a.c000.snappy.parquet', 'part-00179-95d4ea9f-9a97-4fbb-8e87-d14a3aed6e0a.c000.snappy.parquet', 'part-00078-95d4ea9f-9a97-4fbb-8e87-d14a3aed6e0a.c000.snappy.parquet', '.part-00138-95d4ea9f-9a97-4fbb-8e87-d14a3aed6e0a.c000.snappy.parquet.crc', '.part-00048-95d4ea9f-9a97-4fbb-8e87-d14a3aed6e0a.c000.snappy.parquet.crc', 'part-00158-95d4ea9f-9a97-4fbb-8e87-d14a3aed6e0a.c000.snappy.parquet', 'part-00059-95d4ea9f-9a97-4fbb-8e87-d14a3aed6e0a.c000.snappy.parquet', '.part-00161-95d4ea9f-9a97-4fbb-8e87-d14a3aed6e0a.c000.snappy.parquet.crc', '.part-00011-95d4ea9f-9a97-4fbb-8e87-d14a3aed6e0a.c000.snappy.parquet.crc', 'part-00098-95d4ea9f-9a97-4fbb-8e87-d14a3aed6e0a.c000.snappy.parquet', 'part-00199-95d4ea9f-9a97-4fbb-8e87-d14a3aed6e0a.c000.snappy.parquet', 'part-00064-95d4ea9f-9a97-4fbb-8e87-d14a3aed6e0a.c000.snappy.parquet', 'part-00165-95d4ea9f-9a97-4fbb-8e87-d14a3aed6e0a.c000.snappy.parquet', 'part-00010-95d4ea9f-9a97-4fbb-8e87-d14a3aed6e0a.c000.snappy.parquet', 'part-00111-95d4ea9f-9a97-4fbb-8e87-d14a3aed6e0a.c000.snappy.parquet', '.part-00142-95d4ea9f-9a97-4fbb-8e87-d14a3aed6e0a.c000.snappy.parquet.crc', '.part-00032-95d4ea9f-9a97-4fbb-8e87-d14a3aed6e0a.c000.snappy.parquet.crc', '.part-00097-95d4ea9f-9a97-4fbb-8e87-d14a3aed6e0a.c000.snappy.parquet.crc', '.part-00170-95d4ea9f-9a97-4fbb-8e87-d14a3aed6e0a.c000.snappy.parquet.crc', '.part-00000-95d4ea9f-9a97-4fbb-8e87-d14a3aed6e0a.c000.snappy.parquet.crc', '.part-00129-95d4ea9f-9a97-4fbb-8e87-d14a3aed6e0a.c000.snappy.parquet.crc', 'part-00127-95d4ea9f-9a97-4fbb-8e87-d14a3aed6e0a.c000.snappy.parquet', 'part-00026-95d4ea9f-9a97-4fbb-8e87-d14a3aed6e0a.c000.snappy.parquet', '.part-00059-95d4ea9f-9a97-4fbb-8e87-d14a3aed6e0a.c000.snappy.parquet.crc', 'part-00153-95d4ea9f-9a97-4fbb-8e87-d14a3aed6e0a.c000.snappy.parquet', 'part-00052-95d4ea9f-9a97-4fbb-8e87-d14a3aed6e0a.c000.snappy.parquet', '.part-00153-95d4ea9f-9a97-4fbb-8e87-d14a3aed6e0a.c000.snappy.parquet.crc', '.part-00023-95d4ea9f-9a97-4fbb-8e87-d14a3aed6e0a.c000.snappy.parquet.crc', '.part-00086-95d4ea9f-9a97-4fbb-8e87-d14a3aed6e0a.c000.snappy.parquet.crc', 'part-00093-95d4ea9f-9a97-4fbb-8e87-d14a3aed6e0a.c000.snappy.parquet', 'part-00192-95d4ea9f-9a97-4fbb-8e87-d14a3aed6e0a.c000.snappy.parquet', '.part-00044-95d4ea9f-9a97-4fbb-8e87-d14a3aed6e0a.c000.snappy.parquet.crc', '.part-00134-95d4ea9f-9a97-4fbb-8e87-d14a3aed6e0a.c000.snappy.parquet.crc', '.part-00191-95d4ea9f-9a97-4fbb-8e87-d14a3aed6e0a.c000.snappy.parquet.crc', 'part-00172-95d4ea9f-9a97-4fbb-8e87-d14a3aed6e0a.c000.snappy.parquet', 'part-00073-95d4ea9f-9a97-4fbb-8e87-d14a3aed6e0a.c000.snappy.parquet', 'part-00106-95d4ea9f-9a97-4fbb-8e87-d14a3aed6e0a.c000.snappy.parquet', 'part-00007-95d4ea9f-9a97-4fbb-8e87-d14a3aed6e0a.c000.snappy.parquet', '.part-00067-95d4ea9f-9a97-4fbb-8e87-d14a3aed6e0a.c000.snappy.parquet.crc', '.part-00117-95d4ea9f-9a97-4fbb-8e87-d14a3aed6e0a.c000.snappy.parquet.crc', '.part-00185-95d4ea9f-9a97-4fbb-8e87-d14a3aed6e0a.c000.snappy.parquet.crc', '.part-00120-95d4ea9f-9a97-4fbb-8e87-d14a3aed6e0a.c000.snappy.parquet.crc', '.part-00050-95d4ea9f-9a97-4fbb-8e87-d14a3aed6e0a.c000.snappy.parquet.crc', '.part-00179-95d4ea9f-9a97-4fbb-8e87-d14a3aed6e0a.c000.snappy.parquet.crc', 'part-00009-95d4ea9f-9a97-4fbb-8e87-d14a3aed6e0a.c000.snappy.parquet', 'part-00108-95d4ea9f-9a97-4fbb-8e87-d14a3aed6e0a.c000.snappy.parquet', '.part-00009-95d4ea9f-9a97-4fbb-8e87-d14a3aed6e0a.c000.snappy.parquet.crc', 'part-00081-95d4ea9f-9a97-4fbb-8e87-d14a3aed6e0a.c000.snappy.parquet', 'part-00180-95d4ea9f-9a97-4fbb-8e87-d14a3aed6e0a.c000.snappy.parquet', '.part-00103-95d4ea9f-9a97-4fbb-8e87-d14a3aed6e0a.c000.snappy.parquet.crc', '.part-00073-95d4ea9f-9a97-4fbb-8e87-d14a3aed6e0a.c000.snappy.parquet.crc', 'part-00141-95d4ea9f-9a97-4fbb-8e87-d14a3aed6e0a.c000.snappy.parquet', 'part-00040-95d4ea9f-9a97-4fbb-8e87-d14a3aed6e0a.c000.snappy.parquet', 'part-00135-95d4ea9f-9a97-4fbb-8e87-d14a3aed6e0a.c000.snappy.parquet', 'part-00034-95d4ea9f-9a97-4fbb-8e87-d14a3aed6e0a.c000.snappy.parquet', '.part-00198-95d4ea9f-9a97-4fbb-8e87-d14a3aed6e0a.c000.snappy.parquet.crc', 'part-00114-95d4ea9f-9a97-4fbb-8e87-d14a3aed6e0a.c000.snappy.parquet', 'part-00015-95d4ea9f-9a97-4fbb-8e87-d14a3aed6e0a.c000.snappy.parquet', 'part-00160-95d4ea9f-9a97-4fbb-8e87-d14a3aed6e0a.c000.snappy.parquet', 'part-00061-95d4ea9f-9a97-4fbb-8e87-d14a3aed6e0a.c000.snappy.parquet', '.part-00014-95d4ea9f-9a97-4fbb-8e87-d14a3aed6e0a.c000.snappy.parquet.crc', '.part-00164-95d4ea9f-9a97-4fbb-8e87-d14a3aed6e0a.c000.snappy.parquet.crc', 'part-00028-95d4ea9f-9a97-4fbb-8e87-d14a3aed6e0a.c000.snappy.parquet', 'part-00129-95d4ea9f-9a97-4fbb-8e87-d14a3aed6e0a.c000.snappy.parquet', '.part-00092-95d4ea9f-9a97-4fbb-8e87-d14a3aed6e0a.c000.snappy.parquet.crc', '.part-00037-95d4ea9f-9a97-4fbb-8e87-d14a3aed6e0a.c000.snappy.parquet.crc', '.part-00147-95d4ea9f-9a97-4fbb-8e87-d14a3aed6e0a.c000.snappy.parquet.crc', '.part-00005-95d4ea9f-9a97-4fbb-8e87-d14a3aed6e0a.c000.snappy.parquet.crc', '.part-00175-95d4ea9f-9a97-4fbb-8e87-d14a3aed6e0a.c000.snappy.parquet.crc', '.part-00189-95d4ea9f-9a97-4fbb-8e87-d14a3aed6e0a.c000.snappy.parquet.crc', 'part-00197-95d4ea9f-9a97-4fbb-8e87-d14a3aed6e0a.c000.snappy.parquet', 'part-00096-95d4ea9f-9a97-4fbb-8e87-d14a3aed6e0a.c000.snappy.parquet', '.part-00083-95d4ea9f-9a97-4fbb-8e87-d14a3aed6e0a.c000.snappy.parquet.crc', '.part-00026-95d4ea9f-9a97-4fbb-8e87-d14a3aed6e0a.c000.snappy.parquet.crc', '.part-00156-95d4ea9f-9a97-4fbb-8e87-d14a3aed6e0a.c000.snappy.parquet.crc', 'part-00057-95d4ea9f-9a97-4fbb-8e87-d14a3aed6e0a.c000.snappy.parquet', 'part-00156-95d4ea9f-9a97-4fbb-8e87-d14a3aed6e0a.c000.snappy.parquet', 'part-00023-95d4ea9f-9a97-4fbb-8e87-d14a3aed6e0a.c000.snappy.parquet', 'part-00122-95d4ea9f-9a97-4fbb-8e87-d14a3aed6e0a.c000.snappy.parquet', '.part-00168-95d4ea9f-9a97-4fbb-8e87-d14a3aed6e0a.c000.snappy.parquet.crc', 'part-00002-95d4ea9f-9a97-4fbb-8e87-d14a3aed6e0a.c000.snappy.parquet', 'part-00103-95d4ea9f-9a97-4fbb-8e87-d14a3aed6e0a.c000.snappy.parquet', '.part-00018-95d4ea9f-9a97-4fbb-8e87-d14a3aed6e0a.c000.snappy.parquet.crc', 'part-00076-95d4ea9f-9a97-4fbb-8e87-d14a3aed6e0a.c000.snappy.parquet', 'part-00177-95d4ea9f-9a97-4fbb-8e87-d14a3aed6e0a.c000.snappy.parquet', '.part-00194-95d4ea9f-9a97-4fbb-8e87-d14a3aed6e0a.c000.snappy.parquet.crc', '.part-00131-95d4ea9f-9a97-4fbb-8e87-d14a3aed6e0a.c000.snappy.parquet.crc', '.part-00041-95d4ea9f-9a97-4fbb-8e87-d14a3aed6e0a.c000.snappy.parquet.crc', '.part-00112-95d4ea9f-9a97-4fbb-8e87-d14a3aed6e0a.c000.snappy.parquet.crc', '.part-00062-95d4ea9f-9a97-4fbb-8e87-d14a3aed6e0a.c000.snappy.parquet.crc', '.part-00006-95d4ea9f-9a97-4fbb-8e87-d14a3aed6e0a.c000.snappy.parquet.crc', '.part-00176-95d4ea9f-9a97-4fbb-8e87-d14a3aed6e0a.c000.snappy.parquet.crc', 'part-00033-95d4ea9f-9a97-4fbb-8e87-d14a3aed6e0a.c000.snappy.parquet', 'part-00132-95d4ea9f-9a97-4fbb-8e87-d14a3aed6e0a.c000.snappy.parquet', 'part-00047-95d4ea9f-9a97-4fbb-8e87-d14a3aed6e0a.c000.snappy.parquet', 'part-00146-95d4ea9f-9a97-4fbb-8e87-d14a3aed6e0a.c000.snappy.parquet', 'part-00187-95d4ea9f-9a97-4fbb-8e87-d14a3aed6e0a.c000.snappy.parquet', 'part-00086-95d4ea9f-9a97-4fbb-8e87-d14a3aed6e0a.c000.snappy.parquet', '.part-00080-95d4ea9f-9a97-4fbb-8e87-d14a3aed6e0a.c000.snappy.parquet.crc', '.part-00025-95d4ea9f-9a97-4fbb-8e87-d14a3aed6e0a.c000.snappy.parquet.crc', '.part-00155-95d4ea9f-9a97-4fbb-8e87-d14a3aed6e0a.c000.snappy.parquet.crc', '.part-00197-95d4ea9f-9a97-4fbb-8e87-d14a3aed6e0a.c000.snappy.parquet.crc', '.part-00132-95d4ea9f-9a97-4fbb-8e87-d14a3aed6e0a.c000.snappy.parquet.crc', '.part-00042-95d4ea9f-9a97-4fbb-8e87-d14a3aed6e0a.c000.snappy.parquet.crc', '.part-00148-95d4ea9f-9a97-4fbb-8e87-d14a3aed6e0a.c000.snappy.parquet.crc', '.part-00038-95d4ea9f-9a97-4fbb-8e87-d14a3aed6e0a.c000.snappy.parquet.crc', '.part-00111-95d4ea9f-9a97-4fbb-8e87-d14a3aed6e0a.c000.snappy.parquet.crc', 'part-00066-95d4ea9f-9a97-4fbb-8e87-d14a3aed6e0a.c000.snappy.parquet', 'part-00167-95d4ea9f-9a97-4fbb-8e87-d14a3aed6e0a.c000.snappy.parquet', '.part-00061-95d4ea9f-9a97-4fbb-8e87-d14a3aed6e0a.c000.snappy.parquet.crc', 'part-00012-95d4ea9f-9a97-4fbb-8e87-d14a3aed6e0a.c000.snappy.parquet', 'part-00113-95d4ea9f-9a97-4fbb-8e87-d14a3aed6e0a.c000.snappy.parquet', 'part-00125-95d4ea9f-9a97-4fbb-8e87-d14a3aed6e0a.c000.snappy.parquet', '.part-00186-95d4ea9f-9a97-4fbb-8e87-d14a3aed6e0a.c000.snappy.parquet.crc', 'part-00024-95d4ea9f-9a97-4fbb-8e87-d14a3aed6e0a.c000.snappy.parquet', '.part-00123-95d4ea9f-9a97-4fbb-8e87-d14a3aed6e0a.c000.snappy.parquet.crc', '.part-00053-95d4ea9f-9a97-4fbb-8e87-d14a3aed6e0a.c000.snappy.parquet.crc', 'part-00151-95d4ea9f-9a97-4fbb-8e87-d14a3aed6e0a.c000.snappy.parquet', 'part-00050-95d4ea9f-9a97-4fbb-8e87-d14a3aed6e0a.c000.snappy.parquet', 'part-00091-95d4ea9f-9a97-4fbb-8e87-d14a3aed6e0a.c000.snappy.parquet', 'part-00190-95d4ea9f-9a97-4fbb-8e87-d14a3aed6e0a.c000.snappy.parquet', '.part-00100-95d4ea9f-9a97-4fbb-8e87-d14a3aed6e0a.c000.snappy.parquet.crc', '.part-00070-95d4ea9f-9a97-4fbb-8e87-d14a3aed6e0a.c000.snappy.parquet.crc', 'part-00019-95d4ea9f-9a97-4fbb-8e87-d14a3aed6e0a.c000.snappy.parquet', 'part-00118-95d4ea9f-9a97-4fbb-8e87-d14a3aed6e0a.c000.snappy.parquet', '.part-00159-95d4ea9f-9a97-4fbb-8e87-d14a3aed6e0a.c000.snappy.parquet.crc', '.part-00029-95d4ea9f-9a97-4fbb-8e87-d14a3aed6e0a.c000.snappy.parquet.crc', '.part-00017-95d4ea9f-9a97-4fbb-8e87-d14a3aed6e0a.c000.snappy.parquet.crc', '.part-00167-95d4ea9f-9a97-4fbb-8e87-d14a3aed6e0a.c000.snappy.parquet.crc', 'part-00038-95d4ea9f-9a97-4fbb-8e87-d14a3aed6e0a.c000.snappy.parquet', 'part-00139-95d4ea9f-9a97-4fbb-8e87-d14a3aed6e0a.c000.snappy.parquet', '.part-00091-95d4ea9f-9a97-4fbb-8e87-d14a3aed6e0a.c000.snappy.parquet.crc', 'part-00170-95d4ea9f-9a97-4fbb-8e87-d14a3aed6e0a.c000.snappy.parquet', 'part-00071-95d4ea9f-9a97-4fbb-8e87-d14a3aed6e0a.c000.snappy.parquet', '.part-00034-95d4ea9f-9a97-4fbb-8e87-d14a3aed6e0a.c000.snappy.parquet.crc', 'part-00104-95d4ea9f-9a97-4fbb-8e87-d14a3aed6e0a.c000.snappy.parquet', 'part-00005-95d4ea9f-9a97-4fbb-8e87-d14a3aed6e0a.c000.snappy.parquet', '.part-00144-95d4ea9f-9a97-4fbb-8e87-d14a3aed6e0a.c000.snappy.parquet.crc', 'part-00046-95d4ea9f-9a97-4fbb-8e87-d14a3aed6e0a.c000.snappy.parquet', 'part-00147-95d4ea9f-9a97-4fbb-8e87-d14a3aed6e0a.c000.snappy.parquet', '.part-00002-95d4ea9f-9a97-4fbb-8e87-d14a3aed6e0a.c000.snappy.parquet.crc', '.part-00172-95d4ea9f-9a97-4fbb-8e87-d14a3aed6e0a.c000.snappy.parquet.crc', 'part-00032-95d4ea9f-9a97-4fbb-8e87-d14a3aed6e0a.c000.snappy.parquet', 'part-00133-95d4ea9f-9a97-4fbb-8e87-d14a3aed6e0a.c000.snappy.parquet', '.part-00021-95d4ea9f-9a97-4fbb-8e87-d14a3aed6e0a.c000.snappy.parquet.crc', '.part-00151-95d4ea9f-9a97-4fbb-8e87-d14a3aed6e0a.c000.snappy.parquet.crc', 'part-00186-95d4ea9f-9a97-4fbb-8e87-d14a3aed6e0a.c000.snappy.parquet', 'part-00087-95d4ea9f-9a97-4fbb-8e87-d14a3aed6e0a.c000.snappy.parquet', '.part-00084-95d4ea9f-9a97-4fbb-8e87-d14a3aed6e0a.c000.snappy.parquet.crc', '.part-00078-95d4ea9f-9a97-4fbb-8e87-d14a3aed6e0a.c000.snappy.parquet.crc', '.part-00108-95d4ea9f-9a97-4fbb-8e87-d14a3aed6e0a.c000.snappy.parquet.crc', '.part-00136-95d4ea9f-9a97-4fbb-8e87-d14a3aed6e0a.c000.snappy.parquet.crc', '.part-00046-95d4ea9f-9a97-4fbb-8e87-d14a3aed6e0a.c000.snappy.parquet.crc', '.part-00193-95d4ea9f-9a97-4fbb-8e87-d14a3aed6e0a.c000.snappy.parquet.crc', '.part-00099-95d4ea9f-9a97-4fbb-8e87-d14a3aed6e0a.c000.snappy.parquet.crc', 'part-00013-95d4ea9f-9a97-4fbb-8e87-d14a3aed6e0a.c000.snappy.parquet', 'part-00112-95d4ea9f-9a97-4fbb-8e87-d14a3aed6e0a.c000.snappy.parquet', '.part-00115-95d4ea9f-9a97-4fbb-8e87-d14a3aed6e0a.c000.snappy.parquet.crc', 'part-00067-95d4ea9f-9a97-4fbb-8e87-d14a3aed6e0a.c000.snappy.parquet', 'part-00166-95d4ea9f-9a97-4fbb-8e87-d14a3aed6e0a.c000.snappy.parquet', '.part-00065-95d4ea9f-9a97-4fbb-8e87-d14a3aed6e0a.c000.snappy.parquet.crc', '.part-00127-95d4ea9f-9a97-4fbb-8e87-d14a3aed6e0a.c000.snappy.parquet.crc', '.part-00057-95d4ea9f-9a97-4fbb-8e87-d14a3aed6e0a.c000.snappy.parquet.crc', 'part-00150-95d4ea9f-9a97-4fbb-8e87-d14a3aed6e0a.c000.snappy.parquet', 'part-00051-95d4ea9f-9a97-4fbb-8e87-d14a3aed6e0a.c000.snappy.parquet', 'part-00124-95d4ea9f-9a97-4fbb-8e87-d14a3aed6e0a.c000.snappy.parquet', 'part-00025-95d4ea9f-9a97-4fbb-8e87-d14a3aed6e0a.c000.snappy.parquet', '.part-00182-95d4ea9f-9a97-4fbb-8e87-d14a3aed6e0a.c000.snappy.parquet.crc', 'part-00018-95d4ea9f-9a97-4fbb-8e87-d14a3aed6e0a.c000.snappy.parquet', 'part-00119-95d4ea9f-9a97-4fbb-8e87-d14a3aed6e0a.c000.snappy.parquet', 'part-00090-95d4ea9f-9a97-4fbb-8e87-d14a3aed6e0a.c000.snappy.parquet', 'part-00191-95d4ea9f-9a97-4fbb-8e87-d14a3aed6e0a.c000.snappy.parquet', '.part-00104-95d4ea9f-9a97-4fbb-8e87-d14a3aed6e0a.c000.snappy.parquet.crc', '.part-00074-95d4ea9f-9a97-4fbb-8e87-d14a3aed6e0a.c000.snappy.parquet.crc', '.part-00088-95d4ea9f-9a97-4fbb-8e87-d14a3aed6e0a.c000.snappy.parquet.crc', '.part-00013-95d4ea9f-9a97-4fbb-8e87-d14a3aed6e0a.c000.snappy.parquet.crc', '.part-00163-95d4ea9f-9a97-4fbb-8e87-d14a3aed6e0a.c000.snappy.parquet.crc', 'part-00039-95d4ea9f-9a97-4fbb-8e87-d14a3aed6e0a.c000.snappy.parquet', 'part-00138-95d4ea9f-9a97-4fbb-8e87-d14a3aed6e0a.c000.snappy.parquet', '.part-00069-95d4ea9f-9a97-4fbb-8e87-d14a3aed6e0a.c000.snappy.parquet.crc', '.part-00119-95d4ea9f-9a97-4fbb-8e87-d14a3aed6e0a.c000.snappy.parquet.crc', '.part-00030-95d4ea9f-9a97-4fbb-8e87-d14a3aed6e0a.c000.snappy.parquet.crc', 'part-00105-95d4ea9f-9a97-4fbb-8e87-d14a3aed6e0a.c000.snappy.parquet', 'part-00004-95d4ea9f-9a97-4fbb-8e87-d14a3aed6e0a.c000.snappy.parquet', '.part-00140-95d4ea9f-9a97-4fbb-8e87-d14a3aed6e0a.c000.snappy.parquet.crc', '.part-00095-95d4ea9f-9a97-4fbb-8e87-d14a3aed6e0a.c000.snappy.parquet.crc', 'part-00171-95d4ea9f-9a97-4fbb-8e87-d14a3aed6e0a.c000.snappy.parquet', 'part-00070-95d4ea9f-9a97-4fbb-8e87-d14a3aed6e0a.c000.snappy.parquet', '.part-00124-95d4ea9f-9a97-4fbb-8e87-d14a3aed6e0a.c000.snappy.parquet.crc', '.part-00054-95d4ea9f-9a97-4fbb-8e87-d14a3aed6e0a.c000.snappy.parquet.crc', '.part-00181-95d4ea9f-9a97-4fbb-8e87-d14a3aed6e0a.c000.snappy.parquet.crc', 'part-00080-95d4ea9f-9a97-4fbb-8e87-d14a3aed6e0a.c000.snappy.parquet', 'part-00181-95d4ea9f-9a97-4fbb-8e87-d14a3aed6e0a.c000.snappy.parquet', 'part-00008-95d4ea9f-9a97-4fbb-8e87-d14a3aed6e0a.c000.snappy.parquet', 'part-00109-95d4ea9f-9a97-4fbb-8e87-d14a3aed6e0a.c000.snappy.parquet', '.part-00107-95d4ea9f-9a97-4fbb-8e87-d14a3aed6e0a.c000.snappy.parquet.crc', '.part-00077-95d4ea9f-9a97-4fbb-8e87-d14a3aed6e0a.c000.snappy.parquet.crc', 'part-00134-95d4ea9f-9a97-4fbb-8e87-d14a3aed6e0a.c000.snappy.parquet', 'part-00035-95d4ea9f-9a97-4fbb-8e87-d14a3aed6e0a.c000.snappy.parquet', 'part-00140-95d4ea9f-9a97-4fbb-8e87-d14a3aed6e0a.c000.snappy.parquet', 'part-00041-95d4ea9f-9a97-4fbb-8e87-d14a3aed6e0a.c000.snappy.parquet', '.part-00049-95d4ea9f-9a97-4fbb-8e87-d14a3aed6e0a.c000.snappy.parquet.crc', 'part-00161-95d4ea9f-9a97-4fbb-8e87-d14a3aed6e0a.c000.snappy.parquet', 'part-00060-95d4ea9f-9a97-4fbb-8e87-d14a3aed6e0a.c000.snappy.parquet', '.part-00139-95d4ea9f-9a97-4fbb-8e87-d14a3aed6e0a.c000.snappy.parquet.crc', 'part-00115-95d4ea9f-9a97-4fbb-8e87-d14a3aed6e0a.c000.snappy.parquet', 'part-00014-95d4ea9f-9a97-4fbb-8e87-d14a3aed6e0a.c000.snappy.parquet', '.part-00010-95d4ea9f-9a97-4fbb-8e87-d14a3aed6e0a.c000.snappy.parquet.crc', '.part-00160-95d4ea9f-9a97-4fbb-8e87-d14a3aed6e0a.c000.snappy.parquet.crc', 'part-00029-95d4ea9f-9a97-4fbb-8e87-d14a3aed6e0a.c000.snappy.parquet', 'part-00128-95d4ea9f-9a97-4fbb-8e87-d14a3aed6e0a.c000.snappy.parquet', '.part-00033-95d4ea9f-9a97-4fbb-8e87-d14a3aed6e0a.c000.snappy.parquet.crc', '.part-00143-95d4ea9f-9a97-4fbb-8e87-d14a3aed6e0a.c000.snappy.parquet.crc', '.part-00096-95d4ea9f-9a97-4fbb-8e87-d14a3aed6e0a.c000.snappy.parquet.crc', '.part-00001-95d4ea9f-9a97-4fbb-8e87-d14a3aed6e0a.c000.snappy.parquet.crc', '.part-00171-95d4ea9f-9a97-4fbb-8e87-d14a3aed6e0a.c000.snappy.parquet.crc', 'part-00196-95d4ea9f-9a97-4fbb-8e87-d14a3aed6e0a.c000.snappy.parquet', 'part-00097-95d4ea9f-9a97-4fbb-8e87-d14a3aed6e0a.c000.snappy.parquet', '.part-00058-95d4ea9f-9a97-4fbb-8e87-d14a3aed6e0a.c000.snappy.parquet.crc', '.part-00128-95d4ea9f-9a97-4fbb-8e87-d14a3aed6e0a.c000.snappy.parquet.crc', '.part-00022-95d4ea9f-9a97-4fbb-8e87-d14a3aed6e0a.c000.snappy.parquet.crc', '.part-00152-95d4ea9f-9a97-4fbb-8e87-d14a3aed6e0a.c000.snappy.parquet.crc', '.part-00087-95d4ea9f-9a97-4fbb-8e87-d14a3aed6e0a.c000.snappy.parquet.crc', 'part-00022-95d4ea9f-9a97-4fbb-8e87-d14a3aed6e0a.c000.snappy.parquet', 'part-00123-95d4ea9f-9a97-4fbb-8e87-d14a3aed6e0a.c000.snappy.parquet', 'part-00056-95d4ea9f-9a97-4fbb-8e87-d14a3aed6e0a.c000.snappy.parquet', 'part-00157-95d4ea9f-9a97-4fbb-8e87-d14a3aed6e0a.c000.snappy.parquet', 'part-00077-95d4ea9f-9a97-4fbb-8e87-d14a3aed6e0a.c000.snappy.parquet', 'part-00176-95d4ea9f-9a97-4fbb-8e87-d14a3aed6e0a.c000.snappy.parquet', 'part-00003-95d4ea9f-9a97-4fbb-8e87-d14a3aed6e0a.c000.snappy.parquet', 'part-00102-95d4ea9f-9a97-4fbb-8e87-d14a3aed6e0a.c000.snappy.parquet', '.part-00135-95d4ea9f-9a97-4fbb-8e87-d14a3aed6e0a.c000.snappy.parquet.crc', '.part-00045-95d4ea9f-9a97-4fbb-8e87-d14a3aed6e0a.c000.snappy.parquet.crc', '.part-00190-95d4ea9f-9a97-4fbb-8e87-d14a3aed6e0a.c000.snappy.parquet.crc', '.part-00116-95d4ea9f-9a97-4fbb-8e87-d14a3aed6e0a.c000.snappy.parquet.crc', '.part-00066-95d4ea9f-9a97-4fbb-8e87-d14a3aed6e0a.c000.snappy.parquet.crc']\n"
     ]
    }
   ],
   "source": [
    "pattern = output_dir.split('/')[-1]\n",
    "for path, _, files in os.walk(output_dir):\n",
    "    print(path, files)"
   ]
  },
  {
   "cell_type": "code",
   "execution_count": 197,
   "id": "1142741a",
   "metadata": {},
   "outputs": [
    {
     "data": {
      "text/plain": [
       "'/Users/home/Documents/dend/Data-Engineering-ND/Capstone/output'"
      ]
     },
     "execution_count": 197,
     "metadata": {},
     "output_type": "execute_result"
    }
   ],
   "source": [
    "output_dir"
   ]
  },
  {
   "cell_type": "code",
   "execution_count": 209,
   "id": "ec0e32eb",
   "metadata": {},
   "outputs": [],
   "source": [
    "s = '/Users/home/Documents/dend/Data-Engineering-ND/Capstone/output/i94_dates/i94_year=2016/i94_month=4'\n",
    "g = re.search(pattern, s)"
   ]
  },
  {
   "cell_type": "code",
   "execution_count": 212,
   "id": "8bd171de",
   "metadata": {},
   "outputs": [
    {
     "data": {
      "text/plain": [
       "56"
      ]
     },
     "execution_count": 212,
     "metadata": {},
     "output_type": "execute_result"
    }
   ],
   "source": [
    "g.start()"
   ]
  },
  {
   "cell_type": "code",
   "execution_count": 214,
   "id": "9552f411",
   "metadata": {},
   "outputs": [
    {
     "data": {
      "text/plain": [
       "'i94_dates/i94_year=2016/i94_month=4'"
      ]
     },
     "execution_count": 214,
     "metadata": {},
     "output_type": "execute_result"
    }
   ],
   "source": [
    "s[g.end() + 1:]"
   ]
  },
  {
   "cell_type": "code",
   "execution_count": null,
   "id": "033d6f2d",
   "metadata": {},
   "outputs": [],
   "source": []
  }
 ],
 "metadata": {
  "kernelspec": {
   "display_name": "Python 3",
   "language": "python",
   "name": "python3"
  },
  "language_info": {
   "codemirror_mode": {
    "name": "ipython",
    "version": 3
   },
   "file_extension": ".py",
   "mimetype": "text/x-python",
   "name": "python",
   "nbconvert_exporter": "python",
   "pygments_lexer": "ipython3",
   "version": "3.6.13"
  }
 },
 "nbformat": 4,
 "nbformat_minor": 5
}
