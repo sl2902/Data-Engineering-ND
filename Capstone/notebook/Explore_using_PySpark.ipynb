{
 "cells": [
  {
   "cell_type": "markdown",
   "id": "4a3e93bd",
   "metadata": {},
   "source": [
    "I am using this Notebook to explore and implement ways to build the ETL jobs\n",
    "- Identify the different dimensional tables, including their attributes\n",
    "- Identify the fact tables and its attributes\n",
    "- Usage of Pyspark to parse the Immigrations data\n",
    "- Usage of plain old Python to parse the data dictionary\n",
    "\n",
    "Since this data was purchased, and its has a monthly frequency, it is better suited for a one-off\n",
    "analysis. Hence an Analytical notebook is appropriate;\n",
    "\n",
    "Each of the dimensional and fact data will be a dataframe, which will written ito a parquet/csv file format\n",
    "and stored in S3 buckets;\n",
    "\n",
    "It can be queried from there via a Notebook or using Athena/Big Query"
   ]
  },
  {
   "cell_type": "code",
   "execution_count": 408,
   "id": "9f46bee8",
   "metadata": {},
   "outputs": [],
   "source": [
    "import pandas as pd\n",
    "import numpy as np\n",
    "import os\n",
    "import re\n",
    "from datetime import datetime, timedelta\n",
    "from functools import reduce\n",
    "from pyspark.sql import SparkSession, DataFrame\n",
    "from pyspark.sql import functions as F\n",
    "from pyspark.sql.functions import date_add\n",
    "from pyspark.sql.types import (StructType as R,\n",
    "                               StructField as Fld, DoubleType as Dbl, StringType as Str,\n",
    "                               IntegerType as Int, DateType as Date, TimestampType as TimeStamp\n",
    "                              )\n",
    "# https://stackoverflow.com/questions/31841509/pyspark-exception-java-gateway-process-exited-before-sending-the-driver-its-po"
   ]
  },
  {
   "cell_type": "code",
   "execution_count": 2,
   "id": "817d2d34",
   "metadata": {},
   "outputs": [],
   "source": [
    "spark = SparkSession.builder\\\n",
    "                    .config(\"spark.jars.packages\", \"saurfang:spark-sas7bdat:3.0.0-s_2.12\") \\\n",
    "                    .enableHiveSupport()\\\n",
    "                    .getOrCreate()"
   ]
  },
  {
   "cell_type": "code",
   "execution_count": 3,
   "id": "60c04b7d",
   "metadata": {},
   "outputs": [],
   "source": [
    "#https://datascience.stackexchange.com/questions/11356/merging-multiple-data-frames-row-wise-in-pyspark\n",
    "def append_df(*dfs):\n",
    "    return reduce(lambda df1, df2: df1.unionByName(df2), dfs)"
   ]
  },
  {
   "cell_type": "code",
   "execution_count": 4,
   "id": "3fd6bb41",
   "metadata": {},
   "outputs": [],
   "source": [
    "def concat_df(*dfs):\n",
    "    return reduce(DataFrame.unionAll, dfs)"
   ]
  },
  {
   "cell_type": "code",
   "execution_count": 6,
   "id": "cbfe1659",
   "metadata": {},
   "outputs": [
    {
     "name": "stdout",
     "output_type": "stream",
     "text": [
      "/Users/home/Documents/Data Engineering ND/Capstone/notebook\r\n"
     ]
    }
   ],
   "source": [
    "!pwd"
   ]
  },
  {
   "cell_type": "code",
   "execution_count": 8,
   "id": "163fb4a6",
   "metadata": {},
   "outputs": [],
   "source": [
    "path = '../data/18-83510-I94-Data-2016'\n",
    "files = ['i94_apr16_sub.sas7bdat', 'i94_aug16_sub.sas7bdat']\n",
    "dfs = []\n",
    "for file in files:\n",
    "    df = spark.read.format('com.github.saurfang.sas.spark')\\\n",
    "                .load(os.path.join(path, file))\n",
    "    dfs.append(df)"
   ]
  },
  {
   "cell_type": "code",
   "execution_count": 306,
   "id": "f2c80de9",
   "metadata": {},
   "outputs": [],
   "source": [
    "df = concat_df(*dfs)"
   ]
  },
  {
   "cell_type": "code",
   "execution_count": 15,
   "id": "ef3fb2e8",
   "metadata": {},
   "outputs": [
    {
     "data": {
      "text/plain": [
       "pyspark.sql.dataframe.DataFrame"
      ]
     },
     "execution_count": 15,
     "metadata": {},
     "output_type": "execute_result"
    }
   ],
   "source": [
    "type(df)"
   ]
  },
  {
   "cell_type": "code",
   "execution_count": 17,
   "id": "b2b17e94",
   "metadata": {},
   "outputs": [
    {
     "data": {
      "text/plain": [
       "7199883"
      ]
     },
     "execution_count": 17,
     "metadata": {},
     "output_type": "execute_result"
    }
   ],
   "source": [
    "df.count()"
   ]
  },
  {
   "cell_type": "code",
   "execution_count": 89,
   "id": "e63c1268",
   "metadata": {},
   "outputs": [
    {
     "name": "stdout",
     "output_type": "stream",
     "text": [
      "root\n",
      " |-- cicid: double (nullable = true)\n",
      " |-- i94yr: double (nullable = true)\n",
      " |-- i94mon: double (nullable = true)\n",
      " |-- i94cit: double (nullable = true)\n",
      " |-- i94res: double (nullable = true)\n",
      " |-- i94port: string (nullable = true)\n",
      " |-- arrdate: double (nullable = true)\n",
      " |-- i94mode: double (nullable = true)\n",
      " |-- i94addr: string (nullable = true)\n",
      " |-- depdate: double (nullable = true)\n",
      " |-- i94bir: double (nullable = true)\n",
      " |-- i94visa: double (nullable = true)\n",
      " |-- count: double (nullable = true)\n",
      " |-- dtadfile: string (nullable = true)\n",
      " |-- visapost: string (nullable = true)\n",
      " |-- occup: string (nullable = true)\n",
      " |-- entdepa: string (nullable = true)\n",
      " |-- entdepd: string (nullable = true)\n",
      " |-- entdepu: string (nullable = true)\n",
      " |-- matflag: string (nullable = true)\n",
      " |-- biryear: double (nullable = true)\n",
      " |-- dtaddto: string (nullable = true)\n",
      " |-- gender: string (nullable = true)\n",
      " |-- insnum: string (nullable = true)\n",
      " |-- airline: string (nullable = true)\n",
      " |-- admnum: double (nullable = true)\n",
      " |-- fltno: string (nullable = true)\n",
      " |-- visatype: string (nullable = true)\n",
      "\n"
     ]
    }
   ],
   "source": [
    "df.printSchema()"
   ]
  },
  {
   "cell_type": "markdown",
   "id": "2c665590",
   "metadata": {},
   "source": [
    "## Build Immigration table - i94_immigrations"
   ]
  },
  {
   "cell_type": "code",
   "execution_count": 382,
   "id": "d72b8600",
   "metadata": {},
   "outputs": [],
   "source": [
    "def sas_date_converter(row, base_date='1960-01-01'):\n",
    "    if row is None:\n",
    "        return row\n",
    "    return datetime.strptime(base_date, '%Y-%m-%d') + timedelta(int(row))"
   ]
  },
  {
   "cell_type": "code",
   "execution_count": 383,
   "id": "5ed51cb3",
   "metadata": {},
   "outputs": [],
   "source": [
    "# https://stackoverflow.com/questions/57762685/is-there-a-way-to-use-pyspark-sql-functions-date-add-with-a-colcolumn-name-a\n",
    "sas_date_converter2 = F.udf(lambda x: None if x!= x else datetime.strptime('1960-01-01', \"%Y-%m-%d\") + timedelta(x), Date())\n",
    "\n"
   ]
  },
  {
   "cell_type": "code",
   "execution_count": 384,
   "id": "1e18122e",
   "metadata": {},
   "outputs": [
    {
     "data": {
      "text/plain": [
       "<function __main__.sas_date_converter(row, base_date='1960-01-01')>"
      ]
     },
     "execution_count": 384,
     "metadata": {},
     "output_type": "execute_result"
    }
   ],
   "source": [
    "spark.udf.register('SASDateConverter', sas_date_converter, Date())"
   ]
  },
  {
   "cell_type": "code",
   "execution_count": 262,
   "id": "4e80bc72",
   "metadata": {},
   "outputs": [],
   "source": [
    "# Ignores junk values, which remain asis\n",
    "change_date_format_1 = F.udf(lambda x: datetime.strptime(x.strip(), '%Y%m%d'), Date())"
   ]
  },
  {
   "cell_type": "code",
   "execution_count": 263,
   "id": "0cb5ff8a",
   "metadata": {},
   "outputs": [],
   "source": [
    "change_date_format_2 = F.udf(lambda x: datetime.strptime(x.strip(), '%m%d%Y'), Date())"
   ]
  },
  {
   "cell_type": "code",
   "execution_count": 302,
   "id": "eda5844c",
   "metadata": {},
   "outputs": [],
   "source": [
    "def date_change(row):\n",
    "    if row is None:\n",
    "        return None\n",
    "    if row.endswith('2016'):\n",
    "        return datetime.strptime(row, '%m%d%Y')\n",
    "    if row.startswith('2016'):\n",
    "        return datetime.strptime(row, '%Y%m%d')\n",
    "    return None"
   ]
  },
  {
   "cell_type": "code",
   "execution_count": 307,
   "id": "a866ca9f",
   "metadata": {},
   "outputs": [],
   "source": [
    "dt = F.udf(date_change, Date())"
   ]
  },
  {
   "cell_type": "code",
   "execution_count": 602,
   "id": "29299e83",
   "metadata": {},
   "outputs": [],
   "source": [
    "cols = ['cicid', 'i94yr', 'i94mon', 'i94port', 'i94mode', 'visapost', \n",
    "       'entdepa', 'entdepd', 'entdepu', 'matflag', \n",
    "       'dtadfile', 'dtaddto', 'arrdate']\n",
    "immigrations = (\n",
    "    df.select(cols)\n",
    "        .dropDuplicates()\n",
    "        .withColumn('custom_client_id', df['cicid'].cast(Int()).cast(Str())).drop('cicid')\n",
    "        .withColumn('i94_year', df['i94yr'].cast(Int())).drop('i94yr')\n",
    "        .withColumn('i94_month', df['i94mon'].cast(Int())).drop('i94mon')\n",
    "        .withColumnRenamed('i94port', 'i94_port')\n",
    "        .withColumn('mode_of_entry', df['i94mode'].cast(Int())).drop('i94mode')\n",
    "        .withColumnRenamed('visapost', 'visa_post')\n",
    "        .withColumnRenamed('entdepa', 'arrival_flag')\n",
    "        .withColumnRenamed('entdepd', 'depature_flag')\n",
    "        .withColumnRenamed('entdepu', 'update_flag')\n",
    "        .withColumnRenamed('matflag', 'match_flag')\n",
    "#        .withColumn('i94_entry_date', F.to_date('dtadfile', 'yyyymmdd').cast(Date()))\n",
    "        .withColumn('i94_entry_date', dt('dtadfile'))\n",
    "        .drop(F.col('dtadfile'))\n",
    "        .withColumn('i94_valid_till', dt('dtaddto'))\n",
    "        .drop(F.col('dtaddto'))\n",
    " #       .withColumn('x', sas_date_converter2(F.col('arrdate')))\n",
    ")\n",
    "    "
   ]
  },
  {
   "cell_type": "code",
   "execution_count": 603,
   "id": "846f4999",
   "metadata": {},
   "outputs": [
    {
     "name": "stdout",
     "output_type": "stream",
     "text": [
      "root\n",
      " |-- i94_port: string (nullable = true)\n",
      " |-- visa_post: string (nullable = true)\n",
      " |-- arrival_flag: string (nullable = true)\n",
      " |-- depature_flag: string (nullable = true)\n",
      " |-- update_flag: string (nullable = true)\n",
      " |-- match_flag: string (nullable = true)\n",
      " |-- arrdate: double (nullable = true)\n",
      " |-- custom_client_id: string (nullable = true)\n",
      " |-- i94_year: integer (nullable = true)\n",
      " |-- i94_month: integer (nullable = true)\n",
      " |-- mode_of_entry: integer (nullable = true)\n",
      " |-- i94_entry_date: date (nullable = true)\n",
      " |-- i94_valid_till: date (nullable = true)\n",
      "\n"
     ]
    }
   ],
   "source": [
    "immigrations.printSchema()"
   ]
  },
  {
   "cell_type": "code",
   "execution_count": 604,
   "id": "14008a79",
   "metadata": {},
   "outputs": [
    {
     "data": {
      "text/html": [
       "<div>\n",
       "<style scoped>\n",
       "    .dataframe tbody tr th:only-of-type {\n",
       "        vertical-align: middle;\n",
       "    }\n",
       "\n",
       "    .dataframe tbody tr th {\n",
       "        vertical-align: top;\n",
       "    }\n",
       "\n",
       "    .dataframe thead th {\n",
       "        text-align: right;\n",
       "    }\n",
       "</style>\n",
       "<table border=\"1\" class=\"dataframe\">\n",
       "  <thead>\n",
       "    <tr style=\"text-align: right;\">\n",
       "      <th></th>\n",
       "      <th>i94_port</th>\n",
       "      <th>visa_post</th>\n",
       "      <th>arrival_flag</th>\n",
       "      <th>depature_flag</th>\n",
       "      <th>update_flag</th>\n",
       "      <th>match_flag</th>\n",
       "      <th>arrdate</th>\n",
       "      <th>custom_client_id</th>\n",
       "      <th>i94_year</th>\n",
       "      <th>i94_month</th>\n",
       "      <th>mode_of_entry</th>\n",
       "      <th>i94_entry_date</th>\n",
       "      <th>i94_valid_till</th>\n",
       "    </tr>\n",
       "  </thead>\n",
       "  <tbody>\n",
       "    <tr>\n",
       "      <th>0</th>\n",
       "      <td>NEW</td>\n",
       "      <td>None</td>\n",
       "      <td>T</td>\n",
       "      <td>O</td>\n",
       "      <td>None</td>\n",
       "      <td>M</td>\n",
       "      <td>20545.0</td>\n",
       "      <td>161</td>\n",
       "      <td>2016</td>\n",
       "      <td>4</td>\n",
       "      <td>1</td>\n",
       "      <td>2016-04-01</td>\n",
       "      <td>2016-09-30</td>\n",
       "    </tr>\n",
       "    <tr>\n",
       "      <th>1</th>\n",
       "      <td>CHI</td>\n",
       "      <td>None</td>\n",
       "      <td>O</td>\n",
       "      <td>O</td>\n",
       "      <td>None</td>\n",
       "      <td>M</td>\n",
       "      <td>20545.0</td>\n",
       "      <td>498</td>\n",
       "      <td>2016</td>\n",
       "      <td>4</td>\n",
       "      <td>1</td>\n",
       "      <td>2016-04-01</td>\n",
       "      <td>2016-06-29</td>\n",
       "    </tr>\n",
       "    <tr>\n",
       "      <th>2</th>\n",
       "      <td>CHI</td>\n",
       "      <td>None</td>\n",
       "      <td>G</td>\n",
       "      <td>O</td>\n",
       "      <td>None</td>\n",
       "      <td>M</td>\n",
       "      <td>20545.0</td>\n",
       "      <td>512</td>\n",
       "      <td>2016</td>\n",
       "      <td>4</td>\n",
       "      <td>1</td>\n",
       "      <td>2016-04-01</td>\n",
       "      <td>2016-06-29</td>\n",
       "    </tr>\n",
       "    <tr>\n",
       "      <th>3</th>\n",
       "      <td>ATL</td>\n",
       "      <td>None</td>\n",
       "      <td>G</td>\n",
       "      <td>O</td>\n",
       "      <td>None</td>\n",
       "      <td>M</td>\n",
       "      <td>20545.0</td>\n",
       "      <td>790</td>\n",
       "      <td>2016</td>\n",
       "      <td>4</td>\n",
       "      <td>1</td>\n",
       "      <td>2016-04-01</td>\n",
       "      <td>2016-06-29</td>\n",
       "    </tr>\n",
       "    <tr>\n",
       "      <th>4</th>\n",
       "      <td>NEW</td>\n",
       "      <td>None</td>\n",
       "      <td>G</td>\n",
       "      <td>O</td>\n",
       "      <td>None</td>\n",
       "      <td>M</td>\n",
       "      <td>20545.0</td>\n",
       "      <td>991</td>\n",
       "      <td>2016</td>\n",
       "      <td>4</td>\n",
       "      <td>1</td>\n",
       "      <td>2016-04-01</td>\n",
       "      <td>2016-06-29</td>\n",
       "    </tr>\n",
       "  </tbody>\n",
       "</table>\n",
       "</div>"
      ],
      "text/plain": [
       "  i94_port visa_post arrival_flag depature_flag update_flag match_flag  \\\n",
       "0      NEW      None            T             O        None          M   \n",
       "1      CHI      None            O             O        None          M   \n",
       "2      CHI      None            G             O        None          M   \n",
       "3      ATL      None            G             O        None          M   \n",
       "4      NEW      None            G             O        None          M   \n",
       "\n",
       "   arrdate custom_client_id  i94_year  i94_month  mode_of_entry  \\\n",
       "0  20545.0              161      2016          4              1   \n",
       "1  20545.0              498      2016          4              1   \n",
       "2  20545.0              512      2016          4              1   \n",
       "3  20545.0              790      2016          4              1   \n",
       "4  20545.0              991      2016          4              1   \n",
       "\n",
       "  i94_entry_date i94_valid_till  \n",
       "0     2016-04-01     2016-09-30  \n",
       "1     2016-04-01     2016-06-29  \n",
       "2     2016-04-01     2016-06-29  \n",
       "3     2016-04-01     2016-06-29  \n",
       "4     2016-04-01     2016-06-29  "
      ]
     },
     "execution_count": 604,
     "metadata": {},
     "output_type": "execute_result"
    }
   ],
   "source": [
    "immigrations.limit(5).toPandas().head()"
   ]
  },
  {
   "cell_type": "code",
   "execution_count": 318,
   "id": "59b6f025",
   "metadata": {},
   "outputs": [
    {
     "name": "stdout",
     "output_type": "stream",
     "text": [
      "+-------------------+\n",
      "|max(i94_entry_date)|\n",
      "+-------------------+\n",
      "|         2016-11-21|\n",
      "+-------------------+\n",
      "\n"
     ]
    }
   ],
   "source": [
    "immigrations.agg({'i94_entry_date': 'max'}).show()"
   ]
  },
  {
   "cell_type": "code",
   "execution_count": 204,
   "id": "38cb1319",
   "metadata": {},
   "outputs": [
    {
     "name": "stdout",
     "output_type": "stream",
     "text": [
      "+------------+\n",
      "|min(dtaddto)|\n",
      "+------------+\n",
      "|    /   183D|\n",
      "+------------+\n",
      "\n"
     ]
    }
   ],
   "source": [
    "df.agg({'dtaddto': 'min'}).show()"
   ]
  },
  {
   "cell_type": "code",
   "execution_count": 315,
   "id": "401a0cd8",
   "metadata": {},
   "outputs": [
    {
     "name": "stdout",
     "output_type": "stream",
     "text": [
      "+-------------------+\n",
      "|min(i94_valid_till)|\n",
      "+-------------------+\n",
      "|         2016-01-01|\n",
      "+-------------------+\n",
      "\n"
     ]
    }
   ],
   "source": [
    "immigrations.agg({'i94_valid_till': 'min'}).show()"
   ]
  },
  {
   "cell_type": "code",
   "execution_count": 246,
   "id": "a69f9e27",
   "metadata": {},
   "outputs": [
    {
     "name": "stdout",
     "output_type": "stream",
     "text": [
      "+---------+----------+------------+\n",
      "|   cic_id|  sas_date|arrival_date|\n",
      "+---------+----------+------------+\n",
      "|5748517.0|1960-01-01|    20160401|\n",
      "|5748517.0|1960-01-01|     2016051|\n",
      "|5748517.0|1960-01-01|    /   183D|\n",
      "+---------+----------+------------+\n",
      "\n"
     ]
    }
   ],
   "source": [
    "# l1 = [(5748517.0,'1960-01-01', '20160401'), (5748517.0,'1960-01-01', '2016051'), (5748517.0,'1960-01-01', '/   183D')]\n",
    "# df_test = spark.createDataFrame(l1).toDF('cic_id','sas_date','arrival_date')\n",
    "# df_test.show()"
   ]
  },
  {
   "cell_type": "code",
   "execution_count": 248,
   "id": "35fd308d",
   "metadata": {},
   "outputs": [],
   "source": [
    "#df_test.withColumn('actual_arrival_date', date_add_udf(F.to_date('sas_date'), 'arrival_date')).show()"
   ]
  },
  {
   "cell_type": "markdown",
   "id": "d5d90990",
   "metadata": {},
   "source": [
    "## Build transaction table - i94_visitors"
   ]
  },
  {
   "cell_type": "code",
   "execution_count": 390,
   "id": "bd8c5df8",
   "metadata": {},
   "outputs": [],
   "source": [
    "df.createOrReplaceTempView('i94_visitors')\n",
    "txns = spark.sql(\"\"\"\n",
    "    SELECT\n",
    "        STRING(INT(cicid)) AS custom_client_id,\n",
    "        STRING(INT(admnum)) AS admissions_number,\n",
    "        INT(i94yr) AS i94_year,\n",
    "        INT(i94mon) AS i94_month,\n",
    "        STRING(INT(i94cit)) AS arrived_country_id,\n",
    "        STRING(INT(i94res)) AS resident_country_id,\n",
    "        SASDateConverter(arrdate) AS arrival_date,\n",
    "        SASDateConverter(depdate) AS depature_date,\n",
    "        STRING(fltno) AS flight_num,\n",
    "        STRING(INT(i94visa)) AS visa_id,\n",
    "        STRING(visatype) AS visa_category\n",
    "    FROM\n",
    "        i94_visitors\n",
    "\"\"\")"
   ]
  },
  {
   "cell_type": "code",
   "execution_count": 391,
   "id": "c6183a30",
   "metadata": {},
   "outputs": [
    {
     "data": {
      "text/html": [
       "<div>\n",
       "<style scoped>\n",
       "    .dataframe tbody tr th:only-of-type {\n",
       "        vertical-align: middle;\n",
       "    }\n",
       "\n",
       "    .dataframe tbody tr th {\n",
       "        vertical-align: top;\n",
       "    }\n",
       "\n",
       "    .dataframe thead th {\n",
       "        text-align: right;\n",
       "    }\n",
       "</style>\n",
       "<table border=\"1\" class=\"dataframe\">\n",
       "  <thead>\n",
       "    <tr style=\"text-align: right;\">\n",
       "      <th></th>\n",
       "      <th>custom_client_id</th>\n",
       "      <th>admissions_number</th>\n",
       "      <th>i94_year</th>\n",
       "      <th>i94_month</th>\n",
       "      <th>arrived_city</th>\n",
       "      <th>resident_city</th>\n",
       "      <th>arrival_date</th>\n",
       "      <th>depature_date</th>\n",
       "      <th>flight_num</th>\n",
       "      <th>travel_purpose</th>\n",
       "      <th>visa_category</th>\n",
       "    </tr>\n",
       "  </thead>\n",
       "  <tbody>\n",
       "    <tr>\n",
       "      <th>0</th>\n",
       "      <td>6</td>\n",
       "      <td>1897628485</td>\n",
       "      <td>2016</td>\n",
       "      <td>4</td>\n",
       "      <td>692</td>\n",
       "      <td>692</td>\n",
       "      <td>2016-04-29</td>\n",
       "      <td>None</td>\n",
       "      <td>None</td>\n",
       "      <td>2</td>\n",
       "      <td>B2</td>\n",
       "    </tr>\n",
       "    <tr>\n",
       "      <th>1</th>\n",
       "      <td>7</td>\n",
       "      <td>2147483647</td>\n",
       "      <td>2016</td>\n",
       "      <td>4</td>\n",
       "      <td>254</td>\n",
       "      <td>276</td>\n",
       "      <td>2016-04-07</td>\n",
       "      <td>None</td>\n",
       "      <td>00296</td>\n",
       "      <td>3</td>\n",
       "      <td>F1</td>\n",
       "    </tr>\n",
       "    <tr>\n",
       "      <th>2</th>\n",
       "      <td>15</td>\n",
       "      <td>666643185</td>\n",
       "      <td>2016</td>\n",
       "      <td>4</td>\n",
       "      <td>101</td>\n",
       "      <td>101</td>\n",
       "      <td>2016-04-01</td>\n",
       "      <td>2016-08-25</td>\n",
       "      <td>93</td>\n",
       "      <td>2</td>\n",
       "      <td>B2</td>\n",
       "    </tr>\n",
       "    <tr>\n",
       "      <th>3</th>\n",
       "      <td>16</td>\n",
       "      <td>2147483647</td>\n",
       "      <td>2016</td>\n",
       "      <td>4</td>\n",
       "      <td>101</td>\n",
       "      <td>101</td>\n",
       "      <td>2016-04-01</td>\n",
       "      <td>2016-04-23</td>\n",
       "      <td>00199</td>\n",
       "      <td>2</td>\n",
       "      <td>B2</td>\n",
       "    </tr>\n",
       "    <tr>\n",
       "      <th>4</th>\n",
       "      <td>17</td>\n",
       "      <td>2147483647</td>\n",
       "      <td>2016</td>\n",
       "      <td>4</td>\n",
       "      <td>101</td>\n",
       "      <td>101</td>\n",
       "      <td>2016-04-01</td>\n",
       "      <td>2016-04-23</td>\n",
       "      <td>00199</td>\n",
       "      <td>2</td>\n",
       "      <td>B2</td>\n",
       "    </tr>\n",
       "    <tr>\n",
       "      <th>5</th>\n",
       "      <td>18</td>\n",
       "      <td>2147483647</td>\n",
       "      <td>2016</td>\n",
       "      <td>4</td>\n",
       "      <td>101</td>\n",
       "      <td>101</td>\n",
       "      <td>2016-04-01</td>\n",
       "      <td>2016-04-11</td>\n",
       "      <td>00602</td>\n",
       "      <td>1</td>\n",
       "      <td>B1</td>\n",
       "    </tr>\n",
       "    <tr>\n",
       "      <th>6</th>\n",
       "      <td>19</td>\n",
       "      <td>2147483647</td>\n",
       "      <td>2016</td>\n",
       "      <td>4</td>\n",
       "      <td>101</td>\n",
       "      <td>101</td>\n",
       "      <td>2016-04-01</td>\n",
       "      <td>2016-04-14</td>\n",
       "      <td>00602</td>\n",
       "      <td>2</td>\n",
       "      <td>B2</td>\n",
       "    </tr>\n",
       "    <tr>\n",
       "      <th>7</th>\n",
       "      <td>20</td>\n",
       "      <td>2147483647</td>\n",
       "      <td>2016</td>\n",
       "      <td>4</td>\n",
       "      <td>101</td>\n",
       "      <td>101</td>\n",
       "      <td>2016-04-01</td>\n",
       "      <td>2016-04-14</td>\n",
       "      <td>00602</td>\n",
       "      <td>2</td>\n",
       "      <td>B2</td>\n",
       "    </tr>\n",
       "    <tr>\n",
       "      <th>8</th>\n",
       "      <td>21</td>\n",
       "      <td>2147483647</td>\n",
       "      <td>2016</td>\n",
       "      <td>4</td>\n",
       "      <td>101</td>\n",
       "      <td>101</td>\n",
       "      <td>2016-04-01</td>\n",
       "      <td>2016-04-09</td>\n",
       "      <td>00602</td>\n",
       "      <td>2</td>\n",
       "      <td>B2</td>\n",
       "    </tr>\n",
       "    <tr>\n",
       "      <th>9</th>\n",
       "      <td>22</td>\n",
       "      <td>2147483647</td>\n",
       "      <td>2016</td>\n",
       "      <td>4</td>\n",
       "      <td>101</td>\n",
       "      <td>101</td>\n",
       "      <td>2016-04-01</td>\n",
       "      <td>2016-04-18</td>\n",
       "      <td>00608</td>\n",
       "      <td>1</td>\n",
       "      <td>B1</td>\n",
       "    </tr>\n",
       "  </tbody>\n",
       "</table>\n",
       "</div>"
      ],
      "text/plain": [
       "  custom_client_id admissions_number  i94_year  i94_month arrived_city  \\\n",
       "0                6        1897628485      2016          4          692   \n",
       "1                7        2147483647      2016          4          254   \n",
       "2               15         666643185      2016          4          101   \n",
       "3               16        2147483647      2016          4          101   \n",
       "4               17        2147483647      2016          4          101   \n",
       "5               18        2147483647      2016          4          101   \n",
       "6               19        2147483647      2016          4          101   \n",
       "7               20        2147483647      2016          4          101   \n",
       "8               21        2147483647      2016          4          101   \n",
       "9               22        2147483647      2016          4          101   \n",
       "\n",
       "  resident_city arrival_date depature_date flight_num travel_purpose  \\\n",
       "0           692   2016-04-29          None       None              2   \n",
       "1           276   2016-04-07          None      00296              3   \n",
       "2           101   2016-04-01    2016-08-25         93              2   \n",
       "3           101   2016-04-01    2016-04-23      00199              2   \n",
       "4           101   2016-04-01    2016-04-23      00199              2   \n",
       "5           101   2016-04-01    2016-04-11      00602              1   \n",
       "6           101   2016-04-01    2016-04-14      00602              2   \n",
       "7           101   2016-04-01    2016-04-14      00602              2   \n",
       "8           101   2016-04-01    2016-04-09      00602              2   \n",
       "9           101   2016-04-01    2016-04-18      00608              1   \n",
       "\n",
       "  visa_category  \n",
       "0            B2  \n",
       "1            F1  \n",
       "2            B2  \n",
       "3            B2  \n",
       "4            B2  \n",
       "5            B1  \n",
       "6            B2  \n",
       "7            B2  \n",
       "8            B2  \n",
       "9            B1  "
      ]
     },
     "execution_count": 391,
     "metadata": {},
     "output_type": "execute_result"
    }
   ],
   "source": [
    "txns.limit(20).toPandas().head(10)"
   ]
  },
  {
   "cell_type": "code",
   "execution_count": 348,
   "id": "afebd623",
   "metadata": {},
   "outputs": [
    {
     "name": "stdout",
     "output_type": "stream",
     "text": [
      "+---------------------------------------------------+\n",
      "|count(CASE WHEN (arrdate IS NULL) THEN arrdate END)|\n",
      "+---------------------------------------------------+\n",
      "|                                                  0|\n",
      "+---------------------------------------------------+\n",
      "\n"
     ]
    }
   ],
   "source": [
    "# Check for null values in a field\n",
    "df.select(F.count(F.when(F.col('arrdate').isNull(), 'arrdate'))).show()"
   ]
  },
  {
   "cell_type": "markdown",
   "id": "7087e622",
   "metadata": {},
   "source": [
    "## Build Flight dimensional table - A reference table i94_flights"
   ]
  },
  {
   "cell_type": "code",
   "execution_count": 395,
   "id": "db280db1",
   "metadata": {},
   "outputs": [],
   "source": [
    "df.createOrReplaceTempView('i94_flights')\n",
    "airlines = spark.sql(\"\"\"\n",
    "    SELECT\n",
    "        STRING(fltno) AS flight_num,\n",
    "        airline\n",
    "    FROM\n",
    "        i94_flights\n",
    "    WHERE \n",
    "        fltno IS NOT NULL\n",
    "\"\"\")"
   ]
  },
  {
   "cell_type": "code",
   "execution_count": 396,
   "id": "fc3ef1cf",
   "metadata": {},
   "outputs": [
    {
     "name": "stdout",
     "output_type": "stream",
     "text": [
      "+----------+-------+\n",
      "|flight_num|airline|\n",
      "+----------+-------+\n",
      "|     00296|   null|\n",
      "|        93|     OS|\n",
      "|     00199|     AA|\n",
      "|     00199|     AA|\n",
      "|     00602|     AZ|\n",
      "|     00602|     AZ|\n",
      "|     00602|     AZ|\n",
      "|     00602|     AZ|\n",
      "|     00608|     AZ|\n",
      "|     00001|     TK|\n",
      "|     03348|     MQ|\n",
      "|     00422|     LH|\n",
      "|     00422|     LH|\n",
      "|     00614|     AZ|\n",
      "|     00089|     OS|\n",
      "|     00089|     OS|\n",
      "|     00033|     TK|\n",
      "|     00602|     AZ|\n",
      "|         1|     TK|\n",
      "|     00001|     TK|\n",
      "+----------+-------+\n",
      "only showing top 20 rows\n",
      "\n"
     ]
    }
   ],
   "source": [
    "airlines.show()"
   ]
  },
  {
   "cell_type": "markdown",
   "id": "abb2cf6e",
   "metadata": {},
   "source": [
    "## Build Visa dimensional table - A reference table i94_visa\n",
    "\n",
    "This data comes from a data dictionary file\n",
    "- i94_visa (visa_codes)\n",
    "- i94_visa_category\n",
    "- i94_arrived_city (city_codes)\n",
    "- i94_resident_city (city_codes)\n",
    "- i94_mode (mode_codes)\n",
    "- i94_port (port_codes)\n",
    "- i94_addr (state_codes)"
   ]
  },
  {
   "cell_type": "code",
   "execution_count": 471,
   "id": "c75b2973",
   "metadata": {},
   "outputs": [],
   "source": [
    "i94_ref_file = r'../dictionary/I94_SAS_Labels_Descriptions.SAS'\n",
    "def parse_ref_file(file, start_pos=2, end_pos=7):\n",
    "    data = []\n",
    "    ref_dict = {}\n",
    "    with open(file) as f:\n",
    "        content = f.read()\n",
    "        data = [word for lines in content.split(';')[start_pos: end_pos] for word in lines.splitlines(True) if '=' in word]\n",
    "        for item in data:\n",
    "            k = item.split('=')[0].strip().strip(\"'\")\n",
    "            v = item.split('=')[1].strip().strip(\"'\") \n",
    "            if k not in ref_dict:\n",
    "                ref_dict[k] = v\n",
    "    return ref_dict"
   ]
  },
  {
   "cell_type": "code",
   "execution_count": 488,
   "id": "674f2b12",
   "metadata": {},
   "outputs": [
    {
     "data": {
      "text/html": [
       "<div>\n",
       "<style scoped>\n",
       "    .dataframe tbody tr th:only-of-type {\n",
       "        vertical-align: middle;\n",
       "    }\n",
       "\n",
       "    .dataframe tbody tr th {\n",
       "        vertical-align: top;\n",
       "    }\n",
       "\n",
       "    .dataframe thead th {\n",
       "        text-align: right;\n",
       "    }\n",
       "</style>\n",
       "<table border=\"1\" class=\"dataframe\">\n",
       "  <thead>\n",
       "    <tr style=\"text-align: right;\">\n",
       "      <th></th>\n",
       "      <th>country_code</th>\n",
       "      <th>country</th>\n",
       "    </tr>\n",
       "  </thead>\n",
       "  <tbody>\n",
       "    <tr>\n",
       "      <th>0</th>\n",
       "      <td>582</td>\n",
       "      <td>MEXICO Air Sea, and Not Reported (I-94, no lan...</td>\n",
       "    </tr>\n",
       "    <tr>\n",
       "      <th>1</th>\n",
       "      <td>236</td>\n",
       "      <td>AFGHANISTAN</td>\n",
       "    </tr>\n",
       "    <tr>\n",
       "      <th>2</th>\n",
       "      <td>101</td>\n",
       "      <td>ALBANIA</td>\n",
       "    </tr>\n",
       "    <tr>\n",
       "      <th>3</th>\n",
       "      <td>316</td>\n",
       "      <td>ALGERIA</td>\n",
       "    </tr>\n",
       "    <tr>\n",
       "      <th>4</th>\n",
       "      <td>102</td>\n",
       "      <td>ANDORRA</td>\n",
       "    </tr>\n",
       "    <tr>\n",
       "      <th>...</th>\n",
       "      <td>...</td>\n",
       "      <td>...</td>\n",
       "    </tr>\n",
       "    <tr>\n",
       "      <th>284</th>\n",
       "      <td>791</td>\n",
       "      <td>No Country Code (791)</td>\n",
       "    </tr>\n",
       "    <tr>\n",
       "      <th>285</th>\n",
       "      <td>849</td>\n",
       "      <td>No Country Code (849)</td>\n",
       "    </tr>\n",
       "    <tr>\n",
       "      <th>286</th>\n",
       "      <td>914</td>\n",
       "      <td>No Country Code (914)</td>\n",
       "    </tr>\n",
       "    <tr>\n",
       "      <th>287</th>\n",
       "      <td>944</td>\n",
       "      <td>No Country Code (944)</td>\n",
       "    </tr>\n",
       "    <tr>\n",
       "      <th>288</th>\n",
       "      <td>996</td>\n",
       "      <td>No Country Code (996)</td>\n",
       "    </tr>\n",
       "  </tbody>\n",
       "</table>\n",
       "<p>289 rows × 2 columns</p>\n",
       "</div>"
      ],
      "text/plain": [
       "    country_code                                            country\n",
       "0            582  MEXICO Air Sea, and Not Reported (I-94, no lan...\n",
       "1            236                                        AFGHANISTAN\n",
       "2            101                                            ALBANIA\n",
       "3            316                                            ALGERIA\n",
       "4            102                                            ANDORRA\n",
       "..           ...                                                ...\n",
       "284          791                              No Country Code (791)\n",
       "285          849                              No Country Code (849)\n",
       "286          914                              No Country Code (914)\n",
       "287          944                              No Country Code (944)\n",
       "288          996                              No Country Code (996)\n",
       "\n",
       "[289 rows x 2 columns]"
      ]
     },
     "execution_count": 488,
     "metadata": {},
     "output_type": "execute_result"
    }
   ],
   "source": [
    "(\n",
    "pd.Series(parse_ref_file(i94_ref_file, 2, 3))\n",
    "    .to_frame()\n",
    "    .rename(columns={0: 'country'})\n",
    "    .reset_index()\n",
    "    .rename(columns={'index': 'country_id'})\n",
    ")"
   ]
  },
  {
   "cell_type": "code",
   "execution_count": 506,
   "id": "f25d9268",
   "metadata": {},
   "outputs": [],
   "source": [
    "port_df = (\n",
    "pd.Series(parse_ref_file(i94_ref_file, 3, 4))\n",
    "    .to_frame()\n",
    "    .rename(columns={0: 'city'})\n",
    "    .reset_index()\n",
    "    .rename(columns={'index': 'port_id'})\n",
    ")\n",
    "res = pd.concat([port_df['port_id'].to_frame(), port_df['city'].str.strip().str.rsplit(',', 1, expand=True)], axis=1)"
   ]
  },
  {
   "cell_type": "code",
   "execution_count": 507,
   "id": "c9730726",
   "metadata": {},
   "outputs": [
    {
     "data": {
      "text/plain": [
       "array([' AK', ' AL', ' AR (BPS)', ' AR', ' AZ', None, ' CA', ' CA (BPS)',\n",
       "       ' CO', ' CO #ARPT', ' CT', ' DE', ' FL', ' FL #ARPT', ' GA', ' GU',\n",
       "       ' HI', ' IA', ' ID', ' IL', ' IN', ' KS', ' KY', ' LA',\n",
       "       ' LA (BPS)', ' MA', ' WA', ' MD', ' ME', ' MT', ' ME (BPS)', ' MI',\n",
       "       ' MN', ' MO', ' MS', ' MT (BPS)', ' NC', ' ND', ' NE', ' NH',\n",
       "       ' NJ', ' NM (BPS)', ' NM', ' NV', ' NY', ' OH', ' OK', ' OR',\n",
       "       ' PA', ' PR', ' RI', ' SC', ' SC #ARPT', ' SD', ' SPN', ' TN',\n",
       "       ' TX', ' TX (BPS)', 'TX', ' VI', ' UT', ' VA', ' VA #ARPT', ' VT',\n",
       "       ' VT (I-91)', ' VT (RT. 5)', ' VT (BP - SECTOR HQ)',\n",
       "       ' WASHINGTON #INTL', ' WA (BPS)', ' WI', ' WV', ' WY', ' CANADA',\n",
       "       ' Canada', ' NETHERLANDS', ' NETH ANTILLES', ' THAILAND',\n",
       "       ' ETHIOPIA', ' PRC', ' BERMUDA', ' COLOMBIA', ' ARGENTINA',\n",
       "       ' MEXICO', ' BRAZIL', ' URUGUAY', ' IRELAND', ' GABON', ' BAHAMAS',\n",
       "       ' MX', ' CAYMAN ISLAND', ' SEOUL KOREA', ' JAPAN', ' ROMANIA',\n",
       "       ' INDONESIA', ' SOUTH AFRICA', ' ENGLAND', ' KENYA',\n",
       "       ' TURK & CAIMAN', ' PANAMA', ' NEW GUINEA', ' ECUADOR', ' ITALY',\n",
       "       ' EL SALVADOR'], dtype=object)"
      ]
     },
     "execution_count": 507,
     "metadata": {},
     "output_type": "execute_result"
    }
   ],
   "source": [
    "res[1].unique()\n"
   ]
  },
  {
   "cell_type": "code",
   "execution_count": 568,
   "id": "8b431ed2",
   "metadata": {},
   "outputs": [
    {
     "data": {
      "text/html": [
       "<div>\n",
       "<style scoped>\n",
       "    .dataframe tbody tr th:only-of-type {\n",
       "        vertical-align: middle;\n",
       "    }\n",
       "\n",
       "    .dataframe tbody tr th {\n",
       "        vertical-align: top;\n",
       "    }\n",
       "\n",
       "    .dataframe thead th {\n",
       "        text-align: right;\n",
       "    }\n",
       "</style>\n",
       "<table border=\"1\" class=\"dataframe\">\n",
       "  <thead>\n",
       "    <tr style=\"text-align: right;\">\n",
       "      <th></th>\n",
       "      <th>port_id</th>\n",
       "      <th>0</th>\n",
       "      <th>1</th>\n",
       "    </tr>\n",
       "  </thead>\n",
       "  <tbody>\n",
       "    <tr>\n",
       "      <th>0</th>\n",
       "      <td>ALC</td>\n",
       "      <td>ALCAN</td>\n",
       "      <td>AK</td>\n",
       "    </tr>\n",
       "    <tr>\n",
       "      <th>1</th>\n",
       "      <td>ANC</td>\n",
       "      <td>ANCHORAGE</td>\n",
       "      <td>AK</td>\n",
       "    </tr>\n",
       "    <tr>\n",
       "      <th>2</th>\n",
       "      <td>BAR</td>\n",
       "      <td>BAKER AAF - BAKER ISLAND</td>\n",
       "      <td>AK</td>\n",
       "    </tr>\n",
       "    <tr>\n",
       "      <th>3</th>\n",
       "      <td>DAC</td>\n",
       "      <td>DALTONS CACHE</td>\n",
       "      <td>AK</td>\n",
       "    </tr>\n",
       "    <tr>\n",
       "      <th>4</th>\n",
       "      <td>PIZ</td>\n",
       "      <td>DEW STATION PT LAY DEW</td>\n",
       "      <td>AK</td>\n",
       "    </tr>\n",
       "    <tr>\n",
       "      <th>...</th>\n",
       "      <td>...</td>\n",
       "      <td>...</td>\n",
       "      <td>...</td>\n",
       "    </tr>\n",
       "    <tr>\n",
       "      <th>655</th>\n",
       "      <td>ADU</td>\n",
       "      <td>No PORT Code (ADU)</td>\n",
       "      <td>None</td>\n",
       "    </tr>\n",
       "    <tr>\n",
       "      <th>656</th>\n",
       "      <td>AKT</td>\n",
       "      <td>No PORT Code (AKT)</td>\n",
       "      <td>None</td>\n",
       "    </tr>\n",
       "    <tr>\n",
       "      <th>657</th>\n",
       "      <td>LIT</td>\n",
       "      <td>No PORT Code (LIT)</td>\n",
       "      <td>None</td>\n",
       "    </tr>\n",
       "    <tr>\n",
       "      <th>658</th>\n",
       "      <td>A2A</td>\n",
       "      <td>No PORT Code (A2A)</td>\n",
       "      <td>None</td>\n",
       "    </tr>\n",
       "    <tr>\n",
       "      <th>659</th>\n",
       "      <td>OSN</td>\n",
       "      <td>No PORT Code (OSN)</td>\n",
       "      <td>None</td>\n",
       "    </tr>\n",
       "  </tbody>\n",
       "</table>\n",
       "<p>660 rows × 3 columns</p>\n",
       "</div>"
      ],
      "text/plain": [
       "    port_id                         0     1\n",
       "0       ALC                     ALCAN    AK\n",
       "1       ANC                 ANCHORAGE    AK\n",
       "2       BAR  BAKER AAF - BAKER ISLAND    AK\n",
       "3       DAC             DALTONS CACHE    AK\n",
       "4       PIZ    DEW STATION PT LAY DEW    AK\n",
       "..      ...                       ...   ...\n",
       "655     ADU        No PORT Code (ADU)  None\n",
       "656     AKT        No PORT Code (AKT)  None\n",
       "657     LIT        No PORT Code (LIT)  None\n",
       "658     A2A        No PORT Code (A2A)  None\n",
       "659     OSN        No PORT Code (OSN)  None\n",
       "\n",
       "[660 rows x 3 columns]"
      ]
     },
     "execution_count": 568,
     "metadata": {},
     "output_type": "execute_result"
    }
   ],
   "source": [
    "res"
   ]
  },
  {
   "cell_type": "code",
   "execution_count": 491,
   "id": "14a19a3c",
   "metadata": {},
   "outputs": [
    {
     "data": {
      "text/html": [
       "<div>\n",
       "<style scoped>\n",
       "    .dataframe tbody tr th:only-of-type {\n",
       "        vertical-align: middle;\n",
       "    }\n",
       "\n",
       "    .dataframe tbody tr th {\n",
       "        vertical-align: top;\n",
       "    }\n",
       "\n",
       "    .dataframe thead th {\n",
       "        text-align: right;\n",
       "    }\n",
       "</style>\n",
       "<table border=\"1\" class=\"dataframe\">\n",
       "  <thead>\n",
       "    <tr style=\"text-align: right;\">\n",
       "      <th></th>\n",
       "      <th>port_code</th>\n",
       "      <th>city</th>\n",
       "    </tr>\n",
       "  </thead>\n",
       "  <tbody>\n",
       "    <tr>\n",
       "      <th>0</th>\n",
       "      <td>1</td>\n",
       "      <td>Air</td>\n",
       "    </tr>\n",
       "    <tr>\n",
       "      <th>1</th>\n",
       "      <td>2</td>\n",
       "      <td>Sea</td>\n",
       "    </tr>\n",
       "    <tr>\n",
       "      <th>2</th>\n",
       "      <td>3</td>\n",
       "      <td>Land</td>\n",
       "    </tr>\n",
       "    <tr>\n",
       "      <th>3</th>\n",
       "      <td>9</td>\n",
       "      <td>Not reported</td>\n",
       "    </tr>\n",
       "  </tbody>\n",
       "</table>\n",
       "</div>"
      ],
      "text/plain": [
       "  port_code          city\n",
       "0         1           Air\n",
       "1         2           Sea\n",
       "2         3          Land\n",
       "3         9  Not reported"
      ]
     },
     "execution_count": 491,
     "metadata": {},
     "output_type": "execute_result"
    }
   ],
   "source": [
    "(\n",
    "pd.Series(parse_ref_file(i94_ref_file, 4, 5))\n",
    "    .to_frame()\n",
    "    .rename(columns={0: 'mode'})\n",
    "    .reset_index()\n",
    "    .rename(columns={'index': 'mode_id'})\n",
    ")"
   ]
  },
  {
   "cell_type": "code",
   "execution_count": 493,
   "id": "f305ae55",
   "metadata": {},
   "outputs": [
    {
     "data": {
      "text/html": [
       "<div>\n",
       "<style scoped>\n",
       "    .dataframe tbody tr th:only-of-type {\n",
       "        vertical-align: middle;\n",
       "    }\n",
       "\n",
       "    .dataframe tbody tr th {\n",
       "        vertical-align: top;\n",
       "    }\n",
       "\n",
       "    .dataframe thead th {\n",
       "        text-align: right;\n",
       "    }\n",
       "</style>\n",
       "<table border=\"1\" class=\"dataframe\">\n",
       "  <thead>\n",
       "    <tr style=\"text-align: right;\">\n",
       "      <th></th>\n",
       "      <th>state</th>\n",
       "      <th>state_id</th>\n",
       "    </tr>\n",
       "  </thead>\n",
       "  <tbody>\n",
       "    <tr>\n",
       "      <th>0</th>\n",
       "      <td>AL</td>\n",
       "      <td>ALABAMA</td>\n",
       "    </tr>\n",
       "    <tr>\n",
       "      <th>1</th>\n",
       "      <td>AK</td>\n",
       "      <td>ALASKA</td>\n",
       "    </tr>\n",
       "    <tr>\n",
       "      <th>2</th>\n",
       "      <td>AZ</td>\n",
       "      <td>ARIZONA</td>\n",
       "    </tr>\n",
       "    <tr>\n",
       "      <th>3</th>\n",
       "      <td>AR</td>\n",
       "      <td>ARKANSAS</td>\n",
       "    </tr>\n",
       "    <tr>\n",
       "      <th>4</th>\n",
       "      <td>CA</td>\n",
       "      <td>CALIFORNIA</td>\n",
       "    </tr>\n",
       "  </tbody>\n",
       "</table>\n",
       "</div>"
      ],
      "text/plain": [
       "  state    state_id\n",
       "0    AL     ALABAMA\n",
       "1    AK      ALASKA\n",
       "2    AZ     ARIZONA\n",
       "3    AR    ARKANSAS\n",
       "4    CA  CALIFORNIA"
      ]
     },
     "execution_count": 493,
     "metadata": {},
     "output_type": "execute_result"
    }
   ],
   "source": [
    "(\n",
    "pd.Series(parse_ref_file(i94_ref_file, 5, 6))\n",
    "    .to_frame()\n",
    "    .rename(columns={0: 'state_id'})\n",
    "    .reset_index()\n",
    "    .rename(columns={'index': 'state'})\n",
    ").head()"
   ]
  },
  {
   "cell_type": "code",
   "execution_count": 494,
   "id": "9d4eef69",
   "metadata": {},
   "outputs": [
    {
     "data": {
      "text/html": [
       "<div>\n",
       "<style scoped>\n",
       "    .dataframe tbody tr th:only-of-type {\n",
       "        vertical-align: middle;\n",
       "    }\n",
       "\n",
       "    .dataframe tbody tr th {\n",
       "        vertical-align: top;\n",
       "    }\n",
       "\n",
       "    .dataframe thead th {\n",
       "        text-align: right;\n",
       "    }\n",
       "</style>\n",
       "<table border=\"1\" class=\"dataframe\">\n",
       "  <thead>\n",
       "    <tr style=\"text-align: right;\">\n",
       "      <th></th>\n",
       "      <th>state</th>\n",
       "      <th>state_id</th>\n",
       "    </tr>\n",
       "  </thead>\n",
       "  <tbody>\n",
       "    <tr>\n",
       "      <th>0</th>\n",
       "      <td>1</td>\n",
       "      <td>Business</td>\n",
       "    </tr>\n",
       "    <tr>\n",
       "      <th>1</th>\n",
       "      <td>2</td>\n",
       "      <td>Pleasure</td>\n",
       "    </tr>\n",
       "    <tr>\n",
       "      <th>2</th>\n",
       "      <td>3</td>\n",
       "      <td>Student</td>\n",
       "    </tr>\n",
       "  </tbody>\n",
       "</table>\n",
       "</div>"
      ],
      "text/plain": [
       "  state  state_id\n",
       "0     1  Business\n",
       "1     2  Pleasure\n",
       "2     3   Student"
      ]
     },
     "execution_count": 494,
     "metadata": {},
     "output_type": "execute_result"
    }
   ],
   "source": [
    "(\n",
    "pd.Series(parse_ref_file(i94_ref_file, 6, 7))\n",
    "    .to_frame()\n",
    "    .rename(columns={0: 'visa_id'})\n",
    "    .reset_index()\n",
    "    .rename(columns={'index': 'purpose'})\n",
    ").head()"
   ]
  },
  {
   "cell_type": "code",
   "execution_count": 497,
   "id": "4a1340e8",
   "metadata": {},
   "outputs": [
    {
     "data": {
      "text/plain": [
       "['GEN M. ESCOBEDO, Monterrey', ' MX']"
      ]
     },
     "execution_count": 497,
     "metadata": {},
     "output_type": "execute_result"
    }
   ],
   "source": [
    "'GEN M. ESCOBEDO, Monterrey, MX'.rsplit(',', 1)"
   ]
  },
  {
   "cell_type": "markdown",
   "id": "90d5adf3",
   "metadata": {},
   "source": [
    "## Build Airport dimensional table - airports"
   ]
  },
  {
   "cell_type": "code",
   "execution_count": 508,
   "id": "7b7c6b0e",
   "metadata": {},
   "outputs": [],
   "source": [
    "airport_file = r'../data/airport-codes.csv'\n",
    "airports = pd.read_csv(airport_file)"
   ]
  },
  {
   "cell_type": "code",
   "execution_count": 509,
   "id": "dac1f657",
   "metadata": {},
   "outputs": [
    {
     "data": {
      "text/plain": [
       "(55075, 12)"
      ]
     },
     "execution_count": 509,
     "metadata": {},
     "output_type": "execute_result"
    }
   ],
   "source": [
    "airports.shape"
   ]
  },
  {
   "cell_type": "code",
   "execution_count": 510,
   "id": "b59bf0e8",
   "metadata": {},
   "outputs": [
    {
     "data": {
      "text/html": [
       "<div>\n",
       "<style scoped>\n",
       "    .dataframe tbody tr th:only-of-type {\n",
       "        vertical-align: middle;\n",
       "    }\n",
       "\n",
       "    .dataframe tbody tr th {\n",
       "        vertical-align: top;\n",
       "    }\n",
       "\n",
       "    .dataframe thead th {\n",
       "        text-align: right;\n",
       "    }\n",
       "</style>\n",
       "<table border=\"1\" class=\"dataframe\">\n",
       "  <thead>\n",
       "    <tr style=\"text-align: right;\">\n",
       "      <th></th>\n",
       "      <th>ident</th>\n",
       "      <th>type</th>\n",
       "      <th>name</th>\n",
       "      <th>elevation_ft</th>\n",
       "      <th>continent</th>\n",
       "      <th>iso_country</th>\n",
       "      <th>iso_region</th>\n",
       "      <th>municipality</th>\n",
       "      <th>gps_code</th>\n",
       "      <th>iata_code</th>\n",
       "      <th>local_code</th>\n",
       "      <th>coordinates</th>\n",
       "    </tr>\n",
       "  </thead>\n",
       "  <tbody>\n",
       "    <tr>\n",
       "      <th>0</th>\n",
       "      <td>00A</td>\n",
       "      <td>heliport</td>\n",
       "      <td>Total Rf Heliport</td>\n",
       "      <td>11.0</td>\n",
       "      <td>NaN</td>\n",
       "      <td>US</td>\n",
       "      <td>US-PA</td>\n",
       "      <td>Bensalem</td>\n",
       "      <td>00A</td>\n",
       "      <td>NaN</td>\n",
       "      <td>00A</td>\n",
       "      <td>-74.93360137939453, 40.07080078125</td>\n",
       "    </tr>\n",
       "    <tr>\n",
       "      <th>1</th>\n",
       "      <td>00AA</td>\n",
       "      <td>small_airport</td>\n",
       "      <td>Aero B Ranch Airport</td>\n",
       "      <td>3435.0</td>\n",
       "      <td>NaN</td>\n",
       "      <td>US</td>\n",
       "      <td>US-KS</td>\n",
       "      <td>Leoti</td>\n",
       "      <td>00AA</td>\n",
       "      <td>NaN</td>\n",
       "      <td>00AA</td>\n",
       "      <td>-101.473911, 38.704022</td>\n",
       "    </tr>\n",
       "    <tr>\n",
       "      <th>2</th>\n",
       "      <td>00AK</td>\n",
       "      <td>small_airport</td>\n",
       "      <td>Lowell Field</td>\n",
       "      <td>450.0</td>\n",
       "      <td>NaN</td>\n",
       "      <td>US</td>\n",
       "      <td>US-AK</td>\n",
       "      <td>Anchor Point</td>\n",
       "      <td>00AK</td>\n",
       "      <td>NaN</td>\n",
       "      <td>00AK</td>\n",
       "      <td>-151.695999146, 59.94919968</td>\n",
       "    </tr>\n",
       "    <tr>\n",
       "      <th>3</th>\n",
       "      <td>00AL</td>\n",
       "      <td>small_airport</td>\n",
       "      <td>Epps Airpark</td>\n",
       "      <td>820.0</td>\n",
       "      <td>NaN</td>\n",
       "      <td>US</td>\n",
       "      <td>US-AL</td>\n",
       "      <td>Harvest</td>\n",
       "      <td>00AL</td>\n",
       "      <td>NaN</td>\n",
       "      <td>00AL</td>\n",
       "      <td>-86.77030181884766, 34.86479949951172</td>\n",
       "    </tr>\n",
       "    <tr>\n",
       "      <th>4</th>\n",
       "      <td>00AR</td>\n",
       "      <td>closed</td>\n",
       "      <td>Newport Hospital &amp; Clinic Heliport</td>\n",
       "      <td>237.0</td>\n",
       "      <td>NaN</td>\n",
       "      <td>US</td>\n",
       "      <td>US-AR</td>\n",
       "      <td>Newport</td>\n",
       "      <td>NaN</td>\n",
       "      <td>NaN</td>\n",
       "      <td>NaN</td>\n",
       "      <td>-91.254898, 35.6087</td>\n",
       "    </tr>\n",
       "  </tbody>\n",
       "</table>\n",
       "</div>"
      ],
      "text/plain": [
       "  ident           type                                name  elevation_ft  \\\n",
       "0   00A       heliport                   Total Rf Heliport          11.0   \n",
       "1  00AA  small_airport                Aero B Ranch Airport        3435.0   \n",
       "2  00AK  small_airport                        Lowell Field         450.0   \n",
       "3  00AL  small_airport                        Epps Airpark         820.0   \n",
       "4  00AR         closed  Newport Hospital & Clinic Heliport         237.0   \n",
       "\n",
       "  continent iso_country iso_region  municipality gps_code iata_code  \\\n",
       "0       NaN          US      US-PA      Bensalem      00A       NaN   \n",
       "1       NaN          US      US-KS         Leoti     00AA       NaN   \n",
       "2       NaN          US      US-AK  Anchor Point     00AK       NaN   \n",
       "3       NaN          US      US-AL       Harvest     00AL       NaN   \n",
       "4       NaN          US      US-AR       Newport      NaN       NaN   \n",
       "\n",
       "  local_code                            coordinates  \n",
       "0        00A     -74.93360137939453, 40.07080078125  \n",
       "1       00AA                 -101.473911, 38.704022  \n",
       "2       00AK            -151.695999146, 59.94919968  \n",
       "3       00AL  -86.77030181884766, 34.86479949951172  \n",
       "4        NaN                    -91.254898, 35.6087  "
      ]
     },
     "execution_count": 510,
     "metadata": {},
     "output_type": "execute_result"
    }
   ],
   "source": [
    "airports.head()"
   ]
  },
  {
   "cell_type": "code",
   "execution_count": 511,
   "id": "e2788c07",
   "metadata": {},
   "outputs": [
    {
     "data": {
      "text/plain": [
       "array(['US-PA', 'US-KS', 'US-AK', ..., 'MN-073', 'MN-1', 'MN-046'],\n",
       "      dtype=object)"
      ]
     },
     "execution_count": 511,
     "metadata": {},
     "output_type": "execute_result"
    }
   ],
   "source": [
    "airports['iso_region'].unique()"
   ]
  },
  {
   "cell_type": "code",
   "execution_count": 514,
   "id": "72493dd0",
   "metadata": {},
   "outputs": [
    {
     "data": {
      "text/plain": [
       "array(['US-PA', 'US-KS', 'US-AK', 'US-AL', 'US-AR', 'US-OK', 'US-AZ',\n",
       "       'US-CA', 'US-CO', 'US-FL', 'US-GA', 'US-HI', 'US-ID', 'US-IN',\n",
       "       'US-IL', 'US-KY', 'US-LA', 'US-MD', 'US-MI', 'US-MN', 'US-MO',\n",
       "       'US-MT', 'US-NJ', 'US-NC', 'US-NY', 'US-OH', 'US-OR', 'US-SC',\n",
       "       'US-SD', 'US-TX', 'US-TN', 'US-UT', 'US-VA', 'US-WA', 'US-WI',\n",
       "       'US-WV', 'US-WY', 'US-CT', 'US-IA', 'US-MA', 'US-ME', 'US-NE',\n",
       "       'US-NH', 'US-NM', 'US-NV', 'US-MS', 'US-ND', 'US-VT', 'US-RI',\n",
       "       'US-DC', 'US-DE', 'US-U-A'], dtype=object)"
      ]
     },
     "execution_count": 514,
     "metadata": {},
     "output_type": "execute_result"
    }
   ],
   "source": [
    "airports[airports['iso_region'].str.contains(r'^US')]['iso_region'].unique()"
   ]
  },
  {
   "cell_type": "code",
   "execution_count": 524,
   "id": "1a1dfa6c",
   "metadata": {},
   "outputs": [
    {
     "data": {
      "text/plain": [
       "ident            object\n",
       "type             object\n",
       "name             object\n",
       "elevation_ft    float64\n",
       "continent        object\n",
       "iso_country      object\n",
       "iso_region       object\n",
       "municipality     object\n",
       "gps_code         object\n",
       "iata_code        object\n",
       "local_code       object\n",
       "coordinates      object\n",
       "dtype: object"
      ]
     },
     "execution_count": 524,
     "metadata": {},
     "output_type": "execute_result"
    }
   ],
   "source": [
    "airports.dtypes"
   ]
  },
  {
   "cell_type": "code",
   "execution_count": 530,
   "id": "63aeda0f",
   "metadata": {},
   "outputs": [],
   "source": [
    "# should be able to directly read it into a Spark DF\n",
    "airports_spark = spark.read.option('header', True) \\\n",
    "                            .csv(airport_file)"
   ]
  },
  {
   "cell_type": "code",
   "execution_count": 531,
   "id": "562f535e",
   "metadata": {},
   "outputs": [
    {
     "name": "stdout",
     "output_type": "stream",
     "text": [
      "root\n",
      " |-- ident: string (nullable = true)\n",
      " |-- type: string (nullable = true)\n",
      " |-- name: string (nullable = true)\n",
      " |-- elevation_ft: string (nullable = true)\n",
      " |-- continent: string (nullable = true)\n",
      " |-- iso_country: string (nullable = true)\n",
      " |-- iso_region: string (nullable = true)\n",
      " |-- municipality: string (nullable = true)\n",
      " |-- gps_code: string (nullable = true)\n",
      " |-- iata_code: string (nullable = true)\n",
      " |-- local_code: string (nullable = true)\n",
      " |-- coordinates: string (nullable = true)\n",
      "\n"
     ]
    }
   ],
   "source": [
    "airports_spark.printSchema()"
   ]
  },
  {
   "cell_type": "code",
   "execution_count": 538,
   "id": "45eb3f70",
   "metadata": {},
   "outputs": [],
   "source": [
    "airports_spark.createOrReplaceTempView('airports')\n",
    "airports_sql = spark.sql(\"\"\"\n",
    "    SELECT\n",
    "        STRING(ident) AS airport_id,\n",
    "        type AS airport_type,\n",
    "        name AS airpot_name,\n",
    "        elevation_ft,\n",
    "        continent,\n",
    "        iso_country,\n",
    "        iso_region,\n",
    "        CASE WHEN iso_region LIKE 'US-%' THEN SPLIT(iso_region, '-')[1] ELSE NULL END AS us_cities,\n",
    "        municipality,\n",
    "        gps_code,\n",
    "        iata_code,\n",
    "        local_code,\n",
    "        CAST(SPLIT(coordinates, ',')[0] AS DOUBLE) AS latitude,\n",
    "        CAST(SPLIT(coordinates, ',')[1] AS DOUBLE) AS longitude\n",
    "    FROM\n",
    "        airports\n",
    "\"\"\")"
   ]
  },
  {
   "cell_type": "code",
   "execution_count": 539,
   "id": "8c254d38",
   "metadata": {},
   "outputs": [
    {
     "data": {
      "text/html": [
       "<div>\n",
       "<style scoped>\n",
       "    .dataframe tbody tr th:only-of-type {\n",
       "        vertical-align: middle;\n",
       "    }\n",
       "\n",
       "    .dataframe tbody tr th {\n",
       "        vertical-align: top;\n",
       "    }\n",
       "\n",
       "    .dataframe thead th {\n",
       "        text-align: right;\n",
       "    }\n",
       "</style>\n",
       "<table border=\"1\" class=\"dataframe\">\n",
       "  <thead>\n",
       "    <tr style=\"text-align: right;\">\n",
       "      <th></th>\n",
       "      <th>airport_id</th>\n",
       "      <th>airport_type</th>\n",
       "      <th>airpot_name</th>\n",
       "      <th>elevation_ft</th>\n",
       "      <th>continent</th>\n",
       "      <th>iso_country</th>\n",
       "      <th>iso_region</th>\n",
       "      <th>us_cities</th>\n",
       "      <th>municipality</th>\n",
       "      <th>gps_code</th>\n",
       "      <th>iata_code</th>\n",
       "      <th>local_code</th>\n",
       "      <th>latitude</th>\n",
       "      <th>longitude</th>\n",
       "    </tr>\n",
       "  </thead>\n",
       "  <tbody>\n",
       "    <tr>\n",
       "      <th>0</th>\n",
       "      <td>00A</td>\n",
       "      <td>heliport</td>\n",
       "      <td>Total Rf Heliport</td>\n",
       "      <td>11</td>\n",
       "      <td>NA</td>\n",
       "      <td>US</td>\n",
       "      <td>US-PA</td>\n",
       "      <td>PA</td>\n",
       "      <td>Bensalem</td>\n",
       "      <td>00A</td>\n",
       "      <td>None</td>\n",
       "      <td>00A</td>\n",
       "      <td>-74.933601</td>\n",
       "      <td>40.070801</td>\n",
       "    </tr>\n",
       "    <tr>\n",
       "      <th>1</th>\n",
       "      <td>00AA</td>\n",
       "      <td>small_airport</td>\n",
       "      <td>Aero B Ranch Airport</td>\n",
       "      <td>3435</td>\n",
       "      <td>NA</td>\n",
       "      <td>US</td>\n",
       "      <td>US-KS</td>\n",
       "      <td>KS</td>\n",
       "      <td>Leoti</td>\n",
       "      <td>00AA</td>\n",
       "      <td>None</td>\n",
       "      <td>00AA</td>\n",
       "      <td>-101.473911</td>\n",
       "      <td>38.704022</td>\n",
       "    </tr>\n",
       "    <tr>\n",
       "      <th>2</th>\n",
       "      <td>00AK</td>\n",
       "      <td>small_airport</td>\n",
       "      <td>Lowell Field</td>\n",
       "      <td>450</td>\n",
       "      <td>NA</td>\n",
       "      <td>US</td>\n",
       "      <td>US-AK</td>\n",
       "      <td>AK</td>\n",
       "      <td>Anchor Point</td>\n",
       "      <td>00AK</td>\n",
       "      <td>None</td>\n",
       "      <td>00AK</td>\n",
       "      <td>-151.695999</td>\n",
       "      <td>59.949200</td>\n",
       "    </tr>\n",
       "    <tr>\n",
       "      <th>3</th>\n",
       "      <td>00AL</td>\n",
       "      <td>small_airport</td>\n",
       "      <td>Epps Airpark</td>\n",
       "      <td>820</td>\n",
       "      <td>NA</td>\n",
       "      <td>US</td>\n",
       "      <td>US-AL</td>\n",
       "      <td>AL</td>\n",
       "      <td>Harvest</td>\n",
       "      <td>00AL</td>\n",
       "      <td>None</td>\n",
       "      <td>00AL</td>\n",
       "      <td>-86.770302</td>\n",
       "      <td>34.864799</td>\n",
       "    </tr>\n",
       "    <tr>\n",
       "      <th>4</th>\n",
       "      <td>00AR</td>\n",
       "      <td>closed</td>\n",
       "      <td>Newport Hospital &amp; Clinic Heliport</td>\n",
       "      <td>237</td>\n",
       "      <td>NA</td>\n",
       "      <td>US</td>\n",
       "      <td>US-AR</td>\n",
       "      <td>AR</td>\n",
       "      <td>Newport</td>\n",
       "      <td>None</td>\n",
       "      <td>None</td>\n",
       "      <td>None</td>\n",
       "      <td>-91.254898</td>\n",
       "      <td>35.608700</td>\n",
       "    </tr>\n",
       "  </tbody>\n",
       "</table>\n",
       "</div>"
      ],
      "text/plain": [
       "  airport_id   airport_type                         airpot_name elevation_ft  \\\n",
       "0        00A       heliport                   Total Rf Heliport           11   \n",
       "1       00AA  small_airport                Aero B Ranch Airport         3435   \n",
       "2       00AK  small_airport                        Lowell Field          450   \n",
       "3       00AL  small_airport                        Epps Airpark          820   \n",
       "4       00AR         closed  Newport Hospital & Clinic Heliport          237   \n",
       "\n",
       "  continent iso_country iso_region us_cities  municipality gps_code iata_code  \\\n",
       "0        NA          US      US-PA        PA      Bensalem      00A      None   \n",
       "1        NA          US      US-KS        KS         Leoti     00AA      None   \n",
       "2        NA          US      US-AK        AK  Anchor Point     00AK      None   \n",
       "3        NA          US      US-AL        AL       Harvest     00AL      None   \n",
       "4        NA          US      US-AR        AR       Newport     None      None   \n",
       "\n",
       "  local_code    latitude  longitude  \n",
       "0        00A  -74.933601  40.070801  \n",
       "1       00AA -101.473911  38.704022  \n",
       "2       00AK -151.695999  59.949200  \n",
       "3       00AL  -86.770302  34.864799  \n",
       "4       None  -91.254898  35.608700  "
      ]
     },
     "execution_count": 539,
     "metadata": {},
     "output_type": "execute_result"
    }
   ],
   "source": [
    "airports_sql.toPandas().head()"
   ]
  },
  {
   "cell_type": "markdown",
   "id": "43a34e63",
   "metadata": {},
   "source": [
    "## US Demographic dimension table"
   ]
  },
  {
   "cell_type": "code",
   "execution_count": 543,
   "id": "865b31ff",
   "metadata": {},
   "outputs": [],
   "source": [
    "us_demo_file = r'../data/us-cities-demographics.csv'\n",
    "us_demo = pd.read_csv(us_demo_file, sep=';')"
   ]
  },
  {
   "cell_type": "code",
   "execution_count": 544,
   "id": "045ca836",
   "metadata": {},
   "outputs": [
    {
     "data": {
      "text/plain": [
       "(2891, 12)"
      ]
     },
     "execution_count": 544,
     "metadata": {},
     "output_type": "execute_result"
    }
   ],
   "source": [
    "us_demo.shape"
   ]
  },
  {
   "cell_type": "code",
   "execution_count": 545,
   "id": "09d624ca",
   "metadata": {},
   "outputs": [
    {
     "data": {
      "text/html": [
       "<div>\n",
       "<style scoped>\n",
       "    .dataframe tbody tr th:only-of-type {\n",
       "        vertical-align: middle;\n",
       "    }\n",
       "\n",
       "    .dataframe tbody tr th {\n",
       "        vertical-align: top;\n",
       "    }\n",
       "\n",
       "    .dataframe thead th {\n",
       "        text-align: right;\n",
       "    }\n",
       "</style>\n",
       "<table border=\"1\" class=\"dataframe\">\n",
       "  <thead>\n",
       "    <tr style=\"text-align: right;\">\n",
       "      <th></th>\n",
       "      <th>City</th>\n",
       "      <th>State</th>\n",
       "      <th>Median Age</th>\n",
       "      <th>Male Population</th>\n",
       "      <th>Female Population</th>\n",
       "      <th>Total Population</th>\n",
       "      <th>Number of Veterans</th>\n",
       "      <th>Foreign-born</th>\n",
       "      <th>Average Household Size</th>\n",
       "      <th>State Code</th>\n",
       "      <th>Race</th>\n",
       "      <th>Count</th>\n",
       "    </tr>\n",
       "  </thead>\n",
       "  <tbody>\n",
       "    <tr>\n",
       "      <th>0</th>\n",
       "      <td>Silver Spring</td>\n",
       "      <td>Maryland</td>\n",
       "      <td>33.8</td>\n",
       "      <td>40601.0</td>\n",
       "      <td>41862.0</td>\n",
       "      <td>82463</td>\n",
       "      <td>1562.0</td>\n",
       "      <td>30908.0</td>\n",
       "      <td>2.60</td>\n",
       "      <td>MD</td>\n",
       "      <td>Hispanic or Latino</td>\n",
       "      <td>25924</td>\n",
       "    </tr>\n",
       "    <tr>\n",
       "      <th>1</th>\n",
       "      <td>Quincy</td>\n",
       "      <td>Massachusetts</td>\n",
       "      <td>41.0</td>\n",
       "      <td>44129.0</td>\n",
       "      <td>49500.0</td>\n",
       "      <td>93629</td>\n",
       "      <td>4147.0</td>\n",
       "      <td>32935.0</td>\n",
       "      <td>2.39</td>\n",
       "      <td>MA</td>\n",
       "      <td>White</td>\n",
       "      <td>58723</td>\n",
       "    </tr>\n",
       "    <tr>\n",
       "      <th>2</th>\n",
       "      <td>Hoover</td>\n",
       "      <td>Alabama</td>\n",
       "      <td>38.5</td>\n",
       "      <td>38040.0</td>\n",
       "      <td>46799.0</td>\n",
       "      <td>84839</td>\n",
       "      <td>4819.0</td>\n",
       "      <td>8229.0</td>\n",
       "      <td>2.58</td>\n",
       "      <td>AL</td>\n",
       "      <td>Asian</td>\n",
       "      <td>4759</td>\n",
       "    </tr>\n",
       "    <tr>\n",
       "      <th>3</th>\n",
       "      <td>Rancho Cucamonga</td>\n",
       "      <td>California</td>\n",
       "      <td>34.5</td>\n",
       "      <td>88127.0</td>\n",
       "      <td>87105.0</td>\n",
       "      <td>175232</td>\n",
       "      <td>5821.0</td>\n",
       "      <td>33878.0</td>\n",
       "      <td>3.18</td>\n",
       "      <td>CA</td>\n",
       "      <td>Black or African-American</td>\n",
       "      <td>24437</td>\n",
       "    </tr>\n",
       "    <tr>\n",
       "      <th>4</th>\n",
       "      <td>Newark</td>\n",
       "      <td>New Jersey</td>\n",
       "      <td>34.6</td>\n",
       "      <td>138040.0</td>\n",
       "      <td>143873.0</td>\n",
       "      <td>281913</td>\n",
       "      <td>5829.0</td>\n",
       "      <td>86253.0</td>\n",
       "      <td>2.73</td>\n",
       "      <td>NJ</td>\n",
       "      <td>White</td>\n",
       "      <td>76402</td>\n",
       "    </tr>\n",
       "  </tbody>\n",
       "</table>\n",
       "</div>"
      ],
      "text/plain": [
       "               City          State  Median Age  Male Population  \\\n",
       "0     Silver Spring       Maryland        33.8          40601.0   \n",
       "1            Quincy  Massachusetts        41.0          44129.0   \n",
       "2            Hoover        Alabama        38.5          38040.0   \n",
       "3  Rancho Cucamonga     California        34.5          88127.0   \n",
       "4            Newark     New Jersey        34.6         138040.0   \n",
       "\n",
       "   Female Population  Total Population  Number of Veterans  Foreign-born  \\\n",
       "0            41862.0             82463              1562.0       30908.0   \n",
       "1            49500.0             93629              4147.0       32935.0   \n",
       "2            46799.0             84839              4819.0        8229.0   \n",
       "3            87105.0            175232              5821.0       33878.0   \n",
       "4           143873.0            281913              5829.0       86253.0   \n",
       "\n",
       "   Average Household Size State Code                       Race  Count  \n",
       "0                    2.60         MD         Hispanic or Latino  25924  \n",
       "1                    2.39         MA                      White  58723  \n",
       "2                    2.58         AL                      Asian   4759  \n",
       "3                    3.18         CA  Black or African-American  24437  \n",
       "4                    2.73         NJ                      White  76402  "
      ]
     },
     "execution_count": 545,
     "metadata": {},
     "output_type": "execute_result"
    }
   ],
   "source": [
    "us_demo.head()"
   ]
  },
  {
   "cell_type": "code",
   "execution_count": 549,
   "id": "701c366b",
   "metadata": {},
   "outputs": [],
   "source": [
    "us_demo_spark = spark.read.options(header='True', delimiter=';') \\\n",
    "                            .csv(us_demo_file)"
   ]
  },
  {
   "cell_type": "code",
   "execution_count": 550,
   "id": "2d759c70",
   "metadata": {},
   "outputs": [
    {
     "name": "stdout",
     "output_type": "stream",
     "text": [
      "root\n",
      " |-- City: string (nullable = true)\n",
      " |-- State: string (nullable = true)\n",
      " |-- Median Age: string (nullable = true)\n",
      " |-- Male Population: string (nullable = true)\n",
      " |-- Female Population: string (nullable = true)\n",
      " |-- Total Population: string (nullable = true)\n",
      " |-- Number of Veterans: string (nullable = true)\n",
      " |-- Foreign-born: string (nullable = true)\n",
      " |-- Average Household Size: string (nullable = true)\n",
      " |-- State Code: string (nullable = true)\n",
      " |-- Race: string (nullable = true)\n",
      " |-- Count: string (nullable = true)\n",
      "\n"
     ]
    }
   ],
   "source": [
    "us_demo_spark.printSchema()"
   ]
  },
  {
   "cell_type": "code",
   "execution_count": 560,
   "id": "0f7688ac",
   "metadata": {},
   "outputs": [],
   "source": [
    "us_demo_spark.createOrReplaceTempView('us_states_demographics')\n",
    "states_sql = spark.sql(\"\"\"\n",
    "    SELECT\n",
    "        State AS state,\n",
    "        DOUBLE(`Median Age`) AS median_age,\n",
    "        INT(`Male Population`) AS male_population,\n",
    "        INT(`Female Population`) AS female_population,\n",
    "        INT(`Number of Veterans`) AS num_veterans,\n",
    "        INT(`Foreign-born`) AS num_foreign_born,\n",
    "        DOUBLE(`Average Household Size`) AS avg_household_size,\n",
    "        `State Code` AS state_code\n",
    "    FROM\n",
    "        us_states_demographics\n",
    "\"\"\")"
   ]
  },
  {
   "cell_type": "code",
   "execution_count": 561,
   "id": "25fb2565",
   "metadata": {},
   "outputs": [
    {
     "data": {
      "text/html": [
       "<div>\n",
       "<style scoped>\n",
       "    .dataframe tbody tr th:only-of-type {\n",
       "        vertical-align: middle;\n",
       "    }\n",
       "\n",
       "    .dataframe tbody tr th {\n",
       "        vertical-align: top;\n",
       "    }\n",
       "\n",
       "    .dataframe thead th {\n",
       "        text-align: right;\n",
       "    }\n",
       "</style>\n",
       "<table border=\"1\" class=\"dataframe\">\n",
       "  <thead>\n",
       "    <tr style=\"text-align: right;\">\n",
       "      <th></th>\n",
       "      <th>state</th>\n",
       "      <th>median_age</th>\n",
       "      <th>male_population</th>\n",
       "      <th>female_population</th>\n",
       "      <th>num_veterans</th>\n",
       "      <th>num_foreign_born</th>\n",
       "      <th>avg_household_size</th>\n",
       "      <th>state_code</th>\n",
       "    </tr>\n",
       "  </thead>\n",
       "  <tbody>\n",
       "    <tr>\n",
       "      <th>0</th>\n",
       "      <td>Maryland</td>\n",
       "      <td>33.8</td>\n",
       "      <td>40601.0</td>\n",
       "      <td>41862.0</td>\n",
       "      <td>1562.0</td>\n",
       "      <td>30908.0</td>\n",
       "      <td>2.60</td>\n",
       "      <td>MD</td>\n",
       "    </tr>\n",
       "    <tr>\n",
       "      <th>1</th>\n",
       "      <td>Massachusetts</td>\n",
       "      <td>41.0</td>\n",
       "      <td>44129.0</td>\n",
       "      <td>49500.0</td>\n",
       "      <td>4147.0</td>\n",
       "      <td>32935.0</td>\n",
       "      <td>2.39</td>\n",
       "      <td>MA</td>\n",
       "    </tr>\n",
       "    <tr>\n",
       "      <th>2</th>\n",
       "      <td>Alabama</td>\n",
       "      <td>38.5</td>\n",
       "      <td>38040.0</td>\n",
       "      <td>46799.0</td>\n",
       "      <td>4819.0</td>\n",
       "      <td>8229.0</td>\n",
       "      <td>2.58</td>\n",
       "      <td>AL</td>\n",
       "    </tr>\n",
       "    <tr>\n",
       "      <th>3</th>\n",
       "      <td>California</td>\n",
       "      <td>34.5</td>\n",
       "      <td>88127.0</td>\n",
       "      <td>87105.0</td>\n",
       "      <td>5821.0</td>\n",
       "      <td>33878.0</td>\n",
       "      <td>3.18</td>\n",
       "      <td>CA</td>\n",
       "    </tr>\n",
       "    <tr>\n",
       "      <th>4</th>\n",
       "      <td>New Jersey</td>\n",
       "      <td>34.6</td>\n",
       "      <td>138040.0</td>\n",
       "      <td>143873.0</td>\n",
       "      <td>5829.0</td>\n",
       "      <td>86253.0</td>\n",
       "      <td>2.73</td>\n",
       "      <td>NJ</td>\n",
       "    </tr>\n",
       "  </tbody>\n",
       "</table>\n",
       "</div>"
      ],
      "text/plain": [
       "           state  median_age  male_population  female_population  \\\n",
       "0       Maryland        33.8          40601.0            41862.0   \n",
       "1  Massachusetts        41.0          44129.0            49500.0   \n",
       "2        Alabama        38.5          38040.0            46799.0   \n",
       "3     California        34.5          88127.0            87105.0   \n",
       "4     New Jersey        34.6         138040.0           143873.0   \n",
       "\n",
       "   num_veterans  num_foreign_born  avg_household_size state_code  \n",
       "0        1562.0           30908.0                2.60         MD  \n",
       "1        4147.0           32935.0                2.39         MA  \n",
       "2        4819.0            8229.0                2.58         AL  \n",
       "3        5821.0           33878.0                3.18         CA  \n",
       "4        5829.0           86253.0                2.73         NJ  "
      ]
     },
     "execution_count": 561,
     "metadata": {},
     "output_type": "execute_result"
    }
   ],
   "source": [
    "states_sql.toPandas().head()"
   ]
  },
  {
   "cell_type": "code",
   "execution_count": 605,
   "id": "513dad87",
   "metadata": {},
   "outputs": [],
   "source": [
    "states_sql.write.mode('overwrite').csv('test')"
   ]
  },
  {
   "cell_type": "code",
   "execution_count": 574,
   "id": "26f3b80f",
   "metadata": {},
   "outputs": [],
   "source": [
    "us_demo_spark.createOrReplaceTempView('us_cities_demographics')\n",
    "cities_sql = spark.sql(\"\"\"\n",
    "    SELECT\n",
    "        UPPER(City) AS city,\n",
    "        Race AS race,\n",
    "        INT(Count) AS population\n",
    "    FROM\n",
    "        us_cities_demographics\n",
    "\"\"\")"
   ]
  },
  {
   "cell_type": "code",
   "execution_count": 575,
   "id": "234d6436",
   "metadata": {},
   "outputs": [
    {
     "data": {
      "text/html": [
       "<div>\n",
       "<style scoped>\n",
       "    .dataframe tbody tr th:only-of-type {\n",
       "        vertical-align: middle;\n",
       "    }\n",
       "\n",
       "    .dataframe tbody tr th {\n",
       "        vertical-align: top;\n",
       "    }\n",
       "\n",
       "    .dataframe thead th {\n",
       "        text-align: right;\n",
       "    }\n",
       "</style>\n",
       "<table border=\"1\" class=\"dataframe\">\n",
       "  <thead>\n",
       "    <tr style=\"text-align: right;\">\n",
       "      <th></th>\n",
       "      <th>city</th>\n",
       "      <th>race</th>\n",
       "      <th>population</th>\n",
       "    </tr>\n",
       "  </thead>\n",
       "  <tbody>\n",
       "    <tr>\n",
       "      <th>0</th>\n",
       "      <td>SILVER SPRING</td>\n",
       "      <td>Hispanic or Latino</td>\n",
       "      <td>25924</td>\n",
       "    </tr>\n",
       "    <tr>\n",
       "      <th>1</th>\n",
       "      <td>QUINCY</td>\n",
       "      <td>White</td>\n",
       "      <td>58723</td>\n",
       "    </tr>\n",
       "    <tr>\n",
       "      <th>2</th>\n",
       "      <td>HOOVER</td>\n",
       "      <td>Asian</td>\n",
       "      <td>4759</td>\n",
       "    </tr>\n",
       "    <tr>\n",
       "      <th>3</th>\n",
       "      <td>RANCHO CUCAMONGA</td>\n",
       "      <td>Black or African-American</td>\n",
       "      <td>24437</td>\n",
       "    </tr>\n",
       "    <tr>\n",
       "      <th>4</th>\n",
       "      <td>NEWARK</td>\n",
       "      <td>White</td>\n",
       "      <td>76402</td>\n",
       "    </tr>\n",
       "  </tbody>\n",
       "</table>\n",
       "</div>"
      ],
      "text/plain": [
       "               city                       race  population\n",
       "0     SILVER SPRING         Hispanic or Latino       25924\n",
       "1            QUINCY                      White       58723\n",
       "2            HOOVER                      Asian        4759\n",
       "3  RANCHO CUCAMONGA  Black or African-American       24437\n",
       "4            NEWARK                      White       76402"
      ]
     },
     "execution_count": 575,
     "metadata": {},
     "output_type": "execute_result"
    }
   ],
   "source": [
    "cities_sql.toPandas().head()"
   ]
  },
  {
   "cell_type": "code",
   "execution_count": 578,
   "id": "a8732e72",
   "metadata": {},
   "outputs": [
    {
     "name": "stdout",
     "output_type": "stream",
     "text": [
      "+----+----+----------+\n",
      "|city|race|population|\n",
      "+----+----+----------+\n",
      "+----+----+----------+\n",
      "\n"
     ]
    }
   ],
   "source": [
    "cities_sql.filter(F.col('city') == 'DALTONS CACHE').show()"
   ]
  },
  {
   "cell_type": "markdown",
   "id": "a848973a",
   "metadata": {},
   "source": [
    "## Date dimension"
   ]
  },
  {
   "cell_type": "code",
   "execution_count": 599,
   "id": "8962b370",
   "metadata": {},
   "outputs": [],
   "source": [
    "date = (\n",
    "        txns.select(\n",
    "                    F.col('arrival_date'), \n",
    "                    F.year('arrival_date').alias('year'),\n",
    "                    F.month('arrival_date').alias('month'),\n",
    "                    F.dayofmonth('arrival_date').alias('day'),\n",
    "                    F.dayofweek('arrival_date').alias('dayofweek'),\n",
    "                    F.when((F.dayofweek('arrival_date') == 1) | \n",
    "                           (F.dayofweek('arrival_date') == 7), 'weekend').otherwise('weekday').alias('is_weekend')\n",
    "        )\n",
    ")"
   ]
  },
  {
   "cell_type": "code",
   "execution_count": 600,
   "id": "c09ef051",
   "metadata": {},
   "outputs": [],
   "source": [
    "\n",
    "#     F.expr(\"case when F.dayofweek('arrival_date') == 1 or \\\n",
    "#                            F.dayofweek('arrival_date') == 7 then weekend else weekday end\").alias('is_weekend')"
   ]
  },
  {
   "cell_type": "code",
   "execution_count": 601,
   "id": "02477262",
   "metadata": {},
   "outputs": [
    {
     "name": "stdout",
     "output_type": "stream",
     "text": [
      "+------------+----+-----+---+---------+----------+\n",
      "|arrival_date|year|month|day|dayofweek|is_weekend|\n",
      "+------------+----+-----+---+---------+----------+\n",
      "|  2016-04-29|2016|    4| 29|        6|   weekday|\n",
      "|  2016-04-07|2016|    4|  7|        5|   weekday|\n",
      "|  2016-04-01|2016|    4|  1|        6|   weekday|\n",
      "|  2016-04-01|2016|    4|  1|        6|   weekday|\n",
      "|  2016-04-01|2016|    4|  1|        6|   weekday|\n",
      "|  2016-04-01|2016|    4|  1|        6|   weekday|\n",
      "|  2016-04-01|2016|    4|  1|        6|   weekday|\n",
      "|  2016-04-01|2016|    4|  1|        6|   weekday|\n",
      "|  2016-04-01|2016|    4|  1|        6|   weekday|\n",
      "|  2016-04-01|2016|    4|  1|        6|   weekday|\n",
      "|  2016-04-01|2016|    4|  1|        6|   weekday|\n",
      "|  2016-04-01|2016|    4|  1|        6|   weekday|\n",
      "|  2016-04-01|2016|    4|  1|        6|   weekday|\n",
      "|  2016-04-01|2016|    4|  1|        6|   weekday|\n",
      "|  2016-04-01|2016|    4|  1|        6|   weekday|\n",
      "|  2016-04-01|2016|    4|  1|        6|   weekday|\n",
      "|  2016-04-01|2016|    4|  1|        6|   weekday|\n",
      "|  2016-04-01|2016|    4|  1|        6|   weekday|\n",
      "|  2016-04-01|2016|    4|  1|        6|   weekday|\n",
      "|  2016-04-01|2016|    4|  1|        6|   weekday|\n",
      "+------------+----+-----+---+---------+----------+\n",
      "only showing top 20 rows\n",
      "\n"
     ]
    }
   ],
   "source": [
    "date.show()"
   ]
  },
  {
   "cell_type": "code",
   "execution_count": null,
   "id": "dbd32b01",
   "metadata": {},
   "outputs": [],
   "source": []
  }
 ],
 "metadata": {
  "kernelspec": {
   "display_name": "Python 3",
   "language": "python",
   "name": "python3"
  },
  "language_info": {
   "codemirror_mode": {
    "name": "ipython",
    "version": 3
   },
   "file_extension": ".py",
   "mimetype": "text/x-python",
   "name": "python",
   "nbconvert_exporter": "python",
   "pygments_lexer": "ipython3",
   "version": "3.9.2"
  }
 },
 "nbformat": 4,
 "nbformat_minor": 5
}
