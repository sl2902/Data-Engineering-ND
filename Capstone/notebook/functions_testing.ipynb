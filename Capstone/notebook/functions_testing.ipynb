{
 "cells": [
  {
   "cell_type": "code",
   "execution_count": 6,
   "id": "7318f377",
   "metadata": {},
   "outputs": [],
   "source": [
    "import os\n",
    "import sys\n",
    "import glob"
   ]
  },
  {
   "cell_type": "code",
   "execution_count": 2,
   "id": "a33bfaca",
   "metadata": {},
   "outputs": [
    {
     "name": "stdout",
     "output_type": "stream",
     "text": [
      "/Users/home/Documents/dend/Data-Engineering-ND/Capstone/notebook\r\n"
     ]
    }
   ],
   "source": [
    "!pwd"
   ]
  },
  {
   "cell_type": "code",
   "execution_count": 18,
   "id": "c3d61d6f",
   "metadata": {},
   "outputs": [
    {
     "name": "stdout",
     "output_type": "stream",
     "text": [
      ".DS_Store\n",
      "18-83510-I94-Data-2016\n",
      "airport-codes.csv\n",
      "us-cities-demographics.csv\n"
     ]
    }
   ],
   "source": [
    "path = r'/Users/home/Documents/dend/Data-Engineering-ND/Capstone/data'\n",
    "for files in os.listdir(path):\n",
    "    print(files)"
   ]
  },
  {
   "cell_type": "code",
   "execution_count": 9,
   "id": "14fedce3",
   "metadata": {},
   "outputs": [
    {
     "name": "stdout",
     "output_type": "stream",
     "text": [
      "/Users/home/Documents/dend/Data-Engineering-ND/Capstone/data/18-83510-I94-Data-2016\n",
      "/Users/home/Documents/dend/Data-Engineering-ND/Capstone/data/airport-codes.csv\n",
      "/Users/home/Documents/dend/Data-Engineering-ND/Capstone/data/us-cities-demographics.csv\n"
     ]
    }
   ],
   "source": [
    "for f in glob.glob(path+\"/*\"):\n",
    "    print(f)"
   ]
  },
  {
   "cell_type": "code",
   "execution_count": 19,
   "id": "4f3ab5f9",
   "metadata": {},
   "outputs": [
    {
     "name": "stdout",
     "output_type": "stream",
     "text": [
      "['.DS_Store', 'airport-codes.csv', 'us-cities-demographics.csv']\n",
      "['i94_nov16_sub.sas7bdat', 'i94_dec16_sub.sas7bdat', 'i94_sep16_sub.sas7bdat', 'i94_aug16_sub.sas7bdat', 'i94_may16_sub.sas7bdat', 'i94_jun16_sub.sas7bdat', 'i94_oct16_sub.sas7bdat', 'i94_apr16_sub.sas7bdat', 'i94_jan16_sub.sas7bdat', 'i94_jul16_sub.sas7bdat', 'i94_mar16_sub.sas7bdat', 'i94_feb16_sub.sas7bdat']\n"
     ]
    }
   ],
   "source": [
    "for _, _, f in os.walk(path):\n",
    "    print(f)"
   ]
  },
  {
   "cell_type": "code",
   "execution_count": 17,
   "id": "3671e90e",
   "metadata": {},
   "outputs": [
    {
     "data": {
      "text/plain": [
       "'/Users/home/Documents/dend/Data-Engineering-ND/Capstone/data/18-83510-I94-Data-2016'"
      ]
     },
     "execution_count": 17,
     "metadata": {},
     "output_type": "execute_result"
    }
   ],
   "source": [
    "path"
   ]
  },
  {
   "cell_type": "code",
   "execution_count": 80,
   "id": "8c085baf",
   "metadata": {},
   "outputs": [],
   "source": [
    "def copy_files(\n",
    "            source_path,\n",
    "            file_ext,\n",
    "            s3_bucket,\n",
    "            s3_sas_key,\n",
    "            src_files=None):\n",
    "    for path,_,files in os.walk(source_path):\n",
    "        try:\n",
    "            for file in files:\n",
    "                if src_files is not None:\n",
    "                    if file.endswith(file_ext) and file in src_files:\n",
    "                        print(file)\n",
    "                    else:\n",
    "                        print(f'File {file} doesnt end with extension {file_ext}')\n",
    "                else:\n",
    "                    if file.endswith(file_ext):\n",
    "                        print(f'Copied file {file} into S3 bucket...')\n",
    "                    else:\n",
    "                        print(f'File {file} doesnt end with extension {file_ext}')\n",
    "\n",
    "        except Exception as e:\n",
    "            print(f'Failed to copy {file} into S3 bucket...')"
   ]
  },
  {
   "cell_type": "code",
   "execution_count": 82,
   "id": "11121c5a",
   "metadata": {},
   "outputs": [
    {
     "name": "stdout",
     "output_type": "stream",
     "text": [
      "File .DS_Store doesnt end with extension sas7bdat\n",
      "File airport-codes.csv doesnt end with extension sas7bdat\n",
      "File us-cities-demographics.csv doesnt end with extension sas7bdat\n",
      "File i94_nov16_sub.sas7bdat doesnt end with extension sas7bdat\n",
      "File i94_dec16_sub.sas7bdat doesnt end with extension sas7bdat\n",
      "File i94_sep16_sub.sas7bdat doesnt end with extension sas7bdat\n",
      "i94_aug16_sub.sas7bdat\n",
      "File i94_may16_sub.sas7bdat doesnt end with extension sas7bdat\n",
      "File i94_jun16_sub.sas7bdat doesnt end with extension sas7bdat\n",
      "File i94_oct16_sub.sas7bdat doesnt end with extension sas7bdat\n",
      "i94_apr16_sub.sas7bdat\n",
      "File i94_jan16_sub.sas7bdat doesnt end with extension sas7bdat\n",
      "File i94_jul16_sub.sas7bdat doesnt end with extension sas7bdat\n",
      "File i94_mar16_sub.sas7bdat doesnt end with extension sas7bdat\n",
      "File i94_feb16_sub.sas7bdat doesnt end with extension sas7bdat\n"
     ]
    }
   ],
   "source": [
    "path = r'/Users/home/Documents/dend/Data-Engineering-ND/Capstone/data'\n",
    "src_files = [\"i94_apr16_sub.sas7bdat\", \"i94_aug16_sub.sas7bdat\"]\n",
    "copy_files(path, 'sas7bdat', 'something', 'anotherthing', src_files)"
   ]
  },
  {
   "cell_type": "code",
   "execution_count": 49,
   "id": "0768ca45",
   "metadata": {},
   "outputs": [
    {
     "data": {
      "text/plain": [
       "True"
      ]
     },
     "execution_count": 49,
     "metadata": {},
     "output_type": "execute_result"
    }
   ],
   "source": [
    "'i94_nov16_sub.sas7bdat'.endswith('sas7bdat')"
   ]
  },
  {
   "cell_type": "code",
   "execution_count": null,
   "id": "b9ce28a7",
   "metadata": {},
   "outputs": [],
   "source": []
  }
 ],
 "metadata": {
  "kernelspec": {
   "display_name": "Python 3",
   "language": "python",
   "name": "python3"
  },
  "language_info": {
   "codemirror_mode": {
    "name": "ipython",
    "version": 3
   },
   "file_extension": ".py",
   "mimetype": "text/x-python",
   "name": "python",
   "nbconvert_exporter": "python",
   "pygments_lexer": "ipython3",
   "version": "3.6.13"
  }
 },
 "nbformat": 4,
 "nbformat_minor": 5
}
